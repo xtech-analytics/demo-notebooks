{
 "cells": [
  {
   "cell_type": "markdown",
   "metadata": {},
   "source": [
    "# LSEG's Global Macro Forecasts Demo Notebook\n",
    "## Access the forecasts with Unifier API"
   ]
  },
  {
   "cell_type": "code",
   "execution_count": 16,
   "metadata": {},
   "outputs": [],
   "source": [
    "import os\n",
    "import pandas as pd\n",
    "import plotly.graph_objects as go"
   ]
  },
  {
   "cell_type": "markdown",
   "metadata": {},
   "source": [
    "## Simply Import Unifier and Go!"
   ]
  },
  {
   "cell_type": "code",
   "execution_count": 17,
   "metadata": {},
   "outputs": [],
   "source": [
    "#If you have not installed unifier you can do so by running the following command:\n",
    "# !pip install unifier\n",
    "\n",
    "from unifier import unifier"
   ]
  },
  {
   "cell_type": "code",
   "execution_count": 18,
   "metadata": {},
   "outputs": [],
   "source": [
    "#\n",
    "unifier.user = 'unifier username'\n",
    "unifier.token ='unifier api token'\n",
    "os.environ['UNIFIER_USER'] = unifier.user\n",
    "os.environ['UNIFIER_TOKEN'] = unifier.token"
   ]
  },
  {
   "cell_type": "markdown",
   "metadata": {},
   "source": [
    "Your 'unifier username' is your account email address, and your 'unifier api token' is your account api token found in the access my data page."
   ]
  },
  {
   "cell_type": "code",
   "execution_count": 19,
   "metadata": {},
   "outputs": [],
   "source": [
    "import plotly.graph_objects as go\n",
    "\n",
    "def plot_forecasts(df, plot_type='index'):\n",
    "    if plot_type not in ['mom', 'yoy', 'index']:\n",
    "        raise ValueError(\"plot_type must be 'mom', 'yoy', or 'index'\")\n",
    "\n",
    "    actual_col = f'{plot_type}_actual'\n",
    "    predicted_col = f'{plot_type}_predicted'\n",
    "\n",
    "    plot_type_map = {\n",
    "        'mom': 'Month-over-Month',\n",
    "        'yoy': 'Year-over-Year',\n",
    "        'index': 'Index Level'\n",
    "    }\n",
    "\n",
    "    base_title = df['identifier'].iloc[0] if 'identifier' in df.columns else 'Forecast'\n",
    "    title = f\"{base_title} - {plot_type_map[plot_type]}\"\n",
    "    y_label = 'Percentage Change' if plot_type in ['mom', 'yoy'] else 'Change'\n",
    "\n",
    "    fig = go.Figure()\n",
    "\n",
    "    # Actual values\n",
    "    fig.add_trace(go.Scatter(\n",
    "        x=df['timestamp'],\n",
    "        y=df[actual_col],\n",
    "        mode='lines+markers',\n",
    "        name='Actual',\n",
    "        line=dict(color='royalblue'),\n",
    "        marker=dict(symbol='circle', size=6)\n",
    "    ))\n",
    "\n",
    "    # Predicted values\n",
    "    fig.add_trace(go.Scatter(\n",
    "        x=df['timestamp'],\n",
    "        y=df[predicted_col],\n",
    "        mode='lines+markers',\n",
    "        name='Predicted',\n",
    "        line=dict(color='firebrick'),\n",
    "        marker=dict(symbol='x', size=6)\n",
    "    ))\n",
    "\n",
    "    fig.update_layout(\n",
    "        title=title,\n",
    "        xaxis_title='Time',\n",
    "        yaxis_title=y_label,\n",
    "        hovermode='x unified',\n",
    "        legend=dict(x=0.01, y=0.99, bgcolor='rgba(255,255,255,0.5)', bordercolor='gray'),\n",
    "        template='plotly_white',\n",
    "        margin=dict(l=40, r=20, t=60, b=40),\n",
    "        height=500\n",
    "    )\n",
    "\n",
    "    fig.update_xaxes(tickangle=45, tickformat='%Y-%m')\n",
    "\n",
    "    fig.show()"
   ]
  },
  {
   "cell_type": "markdown",
   "metadata": {},
   "source": [
    "# LSEG's Global Macro Forecasts\n",
    "### Advanced economic indicators powered by Exponential Technology\n",
    "## Overview\n",
    "\n",
    "Global Macro Forecasts leverage cutting-edge indicators to provide actionable insights into global economic trends. The initial release includes forecasts that predict the impacts of US Consumer Price Index (CPI), US Retail Sales, Conference Board Consumer Confidence Index and Michigan Consumer Sentiment Index, which can enable investors to re-position ahead of macroeconomic releases, to arbitrage incorrect consensus views and to exploit transitory over/under reactions when official releases differ from market expectations.\n",
    "\n",
    "## Key Differentiators\n",
    "\n",
    "Historically, institutional investors have relied primarily on consensus economic estimates from brokers to anticipate upcoming macroeconomic releases. However, accurate and timely market intelligence regarding these macroeconomic indicators can significantly influence investment outcomes. LSEG Research employs bottom-up, fundamental modeling techniques for each macroeconomic release, combining decades of industry experience, novel real-time business activity and survey data, machine learning algorithms, and advanced statistical methods to accurately forecast economic indicators weeks in advance.\n",
    "\n",
    "Global Macro Forecasts provide one-period-ahead forecasts of critical macroeconomic indicators well before consensus estimates are available, offering users an informational advantage ahead of official release dates. Unlike traditional forecasts based on surveys or lagging indicators, LSEG's predictive dataset incorporates real-time data streams, forward-looking survey responses, and meticulously curated point-in-time economic data to ensure timely, reliable predictions.\n",
    "\n",
    "\n",
    "## Applications\n",
    "\n",
    "This dataset is invaluable for:\n",
    "\n",
    "- Positioning portfolios ahead of macroeconomic releases to capture market-moving events before prices adjust \n",
    "\n",
    "- Enhancing trading strategies through the integration of macro forecasts into directional or relative-value trades \n",
    "\n",
    "- Arbitrage market mispricing when consensus estimates are not aligned with actual data in advance of macroeconomic data release \n",
    "- Managing risk exposure by adjusting portfolio allocations in anticipation of changes in inflation, growth, or consumer spending  \n",
    "\n",
    "### Common Identifiers and Examples\n",
    "\n",
    "Here are some **identifiers** for the LSEG Global Macro Forecasts:\n",
    "\n",
    "Each **identifier** is associated with a forecast, and each forecast has a unique **identifier**\n",
    "\n",
    "\n",
    "\n",
    "\n",
    "| **Name**                                 | **Identifier** | **Forecast Date**                            | **Description**                                                                                                     |\n",
    "|------------------------------------------|----------------|----------------------------------------------|---------------------------------------------------------------------------------------------------------------------|\n",
    "| CPI First Forecast                        | `cpiaucsl_all_adjusted_mon3_bom_cur`                | 3rd Monday of Current Month | CPI measures the change in prices paid by consumers for a basket of goods and services over time. |\n",
    "| CPI Second Forecast                       |  `cpiaucsl_all_adjusted_td3_bom_nxt`              | 3rd Trading Day of Following Month           | Same CPI forecast but incorporates additional data.                                                                |\n",
    "| CPI Third Forecast                        |   `cpiaucsl_all_adjusted_td2_br_nxt`             | 2 Trading Days before CPI Release            | Same CPI forecast but incorporates additional data.                                                                |\n",
    "| US Retail Sales                           |   `usrettotb_all_adjusted_d15_bom_cur`             | 15th of Current Month                  | Measures the total monthly sales of goods and food services by retail businesses in the U.S.                                                 |\n",
    "| Conference Board Consumer Confidence Index|  `uscnfconq_all_adjusted_d15_bom_cur`              | 15th of Current Month                  | Assesses consumer sentiment about current and future economic conditions based on survey responses.                |\n",
    "| Michigan Consumer Sentiment Index         |   `usumconsh_all_adjusted_d15_bom_cur`             | 15th of Current Month                  | Measures consumer confidence in economic conditions based on household survey data.                                |\n",
    "\n",
    "---\n",
    "\n",
    "### Identifier Format Guide\n",
    "\n",
    "Each forecast identifier follows this structure:\n",
    "\n",
    "```\n",
    "<economic_series>_<category>_<adjustment>_<forecast_time>\n",
    "```\n",
    "\n",
    "#### Example\n",
    "```\n",
    "cpiaucsl_gas_adjusted_mon3_bom_cur\n",
    "```\n",
    "\n",
    "- `cpiaucsl`: Economic series (e.g., CPI All Urban Consumers)\n",
    "- `gas`: Forecast category (e.g., gas, shelter, food, etc.)\n",
    "- `adjusted`: Seasonal adjustment status (`adjusted` or `unadjusted`)\n",
    "- `mon3_bom_cur`: Forecast timing\n",
    "\n",
    "---\n",
    "\n",
    "### Forecast Time Structure\n",
    "\n",
    "Format:\n",
    "```\n",
    "<day_type><number>_<anchor>_<month_ref>\n",
    "```\n",
    "\n",
    "| **Component**  | **Description**                                                                 | **Examples**         |\n",
    "|----------------|----------------------------------------------------------------------------------|----------------------|\n",
    "| `day_type`     | Type of day:<br>• `mon`, `tue`, `wed`, etc. = weekday<br>• `td` = trading day<br>• `d` = calendar day | `mon3`, `td2`, `d15` |\n",
    "| `anchor`       | Anchor point:<br>• `bom` = beginning of month<br>• `br` = before release         | `bom`, `br`          |\n",
    "| `month_ref`    | Month reference:<br>• `cur` = current month<br>• `nxt` = next month              | `cur`, `nxt`         |\n",
    "\n",
    "---\n",
    "\n",
    "### Forecast Time Examples\n",
    "\n",
    "| **Forecast Time**    | **Meaning**                                           |\n",
    "|----------------------|-------------------------------------------------------|\n",
    "| `mon3_bom_cur`       | 3rd Monday from beginning of current month            |\n",
    "| `td2_br_nxt`         | 2 trading days before release of next month           |\n",
    "| `d15_bom_cur`        | 15 calendar days from beginning of current month      |\n",
    "| `td3_bom_nxt`        | 3rd trading day from beginning of next month          |\n",
    "| `tue1_bom_cur`       | 1st Tuesday from beginning of current month           |\n",
    "\n",
    "---\n",
    "\n",
    "\n",
    "\n",
    "For the full list of **identifiers** please refer to the sidecar table shown below\n",
    "\n",
    "---"
   ]
  },
  {
   "cell_type": "markdown",
   "metadata": {},
   "source": [
    "# Retrieve all identifiers and associated details\n",
    "\n",
    "Use **df = unifier.get_dataframe(name='xtech_macro_us_predictions_ident')** to access the sidecar table that provides all the identifiers and associated details"
   ]
  },
  {
   "cell_type": "code",
   "execution_count": 20,
   "metadata": {},
   "outputs": [
    {
     "name": "stdout",
     "output_type": "stream",
     "text": [
      "ErrorCode: 401\n",
      "Short Description: Token authentication failed\n",
      "Technical Instructions:\n",
      "If contacting your internal technical support team, provide the following details:\n",
      "- ErrorCode: 401\n",
      "- Error Message: Ensure your token is valid and has not expired. Verify that your token matches the one provided in your account.\n",
      "\n",
      "Firewall Configuration:\n",
      "The following endpoints and ports must be allowed in your firewall:\n",
      "- Endpoint: https://unifier.exponential-tech.ai\n",
      "- Ports: 80 (HTTP), 443 (HTTPS)\n",
      "- Protocol: TCP\n",
      "\n",
      "For direct support, contact support@exponential-tech.ai.\n"
     ]
    },
    {
     "data": {
      "text/html": [
       "<div>\n",
       "<style scoped>\n",
       "    .dataframe tbody tr th:only-of-type {\n",
       "        vertical-align: middle;\n",
       "    }\n",
       "\n",
       "    .dataframe tbody tr th {\n",
       "        vertical-align: top;\n",
       "    }\n",
       "\n",
       "    .dataframe thead th {\n",
       "        text-align: right;\n",
       "    }\n",
       "</style>\n",
       "<table border=\"1\" class=\"dataframe\">\n",
       "  <thead>\n",
       "    <tr style=\"text-align: right;\">\n",
       "      <th></th>\n",
       "    </tr>\n",
       "  </thead>\n",
       "  <tbody>\n",
       "  </tbody>\n",
       "</table>\n",
       "</div>"
      ],
      "text/plain": [
       "Empty DataFrame\n",
       "Columns: []\n",
       "Index: []"
      ]
     },
     "execution_count": 20,
     "metadata": {},
     "output_type": "execute_result"
    }
   ],
   "source": [
    "df = unifier.get_dataframe(name='lseg_macro_us_core_predictions_ident')\n",
    "df"
   ]
  },
  {
   "cell_type": "markdown",
   "metadata": {},
   "source": [
    "# Query LSEG's Global Macro Forecasts dataset with one line of code:\n",
    "\n",
    "**example: df = unifier.get_dataframe(name='xtech_macro_us_core_predictions', key='cpiaucsl_all_adjusted_mon3_bom_cur', asof_date='2025-04-01' ,back_to='2020-01-01',up_to='2025-03-31', limit=None)**\n",
    "\n",
    "**key = cpiaucsl_all_adjusted_mon3_bom_cur**\n",
    "- This is the identifier for the CPI First Forecast from above\n",
    "\n",
    "**asof_date='2025-04-01'**\n",
    "- this represents the point in time from which you view this dataset, capturing how the data looked as of this date\n",
    "- you can also see all the available asof_dates with unifier.get_asof_dates(name='xtech_macro_us_core_predictions')\n",
    "\n",
    "**back_to='2020-01-01',up_to='2025-03-31'**\n",
    "- back_to and up_to is the range of the data you want to query\n",
    "\n",
    "**note**\n",
    "- asof_date must be on or after the up_to date, or else the data query will not be successful\n",
    "- you can leave asof_date = None, and it will automatically choose the most recent asof_date"
   ]
  },
  {
   "cell_type": "markdown",
   "metadata": {},
   "source": [
    "### Example: Query CPI First Forecast All"
   ]
  },
  {
   "cell_type": "code",
   "execution_count": 21,
   "metadata": {},
   "outputs": [
    {
     "name": "stdout",
     "output_type": "stream",
     "text": [
      "ErrorCode: 401\n",
      "Short Description: Token authentication failed\n",
      "Technical Instructions:\n",
      "If contacting your internal technical support team, provide the following details:\n",
      "- ErrorCode: 401\n",
      "- Error Message: Ensure your token is valid and has not expired. Verify that your token matches the one provided in your account.\n",
      "\n",
      "Firewall Configuration:\n",
      "The following endpoints and ports must be allowed in your firewall:\n",
      "- Endpoint: https://unifier.exponential-tech.ai\n",
      "- Ports: 80 (HTTP), 443 (HTTPS)\n",
      "- Protocol: TCP\n",
      "\n",
      "For direct support, contact support@exponential-tech.ai.\n"
     ]
    },
    {
     "data": {
      "text/html": [
       "<div>\n",
       "<style scoped>\n",
       "    .dataframe tbody tr th:only-of-type {\n",
       "        vertical-align: middle;\n",
       "    }\n",
       "\n",
       "    .dataframe tbody tr th {\n",
       "        vertical-align: top;\n",
       "    }\n",
       "\n",
       "    .dataframe thead th {\n",
       "        text-align: right;\n",
       "    }\n",
       "</style>\n",
       "<table border=\"1\" class=\"dataframe\">\n",
       "  <thead>\n",
       "    <tr style=\"text-align: right;\">\n",
       "      <th></th>\n",
       "    </tr>\n",
       "  </thead>\n",
       "  <tbody>\n",
       "  </tbody>\n",
       "</table>\n",
       "</div>"
      ],
      "text/plain": [
       "Empty DataFrame\n",
       "Columns: []\n",
       "Index: []"
      ]
     },
     "execution_count": 21,
     "metadata": {},
     "output_type": "execute_result"
    }
   ],
   "source": [
    "df = unifier.get_dataframe(name='lseg_macro_us_core_predictions', key='cpiaucsl_all_adjusted_mon3_bom_cur',asof_date=None)\n",
    "df.tail(10)"
   ]
  },
  {
   "cell_type": "markdown",
   "metadata": {},
   "source": [
    "### Example: Plotting the Forecast vs Actual\n",
    "- plot the forecasts using the function plot_forecasts(), and for the plot_type parameter, set 'mom' ,'yoy', or 'index' to plot the corresponding form"
   ]
  },
  {
   "cell_type": "code",
   "execution_count": 22,
   "metadata": {},
   "outputs": [
    {
     "ename": "KeyError",
     "evalue": "'timestamp'",
     "output_type": "error",
     "traceback": [
      "\u001b[31m---------------------------------------------------------------------------\u001b[39m",
      "\u001b[31mKeyError\u001b[39m                                  Traceback (most recent call last)",
      "\u001b[36mCell\u001b[39m\u001b[36m \u001b[39m\u001b[32mIn[22]\u001b[39m\u001b[32m, line 1\u001b[39m\n\u001b[32m----> \u001b[39m\u001b[32m1\u001b[39m \u001b[43mplot_forecasts\u001b[49m\u001b[43m(\u001b[49m\u001b[43mdf\u001b[49m\u001b[43m,\u001b[49m\u001b[43mplot_type\u001b[49m\u001b[43m=\u001b[49m\u001b[33;43m'\u001b[39;49m\u001b[33;43mmom\u001b[39;49m\u001b[33;43m'\u001b[39;49m\u001b[43m)\u001b[49m\n",
      "\u001b[36mCell\u001b[39m\u001b[36m \u001b[39m\u001b[32mIn[19]\u001b[39m\u001b[32m, line 24\u001b[39m, in \u001b[36mplot_forecasts\u001b[39m\u001b[34m(df, plot_type)\u001b[39m\n\u001b[32m     20\u001b[39m fig = go.Figure()\n\u001b[32m     22\u001b[39m \u001b[38;5;66;03m# Actual values\u001b[39;00m\n\u001b[32m     23\u001b[39m fig.add_trace(go.Scatter(\n\u001b[32m---> \u001b[39m\u001b[32m24\u001b[39m     x=\u001b[43mdf\u001b[49m\u001b[43m[\u001b[49m\u001b[33;43m'\u001b[39;49m\u001b[33;43mtimestamp\u001b[39;49m\u001b[33;43m'\u001b[39;49m\u001b[43m]\u001b[49m,\n\u001b[32m     25\u001b[39m     y=df[actual_col],\n\u001b[32m     26\u001b[39m     mode=\u001b[33m'\u001b[39m\u001b[33mlines+markers\u001b[39m\u001b[33m'\u001b[39m,\n\u001b[32m     27\u001b[39m     name=\u001b[33m'\u001b[39m\u001b[33mActual\u001b[39m\u001b[33m'\u001b[39m,\n\u001b[32m     28\u001b[39m     line=\u001b[38;5;28mdict\u001b[39m(color=\u001b[33m'\u001b[39m\u001b[33mroyalblue\u001b[39m\u001b[33m'\u001b[39m),\n\u001b[32m     29\u001b[39m     marker=\u001b[38;5;28mdict\u001b[39m(symbol=\u001b[33m'\u001b[39m\u001b[33mcircle\u001b[39m\u001b[33m'\u001b[39m, size=\u001b[32m6\u001b[39m)\n\u001b[32m     30\u001b[39m ))\n\u001b[32m     32\u001b[39m \u001b[38;5;66;03m# Predicted values\u001b[39;00m\n\u001b[32m     33\u001b[39m fig.add_trace(go.Scatter(\n\u001b[32m     34\u001b[39m     x=df[\u001b[33m'\u001b[39m\u001b[33mtimestamp\u001b[39m\u001b[33m'\u001b[39m],\n\u001b[32m     35\u001b[39m     y=df[predicted_col],\n\u001b[32m   (...)\u001b[39m\u001b[32m     39\u001b[39m     marker=\u001b[38;5;28mdict\u001b[39m(symbol=\u001b[33m'\u001b[39m\u001b[33mx\u001b[39m\u001b[33m'\u001b[39m, size=\u001b[32m6\u001b[39m)\n\u001b[32m     40\u001b[39m ))\n",
      "\u001b[36mFile \u001b[39m\u001b[32m/opt/miniconda3/lib/python3.13/site-packages/pandas/core/frame.py:4107\u001b[39m, in \u001b[36mDataFrame.__getitem__\u001b[39m\u001b[34m(self, key)\u001b[39m\n\u001b[32m   4105\u001b[39m \u001b[38;5;28;01mif\u001b[39;00m \u001b[38;5;28mself\u001b[39m.columns.nlevels > \u001b[32m1\u001b[39m:\n\u001b[32m   4106\u001b[39m     \u001b[38;5;28;01mreturn\u001b[39;00m \u001b[38;5;28mself\u001b[39m._getitem_multilevel(key)\n\u001b[32m-> \u001b[39m\u001b[32m4107\u001b[39m indexer = \u001b[38;5;28;43mself\u001b[39;49m\u001b[43m.\u001b[49m\u001b[43mcolumns\u001b[49m\u001b[43m.\u001b[49m\u001b[43mget_loc\u001b[49m\u001b[43m(\u001b[49m\u001b[43mkey\u001b[49m\u001b[43m)\u001b[49m\n\u001b[32m   4108\u001b[39m \u001b[38;5;28;01mif\u001b[39;00m is_integer(indexer):\n\u001b[32m   4109\u001b[39m     indexer = [indexer]\n",
      "\u001b[36mFile \u001b[39m\u001b[32m/opt/miniconda3/lib/python3.13/site-packages/pandas/core/indexes/range.py:417\u001b[39m, in \u001b[36mRangeIndex.get_loc\u001b[39m\u001b[34m(self, key)\u001b[39m\n\u001b[32m    415\u001b[39m         \u001b[38;5;28;01mraise\u001b[39;00m \u001b[38;5;167;01mKeyError\u001b[39;00m(key) \u001b[38;5;28;01mfrom\u001b[39;00m\u001b[38;5;250m \u001b[39m\u001b[34;01merr\u001b[39;00m\n\u001b[32m    416\u001b[39m \u001b[38;5;28;01mif\u001b[39;00m \u001b[38;5;28misinstance\u001b[39m(key, Hashable):\n\u001b[32m--> \u001b[39m\u001b[32m417\u001b[39m     \u001b[38;5;28;01mraise\u001b[39;00m \u001b[38;5;167;01mKeyError\u001b[39;00m(key)\n\u001b[32m    418\u001b[39m \u001b[38;5;28mself\u001b[39m._check_indexing_error(key)\n\u001b[32m    419\u001b[39m \u001b[38;5;28;01mraise\u001b[39;00m \u001b[38;5;167;01mKeyError\u001b[39;00m(key)\n",
      "\u001b[31mKeyError\u001b[39m: 'timestamp'"
     ]
    }
   ],
   "source": [
    "plot_forecasts(df,plot_type='mom')"
   ]
  },
  {
   "cell_type": "code",
   "execution_count": null,
   "metadata": {},
   "outputs": [
    {
     "data": {
      "application/vnd.plotly.v1+json": {
       "config": {
        "plotlyServerURL": "https://plot.ly"
       },
       "data": [
        {
         "line": {
          "color": "royalblue"
         },
         "marker": {
          "size": 6,
          "symbol": "circle"
         },
         "mode": "lines+markers",
         "name": "Actual",
         "type": "scatter",
         "x": [
          "2017-11-01 00:00:00.000",
          "2017-12-01 00:00:00.000",
          "2018-01-01 00:00:00.000",
          "2018-02-01 00:00:00.000",
          "2018-03-01 00:00:00.000",
          "2018-04-01 00:00:00.000",
          "2018-05-01 00:00:00.000",
          "2018-06-01 00:00:00.000",
          "2018-07-01 00:00:00.000",
          "2018-08-01 00:00:00.000",
          "2018-09-01 00:00:00.000",
          "2018-10-01 00:00:00.000",
          "2018-11-01 00:00:00.000",
          "2018-12-01 00:00:00.000",
          "2019-01-01 00:00:00.000",
          "2019-02-01 00:00:00.000",
          "2019-03-01 00:00:00.000",
          "2019-04-01 00:00:00.000",
          "2019-05-01 00:00:00.000",
          "2019-06-01 00:00:00.000",
          "2019-07-01 00:00:00.000",
          "2019-08-01 00:00:00.000",
          "2019-09-01 00:00:00.000",
          "2019-10-01 00:00:00.000",
          "2019-11-01 00:00:00.000",
          "2019-12-01 00:00:00.000",
          "2020-01-01 00:00:00.000",
          "2020-02-01 00:00:00.000",
          "2020-03-01 00:00:00.000",
          "2020-04-01 00:00:00.000",
          "2020-05-01 00:00:00.000",
          "2020-06-01 00:00:00.000",
          "2020-07-01 00:00:00.000",
          "2020-08-01 00:00:00.000",
          "2020-09-01 00:00:00.000",
          "2020-10-01 00:00:00.000",
          "2020-11-01 00:00:00.000",
          "2020-12-01 00:00:00.000",
          "2021-01-01 00:00:00.000",
          "2021-02-01 00:00:00.000",
          "2021-03-01 00:00:00.000",
          "2021-04-01 00:00:00.000",
          "2021-05-01 00:00:00.000",
          "2021-06-01 00:00:00.000",
          "2021-07-01 00:00:00.000",
          "2021-08-01 00:00:00.000",
          "2021-09-01 00:00:00.000",
          "2021-10-01 00:00:00.000",
          "2021-11-01 00:00:00.000",
          "2021-12-01 00:00:00.000",
          "2022-01-01 00:00:00.000",
          "2022-02-01 00:00:00.000",
          "2022-03-01 00:00:00.000",
          "2022-04-01 00:00:00.000",
          "2022-05-01 00:00:00.000",
          "2022-06-01 00:00:00.000",
          "2022-07-01 00:00:00.000",
          "2022-08-01 00:00:00.000",
          "2022-09-01 00:00:00.000",
          "2022-10-01 00:00:00.000",
          "2022-11-01 00:00:00.000",
          "2022-12-01 00:00:00.000",
          "2023-01-01 00:00:00.000",
          "2023-02-01 00:00:00.000",
          "2023-03-01 00:00:00.000",
          "2023-04-01 00:00:00.000",
          "2023-05-01 00:00:00.000",
          "2023-06-01 00:00:00.000",
          "2023-07-01 00:00:00.000",
          "2023-08-01 00:00:00.000",
          "2023-09-01 00:00:00.000",
          "2023-10-01 00:00:00.000",
          "2023-11-01 00:00:00.000",
          "2023-12-01 00:00:00.000",
          "2024-01-01 00:00:00.000",
          "2024-02-01 00:00:00.000",
          "2024-03-01 00:00:00.000",
          "2024-04-01 00:00:00.000",
          "2024-05-01 00:00:00.000",
          "2024-06-01 00:00:00.000",
          "2024-07-01 00:00:00.000",
          "2024-08-01 00:00:00.000",
          "2024-09-01 00:00:00.000",
          "2024-10-01 00:00:00.000",
          "2024-11-01 00:00:00.000",
          "2024-12-01 00:00:00.000",
          "2025-01-01 00:00:00.000",
          "2025-02-01 00:00:00.000",
          "2025-03-01 00:00:00.000",
          "2025-04-01 00:00:00.000",
          "2025-05-01 00:00:00.000",
          "2025-06-01 00:00:00.000",
          "2025-07-01 00:00:00.000"
         ],
         "y": {
          "bdata": "gJnq8w8/lj9AM1RPfM+VP8CbQ6eNB5Y/AM9hSYwtlz8Axk/ocd6XP0BAPoyRTZk/gF0H/aN8nD+AFm9g07+cPwD2gbjqOZ0/wGQ+LUQQmz9ADHqwV+GXPwABaK62hJk/gA6Y0Bf9lT/AV+4TH4GUPwAeV6NAd44/gMOkcTUbjz/AN6X3qEiTP8BAGddofJQ/AJYSLN9jkj9AeKro7xyRPwDMOTaes5I/wDrhRh/LkT8AH/ZFzz+RP8CJRw2CwZE/wG7JUNBslT9AyAaJgMCXP4BwgsEin5o/QA/EBp/5lz8A/td+EpmOPwByzdwTpWk/ADZqJZU8YD8Aj8yPr1p9PwADTzxxaoQ/gBae2H48ij+AchFS93yMP4AjU5jEMok/gJNZg0oUiD+AoPiOzAqLPwAWkq7HwYs/AMjQ7EETkT/ARVHbut2aP2CBdynwLqU/QPuK3zc5qT/gQzS5pTmrP+DZcEZn+qo/IIqVj0OHqj9ArA7SE3arP2DsLFFR4a8/8IkVwGmTsT+wLIufBVSyPxAlc0NfZrM/UJnl9ZlZtD9Q9zMiSd21PzCwrd/+FLU/0LhoM0HWtT+QrBCwxwm3P0D+N/9VoLU/4GPD25oItT9geNuquAG1P6CJPIPM27M/8NmZFp9Bsj8QAfITZ2mwP7Af+zQtO7A/oNalL8+Arj9AltQGnj+pP6BvhiEQVKk/4B2l3CEfpT8AGOwoplOfP2AG/H6Xy6A/YFvBJBcKoz8AY3XjN+uiP4AHajhNn6A/YNIvungToD/gKfRoeQKhP0Av8/dI058/ACOlpko2oD/gdE2648KhP4AuCXU3LKE/YAkBOT+VoD/AnFeS5mmePwDJA1gBF54/wJU+v1q8mj/A+GLxwuiYP0BG8azHVJo/gPyilAfLmz9AYHdfvGmdP4Av/qnHtp4/wKiX4HDRnD+AN3jxGKKYPwDp1cbG5Zc/wPwKYF5UmD8AU7VpR16bPwAAAAAAAPh/",
          "dtype": "f8"
         }
        },
        {
         "line": {
          "color": "firebrick"
         },
         "marker": {
          "size": 6,
          "symbol": "x"
         },
         "mode": "lines+markers",
         "name": "Predicted",
         "type": "scatter",
         "x": [
          "2017-11-01 00:00:00.000",
          "2017-12-01 00:00:00.000",
          "2018-01-01 00:00:00.000",
          "2018-02-01 00:00:00.000",
          "2018-03-01 00:00:00.000",
          "2018-04-01 00:00:00.000",
          "2018-05-01 00:00:00.000",
          "2018-06-01 00:00:00.000",
          "2018-07-01 00:00:00.000",
          "2018-08-01 00:00:00.000",
          "2018-09-01 00:00:00.000",
          "2018-10-01 00:00:00.000",
          "2018-11-01 00:00:00.000",
          "2018-12-01 00:00:00.000",
          "2019-01-01 00:00:00.000",
          "2019-02-01 00:00:00.000",
          "2019-03-01 00:00:00.000",
          "2019-04-01 00:00:00.000",
          "2019-05-01 00:00:00.000",
          "2019-06-01 00:00:00.000",
          "2019-07-01 00:00:00.000",
          "2019-08-01 00:00:00.000",
          "2019-09-01 00:00:00.000",
          "2019-10-01 00:00:00.000",
          "2019-11-01 00:00:00.000",
          "2019-12-01 00:00:00.000",
          "2020-01-01 00:00:00.000",
          "2020-02-01 00:00:00.000",
          "2020-03-01 00:00:00.000",
          "2020-04-01 00:00:00.000",
          "2020-05-01 00:00:00.000",
          "2020-06-01 00:00:00.000",
          "2020-07-01 00:00:00.000",
          "2020-08-01 00:00:00.000",
          "2020-09-01 00:00:00.000",
          "2020-10-01 00:00:00.000",
          "2020-11-01 00:00:00.000",
          "2020-12-01 00:00:00.000",
          "2021-01-01 00:00:00.000",
          "2021-02-01 00:00:00.000",
          "2021-03-01 00:00:00.000",
          "2021-04-01 00:00:00.000",
          "2021-05-01 00:00:00.000",
          "2021-06-01 00:00:00.000",
          "2021-07-01 00:00:00.000",
          "2021-08-01 00:00:00.000",
          "2021-09-01 00:00:00.000",
          "2021-10-01 00:00:00.000",
          "2021-11-01 00:00:00.000",
          "2021-12-01 00:00:00.000",
          "2022-01-01 00:00:00.000",
          "2022-02-01 00:00:00.000",
          "2022-03-01 00:00:00.000",
          "2022-04-01 00:00:00.000",
          "2022-05-01 00:00:00.000",
          "2022-06-01 00:00:00.000",
          "2022-07-01 00:00:00.000",
          "2022-08-01 00:00:00.000",
          "2022-09-01 00:00:00.000",
          "2022-10-01 00:00:00.000",
          "2022-11-01 00:00:00.000",
          "2022-12-01 00:00:00.000",
          "2023-01-01 00:00:00.000",
          "2023-02-01 00:00:00.000",
          "2023-03-01 00:00:00.000",
          "2023-04-01 00:00:00.000",
          "2023-05-01 00:00:00.000",
          "2023-06-01 00:00:00.000",
          "2023-07-01 00:00:00.000",
          "2023-08-01 00:00:00.000",
          "2023-09-01 00:00:00.000",
          "2023-10-01 00:00:00.000",
          "2023-11-01 00:00:00.000",
          "2023-12-01 00:00:00.000",
          "2024-01-01 00:00:00.000",
          "2024-02-01 00:00:00.000",
          "2024-03-01 00:00:00.000",
          "2024-04-01 00:00:00.000",
          "2024-05-01 00:00:00.000",
          "2024-06-01 00:00:00.000",
          "2024-07-01 00:00:00.000",
          "2024-08-01 00:00:00.000",
          "2024-09-01 00:00:00.000",
          "2024-10-01 00:00:00.000",
          "2024-11-01 00:00:00.000",
          "2024-12-01 00:00:00.000",
          "2025-01-01 00:00:00.000",
          "2025-02-01 00:00:00.000",
          "2025-03-01 00:00:00.000",
          "2025-04-01 00:00:00.000",
          "2025-05-01 00:00:00.000",
          "2025-06-01 00:00:00.000",
          "2025-07-01 00:00:00.000"
         ],
         "y": {
          "bdata": "wFjmWBUJlz/AZlfKtnSUP0Dr03+57pM/AHIeYS8llz+AJmqVz2eYPwAHZPDHKpg/QIoU9EbWmz+ArLi+O6edP0CySYh5lp0/gIHTUA+4mj8A4Ei2HgOXP0AxHoQeipk/AIJp4Hq8lj/Agg0RwDmTPwBaiEN7+Y8/gPpWgG7Fjj+A+FkkY/+SP4ByuUz/kZQ/wEsddVIWkz8A7jqQwKORPwAoiPZePpI/wADZ4D/XkT8As4wECLuQPwA3WJNZpZE/ANgmu5O+kz/AbY+dUk6XPwA4WnJ925g/QCVuLKX0lz+AmSrfTnuTPwDS2PjTlXY/AEx5DsedUT8An4yDPMF3PwBI0xE4NYY/AP6D11f+hz8ASrNhXeiIP4ARTEYvyIg/gMZ1bmXhhz8AREJEDkOLPwBBW3LYSYw/AIBPlQ9kkD/AGBUoH6yYPwAA03eZ26E/QOJnXgwHqD8gdR1K9zGpP8DN0kLQias/gA+dgLeyqj9AdXtrKaKqP+CtcqF7xaw/MAY21pNCsT9wQ3DOCumxP2ANoCUv9LI/oOGDhnR4tD9gXsGZGt+0P+DfdxhkfLQ/oN0PKNfBtD+g9+IBZeC1PyCpflSGBbc/gFxQos+VtD8wadtr4NW0P1D8mipKMbQ/MPOqKNCisj/wVn/+KIKwP0A0jLm6va8/QJijA04xrz8geqg9RLuqP0Ap2SaCaKk/ADvMecgJpT9gNHrAZoSgP8C1GsKO7qA/oMwb4mgtoz9gmnY8mVeiP2Bo0dx1SqA/AHOwr3u7nz8gvVNLo6mgP4CuIHOAc50/QHxTuz+Inz+g0G4DK5KhP+B3fFFUqqE/wJJrCUzroD9AP79BU2OfPwD6SlTb8J0/gPmCtUyfmj9AjmGA9KqXP4BrSxG5R5o/QIVQcNKJmj+AQhWElFedP0B8dmbcwZw/wFcJIJAcnT/AdPWpf5uYP0A4n/kvxZc/QHCfHx5wmD8Azyh3Z3yaP8BuDx+Nn5s/",
          "dtype": "f8"
         }
        }
       ],
       "layout": {
        "height": 500,
        "hovermode": "x unified",
        "legend": {
         "bgcolor": "rgba(255,255,255,0.5)",
         "bordercolor": "gray",
         "x": 0.01,
         "y": 0.99
        },
        "margin": {
         "b": 40,
         "l": 40,
         "r": 20,
         "t": 60
        },
        "template": {
         "data": {
          "bar": [
           {
            "error_x": {
             "color": "#2a3f5f"
            },
            "error_y": {
             "color": "#2a3f5f"
            },
            "marker": {
             "line": {
              "color": "white",
              "width": 0.5
             },
             "pattern": {
              "fillmode": "overlay",
              "size": 10,
              "solidity": 0.2
             }
            },
            "type": "bar"
           }
          ],
          "barpolar": [
           {
            "marker": {
             "line": {
              "color": "white",
              "width": 0.5
             },
             "pattern": {
              "fillmode": "overlay",
              "size": 10,
              "solidity": 0.2
             }
            },
            "type": "barpolar"
           }
          ],
          "carpet": [
           {
            "aaxis": {
             "endlinecolor": "#2a3f5f",
             "gridcolor": "#C8D4E3",
             "linecolor": "#C8D4E3",
             "minorgridcolor": "#C8D4E3",
             "startlinecolor": "#2a3f5f"
            },
            "baxis": {
             "endlinecolor": "#2a3f5f",
             "gridcolor": "#C8D4E3",
             "linecolor": "#C8D4E3",
             "minorgridcolor": "#C8D4E3",
             "startlinecolor": "#2a3f5f"
            },
            "type": "carpet"
           }
          ],
          "choropleth": [
           {
            "colorbar": {
             "outlinewidth": 0,
             "ticks": ""
            },
            "type": "choropleth"
           }
          ],
          "contour": [
           {
            "colorbar": {
             "outlinewidth": 0,
             "ticks": ""
            },
            "colorscale": [
             [
              0,
              "#0d0887"
             ],
             [
              0.1111111111111111,
              "#46039f"
             ],
             [
              0.2222222222222222,
              "#7201a8"
             ],
             [
              0.3333333333333333,
              "#9c179e"
             ],
             [
              0.4444444444444444,
              "#bd3786"
             ],
             [
              0.5555555555555556,
              "#d8576b"
             ],
             [
              0.6666666666666666,
              "#ed7953"
             ],
             [
              0.7777777777777778,
              "#fb9f3a"
             ],
             [
              0.8888888888888888,
              "#fdca26"
             ],
             [
              1,
              "#f0f921"
             ]
            ],
            "type": "contour"
           }
          ],
          "contourcarpet": [
           {
            "colorbar": {
             "outlinewidth": 0,
             "ticks": ""
            },
            "type": "contourcarpet"
           }
          ],
          "heatmap": [
           {
            "colorbar": {
             "outlinewidth": 0,
             "ticks": ""
            },
            "colorscale": [
             [
              0,
              "#0d0887"
             ],
             [
              0.1111111111111111,
              "#46039f"
             ],
             [
              0.2222222222222222,
              "#7201a8"
             ],
             [
              0.3333333333333333,
              "#9c179e"
             ],
             [
              0.4444444444444444,
              "#bd3786"
             ],
             [
              0.5555555555555556,
              "#d8576b"
             ],
             [
              0.6666666666666666,
              "#ed7953"
             ],
             [
              0.7777777777777778,
              "#fb9f3a"
             ],
             [
              0.8888888888888888,
              "#fdca26"
             ],
             [
              1,
              "#f0f921"
             ]
            ],
            "type": "heatmap"
           }
          ],
          "histogram": [
           {
            "marker": {
             "pattern": {
              "fillmode": "overlay",
              "size": 10,
              "solidity": 0.2
             }
            },
            "type": "histogram"
           }
          ],
          "histogram2d": [
           {
            "colorbar": {
             "outlinewidth": 0,
             "ticks": ""
            },
            "colorscale": [
             [
              0,
              "#0d0887"
             ],
             [
              0.1111111111111111,
              "#46039f"
             ],
             [
              0.2222222222222222,
              "#7201a8"
             ],
             [
              0.3333333333333333,
              "#9c179e"
             ],
             [
              0.4444444444444444,
              "#bd3786"
             ],
             [
              0.5555555555555556,
              "#d8576b"
             ],
             [
              0.6666666666666666,
              "#ed7953"
             ],
             [
              0.7777777777777778,
              "#fb9f3a"
             ],
             [
              0.8888888888888888,
              "#fdca26"
             ],
             [
              1,
              "#f0f921"
             ]
            ],
            "type": "histogram2d"
           }
          ],
          "histogram2dcontour": [
           {
            "colorbar": {
             "outlinewidth": 0,
             "ticks": ""
            },
            "colorscale": [
             [
              0,
              "#0d0887"
             ],
             [
              0.1111111111111111,
              "#46039f"
             ],
             [
              0.2222222222222222,
              "#7201a8"
             ],
             [
              0.3333333333333333,
              "#9c179e"
             ],
             [
              0.4444444444444444,
              "#bd3786"
             ],
             [
              0.5555555555555556,
              "#d8576b"
             ],
             [
              0.6666666666666666,
              "#ed7953"
             ],
             [
              0.7777777777777778,
              "#fb9f3a"
             ],
             [
              0.8888888888888888,
              "#fdca26"
             ],
             [
              1,
              "#f0f921"
             ]
            ],
            "type": "histogram2dcontour"
           }
          ],
          "mesh3d": [
           {
            "colorbar": {
             "outlinewidth": 0,
             "ticks": ""
            },
            "type": "mesh3d"
           }
          ],
          "parcoords": [
           {
            "line": {
             "colorbar": {
              "outlinewidth": 0,
              "ticks": ""
             }
            },
            "type": "parcoords"
           }
          ],
          "pie": [
           {
            "automargin": true,
            "type": "pie"
           }
          ],
          "scatter": [
           {
            "fillpattern": {
             "fillmode": "overlay",
             "size": 10,
             "solidity": 0.2
            },
            "type": "scatter"
           }
          ],
          "scatter3d": [
           {
            "line": {
             "colorbar": {
              "outlinewidth": 0,
              "ticks": ""
             }
            },
            "marker": {
             "colorbar": {
              "outlinewidth": 0,
              "ticks": ""
             }
            },
            "type": "scatter3d"
           }
          ],
          "scattercarpet": [
           {
            "marker": {
             "colorbar": {
              "outlinewidth": 0,
              "ticks": ""
             }
            },
            "type": "scattercarpet"
           }
          ],
          "scattergeo": [
           {
            "marker": {
             "colorbar": {
              "outlinewidth": 0,
              "ticks": ""
             }
            },
            "type": "scattergeo"
           }
          ],
          "scattergl": [
           {
            "marker": {
             "colorbar": {
              "outlinewidth": 0,
              "ticks": ""
             }
            },
            "type": "scattergl"
           }
          ],
          "scattermap": [
           {
            "marker": {
             "colorbar": {
              "outlinewidth": 0,
              "ticks": ""
             }
            },
            "type": "scattermap"
           }
          ],
          "scattermapbox": [
           {
            "marker": {
             "colorbar": {
              "outlinewidth": 0,
              "ticks": ""
             }
            },
            "type": "scattermapbox"
           }
          ],
          "scatterpolar": [
           {
            "marker": {
             "colorbar": {
              "outlinewidth": 0,
              "ticks": ""
             }
            },
            "type": "scatterpolar"
           }
          ],
          "scatterpolargl": [
           {
            "marker": {
             "colorbar": {
              "outlinewidth": 0,
              "ticks": ""
             }
            },
            "type": "scatterpolargl"
           }
          ],
          "scatterternary": [
           {
            "marker": {
             "colorbar": {
              "outlinewidth": 0,
              "ticks": ""
             }
            },
            "type": "scatterternary"
           }
          ],
          "surface": [
           {
            "colorbar": {
             "outlinewidth": 0,
             "ticks": ""
            },
            "colorscale": [
             [
              0,
              "#0d0887"
             ],
             [
              0.1111111111111111,
              "#46039f"
             ],
             [
              0.2222222222222222,
              "#7201a8"
             ],
             [
              0.3333333333333333,
              "#9c179e"
             ],
             [
              0.4444444444444444,
              "#bd3786"
             ],
             [
              0.5555555555555556,
              "#d8576b"
             ],
             [
              0.6666666666666666,
              "#ed7953"
             ],
             [
              0.7777777777777778,
              "#fb9f3a"
             ],
             [
              0.8888888888888888,
              "#fdca26"
             ],
             [
              1,
              "#f0f921"
             ]
            ],
            "type": "surface"
           }
          ],
          "table": [
           {
            "cells": {
             "fill": {
              "color": "#EBF0F8"
             },
             "line": {
              "color": "white"
             }
            },
            "header": {
             "fill": {
              "color": "#C8D4E3"
             },
             "line": {
              "color": "white"
             }
            },
            "type": "table"
           }
          ]
         },
         "layout": {
          "annotationdefaults": {
           "arrowcolor": "#2a3f5f",
           "arrowhead": 0,
           "arrowwidth": 1
          },
          "autotypenumbers": "strict",
          "coloraxis": {
           "colorbar": {
            "outlinewidth": 0,
            "ticks": ""
           }
          },
          "colorscale": {
           "diverging": [
            [
             0,
             "#8e0152"
            ],
            [
             0.1,
             "#c51b7d"
            ],
            [
             0.2,
             "#de77ae"
            ],
            [
             0.3,
             "#f1b6da"
            ],
            [
             0.4,
             "#fde0ef"
            ],
            [
             0.5,
             "#f7f7f7"
            ],
            [
             0.6,
             "#e6f5d0"
            ],
            [
             0.7,
             "#b8e186"
            ],
            [
             0.8,
             "#7fbc41"
            ],
            [
             0.9,
             "#4d9221"
            ],
            [
             1,
             "#276419"
            ]
           ],
           "sequential": [
            [
             0,
             "#0d0887"
            ],
            [
             0.1111111111111111,
             "#46039f"
            ],
            [
             0.2222222222222222,
             "#7201a8"
            ],
            [
             0.3333333333333333,
             "#9c179e"
            ],
            [
             0.4444444444444444,
             "#bd3786"
            ],
            [
             0.5555555555555556,
             "#d8576b"
            ],
            [
             0.6666666666666666,
             "#ed7953"
            ],
            [
             0.7777777777777778,
             "#fb9f3a"
            ],
            [
             0.8888888888888888,
             "#fdca26"
            ],
            [
             1,
             "#f0f921"
            ]
           ],
           "sequentialminus": [
            [
             0,
             "#0d0887"
            ],
            [
             0.1111111111111111,
             "#46039f"
            ],
            [
             0.2222222222222222,
             "#7201a8"
            ],
            [
             0.3333333333333333,
             "#9c179e"
            ],
            [
             0.4444444444444444,
             "#bd3786"
            ],
            [
             0.5555555555555556,
             "#d8576b"
            ],
            [
             0.6666666666666666,
             "#ed7953"
            ],
            [
             0.7777777777777778,
             "#fb9f3a"
            ],
            [
             0.8888888888888888,
             "#fdca26"
            ],
            [
             1,
             "#f0f921"
            ]
           ]
          },
          "colorway": [
           "#636efa",
           "#EF553B",
           "#00cc96",
           "#ab63fa",
           "#FFA15A",
           "#19d3f3",
           "#FF6692",
           "#B6E880",
           "#FF97FF",
           "#FECB52"
          ],
          "font": {
           "color": "#2a3f5f"
          },
          "geo": {
           "bgcolor": "white",
           "lakecolor": "white",
           "landcolor": "white",
           "showlakes": true,
           "showland": true,
           "subunitcolor": "#C8D4E3"
          },
          "hoverlabel": {
           "align": "left"
          },
          "hovermode": "closest",
          "mapbox": {
           "style": "light"
          },
          "paper_bgcolor": "white",
          "plot_bgcolor": "white",
          "polar": {
           "angularaxis": {
            "gridcolor": "#EBF0F8",
            "linecolor": "#EBF0F8",
            "ticks": ""
           },
           "bgcolor": "white",
           "radialaxis": {
            "gridcolor": "#EBF0F8",
            "linecolor": "#EBF0F8",
            "ticks": ""
           }
          },
          "scene": {
           "xaxis": {
            "backgroundcolor": "white",
            "gridcolor": "#DFE8F3",
            "gridwidth": 2,
            "linecolor": "#EBF0F8",
            "showbackground": true,
            "ticks": "",
            "zerolinecolor": "#EBF0F8"
           },
           "yaxis": {
            "backgroundcolor": "white",
            "gridcolor": "#DFE8F3",
            "gridwidth": 2,
            "linecolor": "#EBF0F8",
            "showbackground": true,
            "ticks": "",
            "zerolinecolor": "#EBF0F8"
           },
           "zaxis": {
            "backgroundcolor": "white",
            "gridcolor": "#DFE8F3",
            "gridwidth": 2,
            "linecolor": "#EBF0F8",
            "showbackground": true,
            "ticks": "",
            "zerolinecolor": "#EBF0F8"
           }
          },
          "shapedefaults": {
           "line": {
            "color": "#2a3f5f"
           }
          },
          "ternary": {
           "aaxis": {
            "gridcolor": "#DFE8F3",
            "linecolor": "#A2B1C6",
            "ticks": ""
           },
           "baxis": {
            "gridcolor": "#DFE8F3",
            "linecolor": "#A2B1C6",
            "ticks": ""
           },
           "bgcolor": "white",
           "caxis": {
            "gridcolor": "#DFE8F3",
            "linecolor": "#A2B1C6",
            "ticks": ""
           }
          },
          "title": {
           "x": 0.05
          },
          "xaxis": {
           "automargin": true,
           "gridcolor": "#EBF0F8",
           "linecolor": "#EBF0F8",
           "ticks": "",
           "title": {
            "standoff": 15
           },
           "zerolinecolor": "#EBF0F8",
           "zerolinewidth": 2
          },
          "yaxis": {
           "automargin": true,
           "gridcolor": "#EBF0F8",
           "linecolor": "#EBF0F8",
           "ticks": "",
           "title": {
            "standoff": 15
           },
           "zerolinecolor": "#EBF0F8",
           "zerolinewidth": 2
          }
         }
        },
        "title": {
         "text": "cpiaucsl_all_adjusted_mon3_bom_cur - Year-over-Year"
        },
        "xaxis": {
         "tickangle": 45,
         "tickformat": "%Y-%m",
         "title": {
          "text": "Time"
         }
        },
        "yaxis": {
         "title": {
          "text": "Percentage Change"
         }
        }
       }
      }
     },
     "metadata": {},
     "output_type": "display_data"
    }
   ],
   "source": [
    "plot_forecasts(df,plot_type='yoy')"
   ]
  },
  {
   "cell_type": "code",
   "execution_count": null,
   "metadata": {},
   "outputs": [
    {
     "data": {
      "application/vnd.plotly.v1+json": {
       "config": {
        "plotlyServerURL": "https://plot.ly"
       },
       "data": [
        {
         "line": {
          "color": "royalblue"
         },
         "marker": {
          "size": 6,
          "symbol": "circle"
         },
         "mode": "lines+markers",
         "name": "Actual",
         "type": "scatter",
         "x": [
          "2017-11-01 00:00:00.000",
          "2017-12-01 00:00:00.000",
          "2018-01-01 00:00:00.000",
          "2018-02-01 00:00:00.000",
          "2018-03-01 00:00:00.000",
          "2018-04-01 00:00:00.000",
          "2018-05-01 00:00:00.000",
          "2018-06-01 00:00:00.000",
          "2018-07-01 00:00:00.000",
          "2018-08-01 00:00:00.000",
          "2018-09-01 00:00:00.000",
          "2018-10-01 00:00:00.000",
          "2018-11-01 00:00:00.000",
          "2018-12-01 00:00:00.000",
          "2019-01-01 00:00:00.000",
          "2019-02-01 00:00:00.000",
          "2019-03-01 00:00:00.000",
          "2019-04-01 00:00:00.000",
          "2019-05-01 00:00:00.000",
          "2019-06-01 00:00:00.000",
          "2019-07-01 00:00:00.000",
          "2019-08-01 00:00:00.000",
          "2019-09-01 00:00:00.000",
          "2019-10-01 00:00:00.000",
          "2019-11-01 00:00:00.000",
          "2019-12-01 00:00:00.000",
          "2020-01-01 00:00:00.000",
          "2020-02-01 00:00:00.000",
          "2020-03-01 00:00:00.000",
          "2020-04-01 00:00:00.000",
          "2020-05-01 00:00:00.000",
          "2020-06-01 00:00:00.000",
          "2020-07-01 00:00:00.000",
          "2020-08-01 00:00:00.000",
          "2020-09-01 00:00:00.000",
          "2020-10-01 00:00:00.000",
          "2020-11-01 00:00:00.000",
          "2020-12-01 00:00:00.000",
          "2021-01-01 00:00:00.000",
          "2021-02-01 00:00:00.000",
          "2021-03-01 00:00:00.000",
          "2021-04-01 00:00:00.000",
          "2021-05-01 00:00:00.000",
          "2021-06-01 00:00:00.000",
          "2021-07-01 00:00:00.000",
          "2021-08-01 00:00:00.000",
          "2021-09-01 00:00:00.000",
          "2021-10-01 00:00:00.000",
          "2021-11-01 00:00:00.000",
          "2021-12-01 00:00:00.000",
          "2022-01-01 00:00:00.000",
          "2022-02-01 00:00:00.000",
          "2022-03-01 00:00:00.000",
          "2022-04-01 00:00:00.000",
          "2022-05-01 00:00:00.000",
          "2022-06-01 00:00:00.000",
          "2022-07-01 00:00:00.000",
          "2022-08-01 00:00:00.000",
          "2022-09-01 00:00:00.000",
          "2022-10-01 00:00:00.000",
          "2022-11-01 00:00:00.000",
          "2022-12-01 00:00:00.000",
          "2023-01-01 00:00:00.000",
          "2023-02-01 00:00:00.000",
          "2023-03-01 00:00:00.000",
          "2023-04-01 00:00:00.000",
          "2023-05-01 00:00:00.000",
          "2023-06-01 00:00:00.000",
          "2023-07-01 00:00:00.000",
          "2023-08-01 00:00:00.000",
          "2023-09-01 00:00:00.000",
          "2023-10-01 00:00:00.000",
          "2023-11-01 00:00:00.000",
          "2023-12-01 00:00:00.000",
          "2024-01-01 00:00:00.000",
          "2024-02-01 00:00:00.000",
          "2024-03-01 00:00:00.000",
          "2024-04-01 00:00:00.000",
          "2024-05-01 00:00:00.000",
          "2024-06-01 00:00:00.000",
          "2024-07-01 00:00:00.000",
          "2024-08-01 00:00:00.000",
          "2024-09-01 00:00:00.000",
          "2024-10-01 00:00:00.000",
          "2024-11-01 00:00:00.000",
          "2024-12-01 00:00:00.000",
          "2025-01-01 00:00:00.000",
          "2025-02-01 00:00:00.000",
          "2025-03-01 00:00:00.000",
          "2025-04-01 00:00:00.000",
          "2025-05-01 00:00:00.000",
          "2025-06-01 00:00:00.000",
          "2025-07-01 00:00:00.000"
         ],
         "y": {
          "bdata": "DAIrhxbpbkD2KFyPwvluQHNoke18G29AsHJoke0wb0BYObTIdjJvQCUGgZVDR29A001iEFhZb0B/arx0k2BvQAIrhxbZZm9A8KfGSzd1b0Dn+6nx0oVvQGIQWDm0mG9AXrpJDAKTb0AGgZVDi5hvQMuhRbbzkW9Ake18PzWqb0C+nxov3chvQPp+arx0529AtvP91Hjpb0CJQWDl0OZvQIts5/up+W9Af2q8dJMAcEB7FK5H4QZwQBSuR+F6EnBA8tJNYhAecECuR+F6FCpwQHnpJjEIMnBAAAAAAAA0cEDwp8ZLNyFwQI2XbhKDAHBAi2zn+6n5b0DpJjEIrBBwQBKDwMqhJXBAkxgEVg41cEDLoUW28z9wQMl2vp8aRXBAf2q8dJNOcEAfhetRuGBwQE5iEFg5anBAukkMAit5cEBkO99PjY1wQAAAAAAAqnBAWDm0yHbGcECPwvUoXOtwQD0K16Nw/3BAeekmMQgMcUBQjZduEh9xQJzEILBySHFAd76fGi9tcUA3iUFg5YxxQOkmMQisqHFAZmZmZmbIcUC28/3UePdxQFpkO99PCXJAEFg5tMg0ckD+1HjpJnFyQNejcD0Kb3JAO99PjZdyckDb+X5qvIZyQIts5/upn3JAF9nO91OrckCwcmiR7axyQJ7vp8ZLx3JAVg4tsp3XckA/NV66SdpyQH0/NV667XJAkxgEVg71ckDdJAaBlQFzQKRwPQrXCXNAke18PzUic0BEi2zn+zVzQJzEILByOnNACKwcWmRBc0D2KFyPwktzQGIQWDm0XHNAMQisHFpwc0DByqFFtoFzQMdLN4lBkHNACtejcD2Sc0BqvHSTGJJzQJMYBFYOmXNAarx0kxiic0BWDi2yna1zQBsv3SQGuXNAd76fGi/Hc0DP91PjpdlzQEw3iUFg8XNAZmZmZmb8c0CkcD0K1/lzQEJg5dAiBXRA4XoUrkcJdEAAAAAAABh0QAAAAAAAAPh/",
          "dtype": "f8"
         }
        },
        {
         "line": {
          "color": "firebrick"
         },
         "marker": {
          "size": 6,
          "symbol": "x"
         },
         "mode": "lines+markers",
         "name": "Predicted",
         "type": "scatter",
         "x": [
          "2017-11-01 00:00:00.000",
          "2017-12-01 00:00:00.000",
          "2018-01-01 00:00:00.000",
          "2018-02-01 00:00:00.000",
          "2018-03-01 00:00:00.000",
          "2018-04-01 00:00:00.000",
          "2018-05-01 00:00:00.000",
          "2018-06-01 00:00:00.000",
          "2018-07-01 00:00:00.000",
          "2018-08-01 00:00:00.000",
          "2018-09-01 00:00:00.000",
          "2018-10-01 00:00:00.000",
          "2018-11-01 00:00:00.000",
          "2018-12-01 00:00:00.000",
          "2019-01-01 00:00:00.000",
          "2019-02-01 00:00:00.000",
          "2019-03-01 00:00:00.000",
          "2019-04-01 00:00:00.000",
          "2019-05-01 00:00:00.000",
          "2019-06-01 00:00:00.000",
          "2019-07-01 00:00:00.000",
          "2019-08-01 00:00:00.000",
          "2019-09-01 00:00:00.000",
          "2019-10-01 00:00:00.000",
          "2019-11-01 00:00:00.000",
          "2019-12-01 00:00:00.000",
          "2020-01-01 00:00:00.000",
          "2020-02-01 00:00:00.000",
          "2020-03-01 00:00:00.000",
          "2020-04-01 00:00:00.000",
          "2020-05-01 00:00:00.000",
          "2020-06-01 00:00:00.000",
          "2020-07-01 00:00:00.000",
          "2020-08-01 00:00:00.000",
          "2020-09-01 00:00:00.000",
          "2020-10-01 00:00:00.000",
          "2020-11-01 00:00:00.000",
          "2020-12-01 00:00:00.000",
          "2021-01-01 00:00:00.000",
          "2021-02-01 00:00:00.000",
          "2021-03-01 00:00:00.000",
          "2021-04-01 00:00:00.000",
          "2021-05-01 00:00:00.000",
          "2021-06-01 00:00:00.000",
          "2021-07-01 00:00:00.000",
          "2021-08-01 00:00:00.000",
          "2021-09-01 00:00:00.000",
          "2021-10-01 00:00:00.000",
          "2021-11-01 00:00:00.000",
          "2021-12-01 00:00:00.000",
          "2022-01-01 00:00:00.000",
          "2022-02-01 00:00:00.000",
          "2022-03-01 00:00:00.000",
          "2022-04-01 00:00:00.000",
          "2022-05-01 00:00:00.000",
          "2022-06-01 00:00:00.000",
          "2022-07-01 00:00:00.000",
          "2022-08-01 00:00:00.000",
          "2022-09-01 00:00:00.000",
          "2022-10-01 00:00:00.000",
          "2022-11-01 00:00:00.000",
          "2022-12-01 00:00:00.000",
          "2023-01-01 00:00:00.000",
          "2023-02-01 00:00:00.000",
          "2023-03-01 00:00:00.000",
          "2023-04-01 00:00:00.000",
          "2023-05-01 00:00:00.000",
          "2023-06-01 00:00:00.000",
          "2023-07-01 00:00:00.000",
          "2023-08-01 00:00:00.000",
          "2023-09-01 00:00:00.000",
          "2023-10-01 00:00:00.000",
          "2023-11-01 00:00:00.000",
          "2023-12-01 00:00:00.000",
          "2024-01-01 00:00:00.000",
          "2024-02-01 00:00:00.000",
          "2024-03-01 00:00:00.000",
          "2024-04-01 00:00:00.000",
          "2024-05-01 00:00:00.000",
          "2024-06-01 00:00:00.000",
          "2024-07-01 00:00:00.000",
          "2024-08-01 00:00:00.000",
          "2024-09-01 00:00:00.000",
          "2024-10-01 00:00:00.000",
          "2024-11-01 00:00:00.000",
          "2024-12-01 00:00:00.000",
          "2025-01-01 00:00:00.000",
          "2025-02-01 00:00:00.000",
          "2025-03-01 00:00:00.000",
          "2025-04-01 00:00:00.000",
          "2025-05-01 00:00:00.000",
          "2025-06-01 00:00:00.000",
          "2025-07-01 00:00:00.000"
         ],
         "y": {
          "bdata": "tOn7eQ7vbkA3lngyfe9uQCUlcQSGC29Ak62WzK0wb0CM/Uy8jTZvQCHOQpOYPm9A6TirhWNUb0BLzEweeWdvQLw0ZoubaW9AKrTsdZNyb0DI/VCWI39vQJs3peLdmG9A2JrAA8mYb0CXIvIhpI5vQGKXh4jRl29Akvv4z+aob0AFX4y1ocZvQGh/FYsd6G9AGuNRZO/ub0AlaWxt8upvQA24EYsR9m9AZ6nBJMMAcEAT43IW1gRwQGPJ86oLEnBAYZuCVW4XcEDivMSHUShwQFUDweARK3BAsHTzTewzcEA1+IKO1TFwQLOZhN8+CnBA7RwUhUHyb0Am0kT9FgtwQFyZvqI2KXBApR2r3pEwcEDs8h1uxzhwQJBR5X5ERHBA/1hP6yxOcECIFD/9KWFwQA4RjMxMa3BACtMfU2V2cEAEGHqptIRwQJKHgXBkj3BAIkOkUee8cEBzqWzJDdtwQKSkIXb2A3FAVRFnUWgNcUCnIyyjWBhxQDqd9JgoL3FAadJE7AhocUB47hpIDYZxQImd06RZoXFANpvtqWLKcUDgs4ZgCedxQJm9/9tg/3FA+Gw9yasickA5CvFVf11yQAi/E6vBhnJANSZMqfJqckCJMvi7zYNyQJaKqIVvpXJA/8rIrfGxckCN4DYSoK5yQPjt3abtwHJAL1sO/b7dckCDlXg/nOdyQNPBlr9y7nJAJQAY/kv0ckDBYkYAdQlzQGyY51AZC3NAjZ/MBnsjc0DC67R6pDBzQHWh3KhcN3NAWDJtzW4/c0DGOSsHhUhzQIm00OiOUXNAh/J5hyZsc0ALCIoB639zQDkVOxvrlHNAZB+CE22Vc0B+knu6uZZzQGsFmsNYmHNAYGdMmI2hc0AUwXZcp6dzQCWrr2DHuHNAzjMZ2yTBc0CPfCNOTtlzQHz5u4rn53NAYQzbeNP9c0A50C3ctvlzQFPQS22DBHRAQ4Zjc88JdEAvCWberhN0QH/2LS5lIHRA",
          "dtype": "f8"
         }
        }
       ],
       "layout": {
        "height": 500,
        "hovermode": "x unified",
        "legend": {
         "bgcolor": "rgba(255,255,255,0.5)",
         "bordercolor": "gray",
         "x": 0.01,
         "y": 0.99
        },
        "margin": {
         "b": 40,
         "l": 40,
         "r": 20,
         "t": 60
        },
        "template": {
         "data": {
          "bar": [
           {
            "error_x": {
             "color": "#2a3f5f"
            },
            "error_y": {
             "color": "#2a3f5f"
            },
            "marker": {
             "line": {
              "color": "white",
              "width": 0.5
             },
             "pattern": {
              "fillmode": "overlay",
              "size": 10,
              "solidity": 0.2
             }
            },
            "type": "bar"
           }
          ],
          "barpolar": [
           {
            "marker": {
             "line": {
              "color": "white",
              "width": 0.5
             },
             "pattern": {
              "fillmode": "overlay",
              "size": 10,
              "solidity": 0.2
             }
            },
            "type": "barpolar"
           }
          ],
          "carpet": [
           {
            "aaxis": {
             "endlinecolor": "#2a3f5f",
             "gridcolor": "#C8D4E3",
             "linecolor": "#C8D4E3",
             "minorgridcolor": "#C8D4E3",
             "startlinecolor": "#2a3f5f"
            },
            "baxis": {
             "endlinecolor": "#2a3f5f",
             "gridcolor": "#C8D4E3",
             "linecolor": "#C8D4E3",
             "minorgridcolor": "#C8D4E3",
             "startlinecolor": "#2a3f5f"
            },
            "type": "carpet"
           }
          ],
          "choropleth": [
           {
            "colorbar": {
             "outlinewidth": 0,
             "ticks": ""
            },
            "type": "choropleth"
           }
          ],
          "contour": [
           {
            "colorbar": {
             "outlinewidth": 0,
             "ticks": ""
            },
            "colorscale": [
             [
              0,
              "#0d0887"
             ],
             [
              0.1111111111111111,
              "#46039f"
             ],
             [
              0.2222222222222222,
              "#7201a8"
             ],
             [
              0.3333333333333333,
              "#9c179e"
             ],
             [
              0.4444444444444444,
              "#bd3786"
             ],
             [
              0.5555555555555556,
              "#d8576b"
             ],
             [
              0.6666666666666666,
              "#ed7953"
             ],
             [
              0.7777777777777778,
              "#fb9f3a"
             ],
             [
              0.8888888888888888,
              "#fdca26"
             ],
             [
              1,
              "#f0f921"
             ]
            ],
            "type": "contour"
           }
          ],
          "contourcarpet": [
           {
            "colorbar": {
             "outlinewidth": 0,
             "ticks": ""
            },
            "type": "contourcarpet"
           }
          ],
          "heatmap": [
           {
            "colorbar": {
             "outlinewidth": 0,
             "ticks": ""
            },
            "colorscale": [
             [
              0,
              "#0d0887"
             ],
             [
              0.1111111111111111,
              "#46039f"
             ],
             [
              0.2222222222222222,
              "#7201a8"
             ],
             [
              0.3333333333333333,
              "#9c179e"
             ],
             [
              0.4444444444444444,
              "#bd3786"
             ],
             [
              0.5555555555555556,
              "#d8576b"
             ],
             [
              0.6666666666666666,
              "#ed7953"
             ],
             [
              0.7777777777777778,
              "#fb9f3a"
             ],
             [
              0.8888888888888888,
              "#fdca26"
             ],
             [
              1,
              "#f0f921"
             ]
            ],
            "type": "heatmap"
           }
          ],
          "histogram": [
           {
            "marker": {
             "pattern": {
              "fillmode": "overlay",
              "size": 10,
              "solidity": 0.2
             }
            },
            "type": "histogram"
           }
          ],
          "histogram2d": [
           {
            "colorbar": {
             "outlinewidth": 0,
             "ticks": ""
            },
            "colorscale": [
             [
              0,
              "#0d0887"
             ],
             [
              0.1111111111111111,
              "#46039f"
             ],
             [
              0.2222222222222222,
              "#7201a8"
             ],
             [
              0.3333333333333333,
              "#9c179e"
             ],
             [
              0.4444444444444444,
              "#bd3786"
             ],
             [
              0.5555555555555556,
              "#d8576b"
             ],
             [
              0.6666666666666666,
              "#ed7953"
             ],
             [
              0.7777777777777778,
              "#fb9f3a"
             ],
             [
              0.8888888888888888,
              "#fdca26"
             ],
             [
              1,
              "#f0f921"
             ]
            ],
            "type": "histogram2d"
           }
          ],
          "histogram2dcontour": [
           {
            "colorbar": {
             "outlinewidth": 0,
             "ticks": ""
            },
            "colorscale": [
             [
              0,
              "#0d0887"
             ],
             [
              0.1111111111111111,
              "#46039f"
             ],
             [
              0.2222222222222222,
              "#7201a8"
             ],
             [
              0.3333333333333333,
              "#9c179e"
             ],
             [
              0.4444444444444444,
              "#bd3786"
             ],
             [
              0.5555555555555556,
              "#d8576b"
             ],
             [
              0.6666666666666666,
              "#ed7953"
             ],
             [
              0.7777777777777778,
              "#fb9f3a"
             ],
             [
              0.8888888888888888,
              "#fdca26"
             ],
             [
              1,
              "#f0f921"
             ]
            ],
            "type": "histogram2dcontour"
           }
          ],
          "mesh3d": [
           {
            "colorbar": {
             "outlinewidth": 0,
             "ticks": ""
            },
            "type": "mesh3d"
           }
          ],
          "parcoords": [
           {
            "line": {
             "colorbar": {
              "outlinewidth": 0,
              "ticks": ""
             }
            },
            "type": "parcoords"
           }
          ],
          "pie": [
           {
            "automargin": true,
            "type": "pie"
           }
          ],
          "scatter": [
           {
            "fillpattern": {
             "fillmode": "overlay",
             "size": 10,
             "solidity": 0.2
            },
            "type": "scatter"
           }
          ],
          "scatter3d": [
           {
            "line": {
             "colorbar": {
              "outlinewidth": 0,
              "ticks": ""
             }
            },
            "marker": {
             "colorbar": {
              "outlinewidth": 0,
              "ticks": ""
             }
            },
            "type": "scatter3d"
           }
          ],
          "scattercarpet": [
           {
            "marker": {
             "colorbar": {
              "outlinewidth": 0,
              "ticks": ""
             }
            },
            "type": "scattercarpet"
           }
          ],
          "scattergeo": [
           {
            "marker": {
             "colorbar": {
              "outlinewidth": 0,
              "ticks": ""
             }
            },
            "type": "scattergeo"
           }
          ],
          "scattergl": [
           {
            "marker": {
             "colorbar": {
              "outlinewidth": 0,
              "ticks": ""
             }
            },
            "type": "scattergl"
           }
          ],
          "scattermap": [
           {
            "marker": {
             "colorbar": {
              "outlinewidth": 0,
              "ticks": ""
             }
            },
            "type": "scattermap"
           }
          ],
          "scattermapbox": [
           {
            "marker": {
             "colorbar": {
              "outlinewidth": 0,
              "ticks": ""
             }
            },
            "type": "scattermapbox"
           }
          ],
          "scatterpolar": [
           {
            "marker": {
             "colorbar": {
              "outlinewidth": 0,
              "ticks": ""
             }
            },
            "type": "scatterpolar"
           }
          ],
          "scatterpolargl": [
           {
            "marker": {
             "colorbar": {
              "outlinewidth": 0,
              "ticks": ""
             }
            },
            "type": "scatterpolargl"
           }
          ],
          "scatterternary": [
           {
            "marker": {
             "colorbar": {
              "outlinewidth": 0,
              "ticks": ""
             }
            },
            "type": "scatterternary"
           }
          ],
          "surface": [
           {
            "colorbar": {
             "outlinewidth": 0,
             "ticks": ""
            },
            "colorscale": [
             [
              0,
              "#0d0887"
             ],
             [
              0.1111111111111111,
              "#46039f"
             ],
             [
              0.2222222222222222,
              "#7201a8"
             ],
             [
              0.3333333333333333,
              "#9c179e"
             ],
             [
              0.4444444444444444,
              "#bd3786"
             ],
             [
              0.5555555555555556,
              "#d8576b"
             ],
             [
              0.6666666666666666,
              "#ed7953"
             ],
             [
              0.7777777777777778,
              "#fb9f3a"
             ],
             [
              0.8888888888888888,
              "#fdca26"
             ],
             [
              1,
              "#f0f921"
             ]
            ],
            "type": "surface"
           }
          ],
          "table": [
           {
            "cells": {
             "fill": {
              "color": "#EBF0F8"
             },
             "line": {
              "color": "white"
             }
            },
            "header": {
             "fill": {
              "color": "#C8D4E3"
             },
             "line": {
              "color": "white"
             }
            },
            "type": "table"
           }
          ]
         },
         "layout": {
          "annotationdefaults": {
           "arrowcolor": "#2a3f5f",
           "arrowhead": 0,
           "arrowwidth": 1
          },
          "autotypenumbers": "strict",
          "coloraxis": {
           "colorbar": {
            "outlinewidth": 0,
            "ticks": ""
           }
          },
          "colorscale": {
           "diverging": [
            [
             0,
             "#8e0152"
            ],
            [
             0.1,
             "#c51b7d"
            ],
            [
             0.2,
             "#de77ae"
            ],
            [
             0.3,
             "#f1b6da"
            ],
            [
             0.4,
             "#fde0ef"
            ],
            [
             0.5,
             "#f7f7f7"
            ],
            [
             0.6,
             "#e6f5d0"
            ],
            [
             0.7,
             "#b8e186"
            ],
            [
             0.8,
             "#7fbc41"
            ],
            [
             0.9,
             "#4d9221"
            ],
            [
             1,
             "#276419"
            ]
           ],
           "sequential": [
            [
             0,
             "#0d0887"
            ],
            [
             0.1111111111111111,
             "#46039f"
            ],
            [
             0.2222222222222222,
             "#7201a8"
            ],
            [
             0.3333333333333333,
             "#9c179e"
            ],
            [
             0.4444444444444444,
             "#bd3786"
            ],
            [
             0.5555555555555556,
             "#d8576b"
            ],
            [
             0.6666666666666666,
             "#ed7953"
            ],
            [
             0.7777777777777778,
             "#fb9f3a"
            ],
            [
             0.8888888888888888,
             "#fdca26"
            ],
            [
             1,
             "#f0f921"
            ]
           ],
           "sequentialminus": [
            [
             0,
             "#0d0887"
            ],
            [
             0.1111111111111111,
             "#46039f"
            ],
            [
             0.2222222222222222,
             "#7201a8"
            ],
            [
             0.3333333333333333,
             "#9c179e"
            ],
            [
             0.4444444444444444,
             "#bd3786"
            ],
            [
             0.5555555555555556,
             "#d8576b"
            ],
            [
             0.6666666666666666,
             "#ed7953"
            ],
            [
             0.7777777777777778,
             "#fb9f3a"
            ],
            [
             0.8888888888888888,
             "#fdca26"
            ],
            [
             1,
             "#f0f921"
            ]
           ]
          },
          "colorway": [
           "#636efa",
           "#EF553B",
           "#00cc96",
           "#ab63fa",
           "#FFA15A",
           "#19d3f3",
           "#FF6692",
           "#B6E880",
           "#FF97FF",
           "#FECB52"
          ],
          "font": {
           "color": "#2a3f5f"
          },
          "geo": {
           "bgcolor": "white",
           "lakecolor": "white",
           "landcolor": "white",
           "showlakes": true,
           "showland": true,
           "subunitcolor": "#C8D4E3"
          },
          "hoverlabel": {
           "align": "left"
          },
          "hovermode": "closest",
          "mapbox": {
           "style": "light"
          },
          "paper_bgcolor": "white",
          "plot_bgcolor": "white",
          "polar": {
           "angularaxis": {
            "gridcolor": "#EBF0F8",
            "linecolor": "#EBF0F8",
            "ticks": ""
           },
           "bgcolor": "white",
           "radialaxis": {
            "gridcolor": "#EBF0F8",
            "linecolor": "#EBF0F8",
            "ticks": ""
           }
          },
          "scene": {
           "xaxis": {
            "backgroundcolor": "white",
            "gridcolor": "#DFE8F3",
            "gridwidth": 2,
            "linecolor": "#EBF0F8",
            "showbackground": true,
            "ticks": "",
            "zerolinecolor": "#EBF0F8"
           },
           "yaxis": {
            "backgroundcolor": "white",
            "gridcolor": "#DFE8F3",
            "gridwidth": 2,
            "linecolor": "#EBF0F8",
            "showbackground": true,
            "ticks": "",
            "zerolinecolor": "#EBF0F8"
           },
           "zaxis": {
            "backgroundcolor": "white",
            "gridcolor": "#DFE8F3",
            "gridwidth": 2,
            "linecolor": "#EBF0F8",
            "showbackground": true,
            "ticks": "",
            "zerolinecolor": "#EBF0F8"
           }
          },
          "shapedefaults": {
           "line": {
            "color": "#2a3f5f"
           }
          },
          "ternary": {
           "aaxis": {
            "gridcolor": "#DFE8F3",
            "linecolor": "#A2B1C6",
            "ticks": ""
           },
           "baxis": {
            "gridcolor": "#DFE8F3",
            "linecolor": "#A2B1C6",
            "ticks": ""
           },
           "bgcolor": "white",
           "caxis": {
            "gridcolor": "#DFE8F3",
            "linecolor": "#A2B1C6",
            "ticks": ""
           }
          },
          "title": {
           "x": 0.05
          },
          "xaxis": {
           "automargin": true,
           "gridcolor": "#EBF0F8",
           "linecolor": "#EBF0F8",
           "ticks": "",
           "title": {
            "standoff": 15
           },
           "zerolinecolor": "#EBF0F8",
           "zerolinewidth": 2
          },
          "yaxis": {
           "automargin": true,
           "gridcolor": "#EBF0F8",
           "linecolor": "#EBF0F8",
           "ticks": "",
           "title": {
            "standoff": 15
           },
           "zerolinecolor": "#EBF0F8",
           "zerolinewidth": 2
          }
         }
        },
        "title": {
         "text": "cpiaucsl_all_adjusted_mon3_bom_cur - Index Level"
        },
        "xaxis": {
         "tickangle": 45,
         "tickformat": "%Y-%m",
         "title": {
          "text": "Time"
         }
        },
        "yaxis": {
         "title": {
          "text": "Change"
         }
        }
       }
      }
     },
     "metadata": {},
     "output_type": "display_data"
    }
   ],
   "source": [
    "plot_forecasts(df,plot_type='index')"
   ]
  },
  {
   "cell_type": "markdown",
   "metadata": {},
   "source": [
    "### Example: Query CPI First Forecast Submodel Gasoline"
   ]
  },
  {
   "cell_type": "code",
   "execution_count": null,
   "metadata": {},
   "outputs": [
    {
     "data": {
      "text/html": [
       "<div>\n",
       "<style scoped>\n",
       "    .dataframe tbody tr th:only-of-type {\n",
       "        vertical-align: middle;\n",
       "    }\n",
       "\n",
       "    .dataframe tbody tr th {\n",
       "        vertical-align: top;\n",
       "    }\n",
       "\n",
       "    .dataframe thead th {\n",
       "        text-align: right;\n",
       "    }\n",
       "</style>\n",
       "<table border=\"1\" class=\"dataframe\">\n",
       "  <thead>\n",
       "    <tr style=\"text-align: right;\">\n",
       "      <th></th>\n",
       "      <th>date</th>\n",
       "      <th>asof_date</th>\n",
       "      <th>timestamp</th>\n",
       "      <th>identifier</th>\n",
       "      <th>frequency</th>\n",
       "      <th>mom_actual</th>\n",
       "      <th>mom_predicted</th>\n",
       "      <th>mom_difference</th>\n",
       "      <th>mom_ci_lb_95</th>\n",
       "      <th>mom_ci_ub_95</th>\n",
       "      <th>...</th>\n",
       "      <th>yoy_sign_accuracy_ttm</th>\n",
       "      <th>yoy_theil_u1_ttm</th>\n",
       "      <th>yoy_theil_u1_bias_ttm</th>\n",
       "      <th>yoy_theil_u1_variance_ttm</th>\n",
       "      <th>yoy_theil_u1_covariance_ttm</th>\n",
       "      <th>yoy_theil_u2_ttm</th>\n",
       "      <th>yoy_hit_rate_1bp_ttm</th>\n",
       "      <th>yoy_hit_rate_5bp_ttm</th>\n",
       "      <th>yoy_hit_rate_10bp_ttm</th>\n",
       "      <th>yoy_forecast_bias_ttm</th>\n",
       "    </tr>\n",
       "  </thead>\n",
       "  <tbody>\n",
       "    <tr>\n",
       "      <th>0</th>\n",
       "      <td>2025-04-07</td>\n",
       "      <td>2025-04-07 07:47:39.400</td>\n",
       "      <td>2016-09-01 00:00:00.000</td>\n",
       "      <td>cpiaucsl_gas_adjusted_mon3_bom_cur</td>\n",
       "      <td>m</td>\n",
       "      <td>0.032937</td>\n",
       "      <td>0.023646</td>\n",
       "      <td>0.009291</td>\n",
       "      <td>NaN</td>\n",
       "      <td>NaN</td>\n",
       "      <td>...</td>\n",
       "      <td>NaN</td>\n",
       "      <td>NaN</td>\n",
       "      <td>NaN</td>\n",
       "      <td>NaN</td>\n",
       "      <td>NaN</td>\n",
       "      <td>NaN</td>\n",
       "      <td>NaN</td>\n",
       "      <td>NaN</td>\n",
       "      <td>NaN</td>\n",
       "      <td>NaN</td>\n",
       "    </tr>\n",
       "    <tr>\n",
       "      <th>1</th>\n",
       "      <td>2025-04-07</td>\n",
       "      <td>2025-04-07 07:47:39.400</td>\n",
       "      <td>2016-10-01 00:00:00.000</td>\n",
       "      <td>cpiaucsl_gas_adjusted_mon3_bom_cur</td>\n",
       "      <td>m</td>\n",
       "      <td>0.042273</td>\n",
       "      <td>0.042670</td>\n",
       "      <td>-0.000397</td>\n",
       "      <td>0.029243</td>\n",
       "      <td>0.056098</td>\n",
       "      <td>...</td>\n",
       "      <td>NaN</td>\n",
       "      <td>NaN</td>\n",
       "      <td>NaN</td>\n",
       "      <td>NaN</td>\n",
       "      <td>NaN</td>\n",
       "      <td>NaN</td>\n",
       "      <td>NaN</td>\n",
       "      <td>NaN</td>\n",
       "      <td>NaN</td>\n",
       "      <td>NaN</td>\n",
       "    </tr>\n",
       "    <tr>\n",
       "      <th>2</th>\n",
       "      <td>2025-04-07</td>\n",
       "      <td>2025-04-07 07:47:39.400</td>\n",
       "      <td>2016-11-01 00:00:00.000</td>\n",
       "      <td>cpiaucsl_gas_adjusted_mon3_bom_cur</td>\n",
       "      <td>m</td>\n",
       "      <td>0.007240</td>\n",
       "      <td>0.007296</td>\n",
       "      <td>-0.000056</td>\n",
       "      <td>-0.003479</td>\n",
       "      <td>0.018072</td>\n",
       "      <td>...</td>\n",
       "      <td>NaN</td>\n",
       "      <td>NaN</td>\n",
       "      <td>NaN</td>\n",
       "      <td>NaN</td>\n",
       "      <td>NaN</td>\n",
       "      <td>NaN</td>\n",
       "      <td>NaN</td>\n",
       "      <td>NaN</td>\n",
       "      <td>NaN</td>\n",
       "      <td>NaN</td>\n",
       "    </tr>\n",
       "    <tr>\n",
       "      <th>3</th>\n",
       "      <td>2025-04-07</td>\n",
       "      <td>2025-04-07 07:47:39.400</td>\n",
       "      <td>2016-12-01 00:00:00.000</td>\n",
       "      <td>cpiaucsl_gas_adjusted_mon3_bom_cur</td>\n",
       "      <td>m</td>\n",
       "      <td>0.035258</td>\n",
       "      <td>0.046438</td>\n",
       "      <td>-0.011181</td>\n",
       "      <td>0.030035</td>\n",
       "      <td>0.062842</td>\n",
       "      <td>...</td>\n",
       "      <td>NaN</td>\n",
       "      <td>NaN</td>\n",
       "      <td>NaN</td>\n",
       "      <td>NaN</td>\n",
       "      <td>NaN</td>\n",
       "      <td>NaN</td>\n",
       "      <td>NaN</td>\n",
       "      <td>NaN</td>\n",
       "      <td>NaN</td>\n",
       "      <td>NaN</td>\n",
       "    </tr>\n",
       "    <tr>\n",
       "      <th>4</th>\n",
       "      <td>2025-04-07</td>\n",
       "      <td>2025-04-07 07:47:39.400</td>\n",
       "      <td>2017-01-01 00:00:00.000</td>\n",
       "      <td>cpiaucsl_gas_adjusted_mon3_bom_cur</td>\n",
       "      <td>m</td>\n",
       "      <td>0.056477</td>\n",
       "      <td>0.037534</td>\n",
       "      <td>0.018943</td>\n",
       "      <td>0.015290</td>\n",
       "      <td>0.059778</td>\n",
       "      <td>...</td>\n",
       "      <td>NaN</td>\n",
       "      <td>NaN</td>\n",
       "      <td>NaN</td>\n",
       "      <td>NaN</td>\n",
       "      <td>NaN</td>\n",
       "      <td>NaN</td>\n",
       "      <td>NaN</td>\n",
       "      <td>NaN</td>\n",
       "      <td>NaN</td>\n",
       "      <td>NaN</td>\n",
       "    </tr>\n",
       "    <tr>\n",
       "      <th>...</th>\n",
       "      <td>...</td>\n",
       "      <td>...</td>\n",
       "      <td>...</td>\n",
       "      <td>...</td>\n",
       "      <td>...</td>\n",
       "      <td>...</td>\n",
       "      <td>...</td>\n",
       "      <td>...</td>\n",
       "      <td>...</td>\n",
       "      <td>...</td>\n",
       "      <td>...</td>\n",
       "      <td>...</td>\n",
       "      <td>...</td>\n",
       "      <td>...</td>\n",
       "      <td>...</td>\n",
       "      <td>...</td>\n",
       "      <td>...</td>\n",
       "      <td>...</td>\n",
       "      <td>...</td>\n",
       "      <td>...</td>\n",
       "      <td>...</td>\n",
       "    </tr>\n",
       "    <tr>\n",
       "      <th>98</th>\n",
       "      <td>2025-04-07</td>\n",
       "      <td>2025-04-07 07:47:39.400</td>\n",
       "      <td>2024-11-01 00:00:00.000</td>\n",
       "      <td>cpiaucsl_gas_adjusted_mon3_bom_cur</td>\n",
       "      <td>m</td>\n",
       "      <td>0.002870</td>\n",
       "      <td>-0.001903</td>\n",
       "      <td>0.004773</td>\n",
       "      <td>-0.031933</td>\n",
       "      <td>0.028128</td>\n",
       "      <td>...</td>\n",
       "      <td>1.000000</td>\n",
       "      <td>0.043228</td>\n",
       "      <td>0.052931</td>\n",
       "      <td>0.000323</td>\n",
       "      <td>0.946746</td>\n",
       "      <td>0.115656</td>\n",
       "      <td>0.083333</td>\n",
       "      <td>0.083333</td>\n",
       "      <td>0.083333</td>\n",
       "      <td>0.001428</td>\n",
       "    </tr>\n",
       "    <tr>\n",
       "      <th>99</th>\n",
       "      <td>2025-04-07</td>\n",
       "      <td>2025-04-07 07:47:39.400</td>\n",
       "      <td>2024-12-01 00:00:00.000</td>\n",
       "      <td>cpiaucsl_gas_adjusted_mon3_bom_cur</td>\n",
       "      <td>m</td>\n",
       "      <td>0.040229</td>\n",
       "      <td>0.034209</td>\n",
       "      <td>0.006020</td>\n",
       "      <td>0.004326</td>\n",
       "      <td>0.064093</td>\n",
       "      <td>...</td>\n",
       "      <td>1.000000</td>\n",
       "      <td>0.033375</td>\n",
       "      <td>0.205687</td>\n",
       "      <td>0.014378</td>\n",
       "      <td>0.779935</td>\n",
       "      <td>0.121014</td>\n",
       "      <td>0.083333</td>\n",
       "      <td>0.083333</td>\n",
       "      <td>0.083333</td>\n",
       "      <td>0.002184</td>\n",
       "    </tr>\n",
       "    <tr>\n",
       "      <th>100</th>\n",
       "      <td>2025-04-07</td>\n",
       "      <td>2025-04-07 07:47:39.400</td>\n",
       "      <td>2025-01-01 00:00:00.000</td>\n",
       "      <td>cpiaucsl_gas_adjusted_mon3_bom_cur</td>\n",
       "      <td>m</td>\n",
       "      <td>0.017539</td>\n",
       "      <td>0.022953</td>\n",
       "      <td>-0.005414</td>\n",
       "      <td>-0.006828</td>\n",
       "      <td>0.052735</td>\n",
       "      <td>...</td>\n",
       "      <td>0.916667</td>\n",
       "      <td>0.035988</td>\n",
       "      <td>0.252208</td>\n",
       "      <td>0.021929</td>\n",
       "      <td>0.725864</td>\n",
       "      <td>0.123764</td>\n",
       "      <td>0.083333</td>\n",
       "      <td>0.083333</td>\n",
       "      <td>0.083333</td>\n",
       "      <td>0.002533</td>\n",
       "    </tr>\n",
       "    <tr>\n",
       "      <th>101</th>\n",
       "      <td>2025-04-07</td>\n",
       "      <td>2025-04-07 07:47:39.400</td>\n",
       "      <td>2025-02-01 00:00:00.000</td>\n",
       "      <td>cpiaucsl_gas_adjusted_mon3_bom_cur</td>\n",
       "      <td>m</td>\n",
       "      <td>-0.009575</td>\n",
       "      <td>-0.010155</td>\n",
       "      <td>0.000580</td>\n",
       "      <td>-0.039793</td>\n",
       "      <td>0.019483</td>\n",
       "      <td>...</td>\n",
       "      <td>0.916667</td>\n",
       "      <td>0.035722</td>\n",
       "      <td>0.205624</td>\n",
       "      <td>0.019070</td>\n",
       "      <td>0.775306</td>\n",
       "      <td>0.124917</td>\n",
       "      <td>0.083333</td>\n",
       "      <td>0.083333</td>\n",
       "      <td>0.166667</td>\n",
       "      <td>0.002261</td>\n",
       "    </tr>\n",
       "    <tr>\n",
       "      <th>102</th>\n",
       "      <td>2025-04-07</td>\n",
       "      <td>2025-04-07 07:47:39.400</td>\n",
       "      <td>2025-03-01 00:00:00.000</td>\n",
       "      <td>cpiaucsl_gas_adjusted_mon3_bom_cur</td>\n",
       "      <td>m</td>\n",
       "      <td>NaN</td>\n",
       "      <td>-0.071682</td>\n",
       "      <td>NaN</td>\n",
       "      <td>-0.101320</td>\n",
       "      <td>-0.042044</td>\n",
       "      <td>...</td>\n",
       "      <td>0.909091</td>\n",
       "      <td>0.034739</td>\n",
       "      <td>0.171422</td>\n",
       "      <td>0.012982</td>\n",
       "      <td>0.815596</td>\n",
       "      <td>0.106267</td>\n",
       "      <td>0.090909</td>\n",
       "      <td>0.090909</td>\n",
       "      <td>0.181818</td>\n",
       "      <td>0.002095</td>\n",
       "    </tr>\n",
       "  </tbody>\n",
       "</table>\n",
       "<p>103 rows × 122 columns</p>\n",
       "</div>"
      ],
      "text/plain": [
       "           date                asof_date                timestamp  \\\n",
       "0    2025-04-07  2025-04-07 07:47:39.400  2016-09-01 00:00:00.000   \n",
       "1    2025-04-07  2025-04-07 07:47:39.400  2016-10-01 00:00:00.000   \n",
       "2    2025-04-07  2025-04-07 07:47:39.400  2016-11-01 00:00:00.000   \n",
       "3    2025-04-07  2025-04-07 07:47:39.400  2016-12-01 00:00:00.000   \n",
       "4    2025-04-07  2025-04-07 07:47:39.400  2017-01-01 00:00:00.000   \n",
       "..          ...                      ...                      ...   \n",
       "98   2025-04-07  2025-04-07 07:47:39.400  2024-11-01 00:00:00.000   \n",
       "99   2025-04-07  2025-04-07 07:47:39.400  2024-12-01 00:00:00.000   \n",
       "100  2025-04-07  2025-04-07 07:47:39.400  2025-01-01 00:00:00.000   \n",
       "101  2025-04-07  2025-04-07 07:47:39.400  2025-02-01 00:00:00.000   \n",
       "102  2025-04-07  2025-04-07 07:47:39.400  2025-03-01 00:00:00.000   \n",
       "\n",
       "                             identifier frequency  mom_actual  mom_predicted  \\\n",
       "0    cpiaucsl_gas_adjusted_mon3_bom_cur         m    0.032937       0.023646   \n",
       "1    cpiaucsl_gas_adjusted_mon3_bom_cur         m    0.042273       0.042670   \n",
       "2    cpiaucsl_gas_adjusted_mon3_bom_cur         m    0.007240       0.007296   \n",
       "3    cpiaucsl_gas_adjusted_mon3_bom_cur         m    0.035258       0.046438   \n",
       "4    cpiaucsl_gas_adjusted_mon3_bom_cur         m    0.056477       0.037534   \n",
       "..                                  ...       ...         ...            ...   \n",
       "98   cpiaucsl_gas_adjusted_mon3_bom_cur         m    0.002870      -0.001903   \n",
       "99   cpiaucsl_gas_adjusted_mon3_bom_cur         m    0.040229       0.034209   \n",
       "100  cpiaucsl_gas_adjusted_mon3_bom_cur         m    0.017539       0.022953   \n",
       "101  cpiaucsl_gas_adjusted_mon3_bom_cur         m   -0.009575      -0.010155   \n",
       "102  cpiaucsl_gas_adjusted_mon3_bom_cur         m         NaN      -0.071682   \n",
       "\n",
       "     mom_difference  mom_ci_lb_95  mom_ci_ub_95  ...  yoy_sign_accuracy_ttm  \\\n",
       "0          0.009291           NaN           NaN  ...                    NaN   \n",
       "1         -0.000397      0.029243      0.056098  ...                    NaN   \n",
       "2         -0.000056     -0.003479      0.018072  ...                    NaN   \n",
       "3         -0.011181      0.030035      0.062842  ...                    NaN   \n",
       "4          0.018943      0.015290      0.059778  ...                    NaN   \n",
       "..              ...           ...           ...  ...                    ...   \n",
       "98         0.004773     -0.031933      0.028128  ...               1.000000   \n",
       "99         0.006020      0.004326      0.064093  ...               1.000000   \n",
       "100       -0.005414     -0.006828      0.052735  ...               0.916667   \n",
       "101        0.000580     -0.039793      0.019483  ...               0.916667   \n",
       "102             NaN     -0.101320     -0.042044  ...               0.909091   \n",
       "\n",
       "     yoy_theil_u1_ttm  yoy_theil_u1_bias_ttm  yoy_theil_u1_variance_ttm  \\\n",
       "0                 NaN                    NaN                        NaN   \n",
       "1                 NaN                    NaN                        NaN   \n",
       "2                 NaN                    NaN                        NaN   \n",
       "3                 NaN                    NaN                        NaN   \n",
       "4                 NaN                    NaN                        NaN   \n",
       "..                ...                    ...                        ...   \n",
       "98           0.043228               0.052931                   0.000323   \n",
       "99           0.033375               0.205687                   0.014378   \n",
       "100          0.035988               0.252208                   0.021929   \n",
       "101          0.035722               0.205624                   0.019070   \n",
       "102          0.034739               0.171422                   0.012982   \n",
       "\n",
       "     yoy_theil_u1_covariance_ttm  yoy_theil_u2_ttm  yoy_hit_rate_1bp_ttm  \\\n",
       "0                            NaN               NaN                   NaN   \n",
       "1                            NaN               NaN                   NaN   \n",
       "2                            NaN               NaN                   NaN   \n",
       "3                            NaN               NaN                   NaN   \n",
       "4                            NaN               NaN                   NaN   \n",
       "..                           ...               ...                   ...   \n",
       "98                      0.946746          0.115656              0.083333   \n",
       "99                      0.779935          0.121014              0.083333   \n",
       "100                     0.725864          0.123764              0.083333   \n",
       "101                     0.775306          0.124917              0.083333   \n",
       "102                     0.815596          0.106267              0.090909   \n",
       "\n",
       "     yoy_hit_rate_5bp_ttm  yoy_hit_rate_10bp_ttm  yoy_forecast_bias_ttm  \n",
       "0                     NaN                    NaN                    NaN  \n",
       "1                     NaN                    NaN                    NaN  \n",
       "2                     NaN                    NaN                    NaN  \n",
       "3                     NaN                    NaN                    NaN  \n",
       "4                     NaN                    NaN                    NaN  \n",
       "..                    ...                    ...                    ...  \n",
       "98               0.083333               0.083333               0.001428  \n",
       "99               0.083333               0.083333               0.002184  \n",
       "100              0.083333               0.083333               0.002533  \n",
       "101              0.083333               0.166667               0.002261  \n",
       "102              0.090909               0.181818               0.002095  \n",
       "\n",
       "[103 rows x 122 columns]"
      ]
     },
     "execution_count": 28,
     "metadata": {},
     "output_type": "execute_result"
    }
   ],
   "source": [
    "df = unifier.get_dataframe(name='lseg_macro_us_core_predictions', key='cpiaucsl_gas_adjusted_mon3_bom_cur', asof_date='2025-04-07' ,back_to=None,up_to=None, limit=None)\n",
    "df"
   ]
  },
  {
   "cell_type": "code",
   "execution_count": null,
   "metadata": {},
   "outputs": [
    {
     "data": {
      "application/vnd.plotly.v1+json": {
       "config": {
        "plotlyServerURL": "https://plot.ly"
       },
       "data": [
        {
         "line": {
          "color": "royalblue"
         },
         "marker": {
          "size": 6,
          "symbol": "circle"
         },
         "mode": "lines+markers",
         "name": "Actual",
         "type": "scatter",
         "x": [
          "2016-09-01 00:00:00.000",
          "2016-10-01 00:00:00.000",
          "2016-11-01 00:00:00.000",
          "2016-12-01 00:00:00.000",
          "2017-01-01 00:00:00.000",
          "2017-02-01 00:00:00.000",
          "2017-03-01 00:00:00.000",
          "2017-04-01 00:00:00.000",
          "2017-05-01 00:00:00.000",
          "2017-06-01 00:00:00.000",
          "2017-07-01 00:00:00.000",
          "2017-08-01 00:00:00.000",
          "2017-09-01 00:00:00.000",
          "2017-10-01 00:00:00.000",
          "2017-11-01 00:00:00.000",
          "2017-12-01 00:00:00.000",
          "2018-01-01 00:00:00.000",
          "2018-02-01 00:00:00.000",
          "2018-03-01 00:00:00.000",
          "2018-04-01 00:00:00.000",
          "2018-05-01 00:00:00.000",
          "2018-06-01 00:00:00.000",
          "2018-07-01 00:00:00.000",
          "2018-08-01 00:00:00.000",
          "2018-09-01 00:00:00.000",
          "2018-10-01 00:00:00.000",
          "2018-11-01 00:00:00.000",
          "2018-12-01 00:00:00.000",
          "2019-01-01 00:00:00.000",
          "2019-02-01 00:00:00.000",
          "2019-03-01 00:00:00.000",
          "2019-04-01 00:00:00.000",
          "2019-05-01 00:00:00.000",
          "2019-06-01 00:00:00.000",
          "2019-07-01 00:00:00.000",
          "2019-08-01 00:00:00.000",
          "2019-09-01 00:00:00.000",
          "2019-10-01 00:00:00.000",
          "2019-11-01 00:00:00.000",
          "2019-12-01 00:00:00.000",
          "2020-01-01 00:00:00.000",
          "2020-02-01 00:00:00.000",
          "2020-03-01 00:00:00.000",
          "2020-04-01 00:00:00.000",
          "2020-05-01 00:00:00.000",
          "2020-06-01 00:00:00.000",
          "2020-07-01 00:00:00.000",
          "2020-08-01 00:00:00.000",
          "2020-09-01 00:00:00.000",
          "2020-10-01 00:00:00.000",
          "2020-11-01 00:00:00.000",
          "2020-12-01 00:00:00.000",
          "2021-01-01 00:00:00.000",
          "2021-02-01 00:00:00.000",
          "2021-03-01 00:00:00.000",
          "2021-04-01 00:00:00.000",
          "2021-05-01 00:00:00.000",
          "2021-06-01 00:00:00.000",
          "2021-07-01 00:00:00.000",
          "2021-08-01 00:00:00.000",
          "2021-09-01 00:00:00.000",
          "2021-10-01 00:00:00.000",
          "2021-11-01 00:00:00.000",
          "2021-12-01 00:00:00.000",
          "2022-01-01 00:00:00.000",
          "2022-02-01 00:00:00.000",
          "2022-03-01 00:00:00.000",
          "2022-04-01 00:00:00.000",
          "2022-05-01 00:00:00.000",
          "2022-06-01 00:00:00.000",
          "2022-07-01 00:00:00.000",
          "2022-08-01 00:00:00.000",
          "2022-09-01 00:00:00.000",
          "2022-10-01 00:00:00.000",
          "2022-11-01 00:00:00.000",
          "2022-12-01 00:00:00.000",
          "2023-01-01 00:00:00.000",
          "2023-02-01 00:00:00.000",
          "2023-03-01 00:00:00.000",
          "2023-04-01 00:00:00.000",
          "2023-05-01 00:00:00.000",
          "2023-06-01 00:00:00.000",
          "2023-07-01 00:00:00.000",
          "2023-08-01 00:00:00.000",
          "2023-09-01 00:00:00.000",
          "2023-10-01 00:00:00.000",
          "2023-11-01 00:00:00.000",
          "2023-12-01 00:00:00.000",
          "2024-01-01 00:00:00.000",
          "2024-02-01 00:00:00.000",
          "2024-03-01 00:00:00.000",
          "2024-04-01 00:00:00.000",
          "2024-05-01 00:00:00.000",
          "2024-06-01 00:00:00.000",
          "2024-07-01 00:00:00.000",
          "2024-08-01 00:00:00.000",
          "2024-09-01 00:00:00.000",
          "2024-10-01 00:00:00.000",
          "2024-11-01 00:00:00.000",
          "2024-12-01 00:00:00.000",
          "2025-01-01 00:00:00.000",
          "2025-02-01 00:00:00.000",
          "2025-03-01 00:00:00.000"
         ],
         "y": {
          "bdata": "wO7dfxrdoD8gR4Rf0qSlPwAVeuXEp30/oBCHh0UNoj/gu4TChuqsP6BgWlljDJS/wPdq3aAljL8A/gbCnWp/vzDIupDEfau/gFEW/A07hb9gNhzeP3CUvyDiy4gWNa8/sDL+WIwEvz+gC3xSosakvyAh6Xk3MKc/AOAYSmTnFr+AW0OIQcycP8CYpG08VJM/IM6LHPAGor/gIpnYI42gPwDj0tU0Xo4/AC4Z7Ga5aT8AWEXjUR19v4CWHcZxlZQ/gH6StZY3kT+A5bUZx1+JP3DOLghmoK6/YGtZ+Gl1rL/4wzvX/5OyvwCCK3P43aQ/wMa8QIUcrj8ARQRUoGexP8BcKk12y4m/gLh7+Lnvpr+A4upUnh2OP6Ak8f0UXZe/gIGj5LbQer8Ai5bK6nmSP8AJjPfRKpQ/gJMPlDFvnz+A12AIKDF+vxC/kJUm0qi/KLKbMjaTvL8cvGV8PQfJv6ARShXFa5y/MNSgviubvD9gYs66RNajP4BQ3q2w/5E/QOdvg4nLmT9AHKcVzmCAvwDQCvUNflk/MNCxBRuYtj/AQDT/mCivP+C6BiK1LK0/gJT/ny5Ssj9Aal1qXvORvwBIsFyIYY8/QL4obSHeoD8AHjlgJBaPP0DPZluXL5g/QL8J47eOlT/g0hbYzwenPyDLzHi0v60/APWTBumSnj8AbFjIvMBMvwDSU/buQqM/8G4ATOQ3wj+QmKGhxj6mvwAW2OfaM6o/YKWs2pJovD8IGug6hOC2v6h3CVuyKbu/QLM+aNHZob/gY7ZGUg6kP4CfRu4OYXe/wG+muuTBtL/A8AxYsbqfPwAMveP/Sl2/cOIYsry5pL+AN2LzlS2UP6C/4P6H0KK/AFD5Ih+ckD/APfrc0jSFv9BC78ne9LM/4NtDgPeKoD/AyfmowW6mvwAOgXAhk6W/gA4GUXxKh79Anr/55OSMvwBV268hrJQ/AAZxnHuBfD9AQru4hA2WPyA67jF045i/oCxTPxECn7/Aud8SumGCv8AqUnAoLoi/QNaijbLUl7/AHgZxaxWEvwBSm/Fzg2c/oLGtIOSYpD+ABB8L0/WRP8AQiIPam4O/AAAAAAAA+H8=",
          "dtype": "f8"
         }
        },
        {
         "line": {
          "color": "firebrick"
         },
         "marker": {
          "size": 6,
          "symbol": "x"
         },
         "mode": "lines+markers",
         "name": "Predicted",
         "type": "scatter",
         "x": [
          "2016-09-01 00:00:00.000",
          "2016-10-01 00:00:00.000",
          "2016-11-01 00:00:00.000",
          "2016-12-01 00:00:00.000",
          "2017-01-01 00:00:00.000",
          "2017-02-01 00:00:00.000",
          "2017-03-01 00:00:00.000",
          "2017-04-01 00:00:00.000",
          "2017-05-01 00:00:00.000",
          "2017-06-01 00:00:00.000",
          "2017-07-01 00:00:00.000",
          "2017-08-01 00:00:00.000",
          "2017-09-01 00:00:00.000",
          "2017-10-01 00:00:00.000",
          "2017-11-01 00:00:00.000",
          "2017-12-01 00:00:00.000",
          "2018-01-01 00:00:00.000",
          "2018-02-01 00:00:00.000",
          "2018-03-01 00:00:00.000",
          "2018-04-01 00:00:00.000",
          "2018-05-01 00:00:00.000",
          "2018-06-01 00:00:00.000",
          "2018-07-01 00:00:00.000",
          "2018-08-01 00:00:00.000",
          "2018-09-01 00:00:00.000",
          "2018-10-01 00:00:00.000",
          "2018-11-01 00:00:00.000",
          "2018-12-01 00:00:00.000",
          "2019-01-01 00:00:00.000",
          "2019-02-01 00:00:00.000",
          "2019-03-01 00:00:00.000",
          "2019-04-01 00:00:00.000",
          "2019-05-01 00:00:00.000",
          "2019-06-01 00:00:00.000",
          "2019-07-01 00:00:00.000",
          "2019-08-01 00:00:00.000",
          "2019-09-01 00:00:00.000",
          "2019-10-01 00:00:00.000",
          "2019-11-01 00:00:00.000",
          "2019-12-01 00:00:00.000",
          "2020-01-01 00:00:00.000",
          "2020-02-01 00:00:00.000",
          "2020-03-01 00:00:00.000",
          "2020-04-01 00:00:00.000",
          "2020-05-01 00:00:00.000",
          "2020-06-01 00:00:00.000",
          "2020-07-01 00:00:00.000",
          "2020-08-01 00:00:00.000",
          "2020-09-01 00:00:00.000",
          "2020-10-01 00:00:00.000",
          "2020-11-01 00:00:00.000",
          "2020-12-01 00:00:00.000",
          "2021-01-01 00:00:00.000",
          "2021-02-01 00:00:00.000",
          "2021-03-01 00:00:00.000",
          "2021-04-01 00:00:00.000",
          "2021-05-01 00:00:00.000",
          "2021-06-01 00:00:00.000",
          "2021-07-01 00:00:00.000",
          "2021-08-01 00:00:00.000",
          "2021-09-01 00:00:00.000",
          "2021-10-01 00:00:00.000",
          "2021-11-01 00:00:00.000",
          "2021-12-01 00:00:00.000",
          "2022-01-01 00:00:00.000",
          "2022-02-01 00:00:00.000",
          "2022-03-01 00:00:00.000",
          "2022-04-01 00:00:00.000",
          "2022-05-01 00:00:00.000",
          "2022-06-01 00:00:00.000",
          "2022-07-01 00:00:00.000",
          "2022-08-01 00:00:00.000",
          "2022-09-01 00:00:00.000",
          "2022-10-01 00:00:00.000",
          "2022-11-01 00:00:00.000",
          "2022-12-01 00:00:00.000",
          "2023-01-01 00:00:00.000",
          "2023-02-01 00:00:00.000",
          "2023-03-01 00:00:00.000",
          "2023-04-01 00:00:00.000",
          "2023-05-01 00:00:00.000",
          "2023-06-01 00:00:00.000",
          "2023-07-01 00:00:00.000",
          "2023-08-01 00:00:00.000",
          "2023-09-01 00:00:00.000",
          "2023-10-01 00:00:00.000",
          "2023-11-01 00:00:00.000",
          "2023-12-01 00:00:00.000",
          "2024-01-01 00:00:00.000",
          "2024-02-01 00:00:00.000",
          "2024-03-01 00:00:00.000",
          "2024-04-01 00:00:00.000",
          "2024-05-01 00:00:00.000",
          "2024-06-01 00:00:00.000",
          "2024-07-01 00:00:00.000",
          "2024-08-01 00:00:00.000",
          "2024-09-01 00:00:00.000",
          "2024-10-01 00:00:00.000",
          "2024-11-01 00:00:00.000",
          "2024-12-01 00:00:00.000",
          "2025-01-01 00:00:00.000",
          "2025-02-01 00:00:00.000",
          "2025-03-01 00:00:00.000"
         ],
         "y": {
          "bdata": "oFLxGJ42mD/wEAuX5dilPwDibiC/4n0/YAIKq8fGpz+AkAFtqTejP8BpVSPUzqS/AFvKgBAZkb8A2CaI80hgv2CdTkKRDbC/API4Okvkfr+wVBBkjyOgv9BbIPoHdKk/ANBxGYukvT9AUP7HUcmfv1DnT7nApao/wCrUnc5Tk79Aj9SCaXCZP0AL1mGdQZY/IFEavaTjmL8A4IhdWjkjP4Cyz9Vs43Q/gFkqmjyEcD9AIwcCTiuCvwDzlSnXi4A/APplyrgJgj+ALemmOpqdP0DmkKu3+KO/UO9VTSxNs78gt1x/Mf+wvwDHpiYWIZM/YGQGsU5+qT+g8eNVoFuzP8AwUEGcI5W/IANI22scpb8gJkDOa3qQP2CRnAM3OZG/gEd1Glmrkr9AGqAZLnqlP4Bo4G3AY3u/4M99g/balz/AbLFbhFacv+CJBQhCvKO/MOoKPGe0s78IHcNQsQLKv3A8yDUPwqS/ENhFOxxXuD8A+9eKgIawP4DFgmN9T30/gDGNLzrteD+AGo8TSD6Fv2CqUuoscpQ/6BpJg8BhtD/Y5dr4EeewP2BH8PNsSKk/cCBvPc77sj/AkgGGc7KNv0BMWcXhlZM/gDLLvoCLoT8AAGyGZciKP0DjsCiTUJk/gOsQrbAnlz8wKFFH9eOiP4CxaigfUa8/QD+rwlvKnz+AsrEXsdKHv+CxCnhzb6w/AFyuFqQ/sj+gz5eCFrSvv6A0Wk5wOaI/aOQ6oIFGwT/g11jp7Ku0v7gb1TaHcsO/8BwGf4Z8s79wdtweu4CwPwCaRlkX93+/AN7oCE3iuL/Arj3/W8uCP4DvsMVgsoc/QPtf+OPsqb+AaJRScgSMP8DCzC5v3aW/QHoi/qGklD8Aicl0yK6QvwBwSR5ws7c/gCqze7ZFmD+AFY5ajTOov7CY/mDJLq2/YOjDXbzBmr8A10sognmKvwCHNArumpc/wC35xCCdhj9AtyawDTGfP6D3/HKlo5W/AL2P5OHtnr+AelvHKyR7vwCYJma3lEa/wH1yvCSXlb9AdvSJAg2AvwC2Kb7QLF+/AHHOjeKDoT+AhmLvHIGXPwCAbAP4y4S/EGRpe75Zsr8=",
          "dtype": "f8"
         }
        }
       ],
       "layout": {
        "height": 500,
        "hovermode": "x unified",
        "legend": {
         "bgcolor": "rgba(255,255,255,0.5)",
         "bordercolor": "gray",
         "x": 0.01,
         "y": 0.99
        },
        "margin": {
         "b": 40,
         "l": 40,
         "r": 20,
         "t": 60
        },
        "template": {
         "data": {
          "bar": [
           {
            "error_x": {
             "color": "#2a3f5f"
            },
            "error_y": {
             "color": "#2a3f5f"
            },
            "marker": {
             "line": {
              "color": "white",
              "width": 0.5
             },
             "pattern": {
              "fillmode": "overlay",
              "size": 10,
              "solidity": 0.2
             }
            },
            "type": "bar"
           }
          ],
          "barpolar": [
           {
            "marker": {
             "line": {
              "color": "white",
              "width": 0.5
             },
             "pattern": {
              "fillmode": "overlay",
              "size": 10,
              "solidity": 0.2
             }
            },
            "type": "barpolar"
           }
          ],
          "carpet": [
           {
            "aaxis": {
             "endlinecolor": "#2a3f5f",
             "gridcolor": "#C8D4E3",
             "linecolor": "#C8D4E3",
             "minorgridcolor": "#C8D4E3",
             "startlinecolor": "#2a3f5f"
            },
            "baxis": {
             "endlinecolor": "#2a3f5f",
             "gridcolor": "#C8D4E3",
             "linecolor": "#C8D4E3",
             "minorgridcolor": "#C8D4E3",
             "startlinecolor": "#2a3f5f"
            },
            "type": "carpet"
           }
          ],
          "choropleth": [
           {
            "colorbar": {
             "outlinewidth": 0,
             "ticks": ""
            },
            "type": "choropleth"
           }
          ],
          "contour": [
           {
            "colorbar": {
             "outlinewidth": 0,
             "ticks": ""
            },
            "colorscale": [
             [
              0,
              "#0d0887"
             ],
             [
              0.1111111111111111,
              "#46039f"
             ],
             [
              0.2222222222222222,
              "#7201a8"
             ],
             [
              0.3333333333333333,
              "#9c179e"
             ],
             [
              0.4444444444444444,
              "#bd3786"
             ],
             [
              0.5555555555555556,
              "#d8576b"
             ],
             [
              0.6666666666666666,
              "#ed7953"
             ],
             [
              0.7777777777777778,
              "#fb9f3a"
             ],
             [
              0.8888888888888888,
              "#fdca26"
             ],
             [
              1,
              "#f0f921"
             ]
            ],
            "type": "contour"
           }
          ],
          "contourcarpet": [
           {
            "colorbar": {
             "outlinewidth": 0,
             "ticks": ""
            },
            "type": "contourcarpet"
           }
          ],
          "heatmap": [
           {
            "colorbar": {
             "outlinewidth": 0,
             "ticks": ""
            },
            "colorscale": [
             [
              0,
              "#0d0887"
             ],
             [
              0.1111111111111111,
              "#46039f"
             ],
             [
              0.2222222222222222,
              "#7201a8"
             ],
             [
              0.3333333333333333,
              "#9c179e"
             ],
             [
              0.4444444444444444,
              "#bd3786"
             ],
             [
              0.5555555555555556,
              "#d8576b"
             ],
             [
              0.6666666666666666,
              "#ed7953"
             ],
             [
              0.7777777777777778,
              "#fb9f3a"
             ],
             [
              0.8888888888888888,
              "#fdca26"
             ],
             [
              1,
              "#f0f921"
             ]
            ],
            "type": "heatmap"
           }
          ],
          "histogram": [
           {
            "marker": {
             "pattern": {
              "fillmode": "overlay",
              "size": 10,
              "solidity": 0.2
             }
            },
            "type": "histogram"
           }
          ],
          "histogram2d": [
           {
            "colorbar": {
             "outlinewidth": 0,
             "ticks": ""
            },
            "colorscale": [
             [
              0,
              "#0d0887"
             ],
             [
              0.1111111111111111,
              "#46039f"
             ],
             [
              0.2222222222222222,
              "#7201a8"
             ],
             [
              0.3333333333333333,
              "#9c179e"
             ],
             [
              0.4444444444444444,
              "#bd3786"
             ],
             [
              0.5555555555555556,
              "#d8576b"
             ],
             [
              0.6666666666666666,
              "#ed7953"
             ],
             [
              0.7777777777777778,
              "#fb9f3a"
             ],
             [
              0.8888888888888888,
              "#fdca26"
             ],
             [
              1,
              "#f0f921"
             ]
            ],
            "type": "histogram2d"
           }
          ],
          "histogram2dcontour": [
           {
            "colorbar": {
             "outlinewidth": 0,
             "ticks": ""
            },
            "colorscale": [
             [
              0,
              "#0d0887"
             ],
             [
              0.1111111111111111,
              "#46039f"
             ],
             [
              0.2222222222222222,
              "#7201a8"
             ],
             [
              0.3333333333333333,
              "#9c179e"
             ],
             [
              0.4444444444444444,
              "#bd3786"
             ],
             [
              0.5555555555555556,
              "#d8576b"
             ],
             [
              0.6666666666666666,
              "#ed7953"
             ],
             [
              0.7777777777777778,
              "#fb9f3a"
             ],
             [
              0.8888888888888888,
              "#fdca26"
             ],
             [
              1,
              "#f0f921"
             ]
            ],
            "type": "histogram2dcontour"
           }
          ],
          "mesh3d": [
           {
            "colorbar": {
             "outlinewidth": 0,
             "ticks": ""
            },
            "type": "mesh3d"
           }
          ],
          "parcoords": [
           {
            "line": {
             "colorbar": {
              "outlinewidth": 0,
              "ticks": ""
             }
            },
            "type": "parcoords"
           }
          ],
          "pie": [
           {
            "automargin": true,
            "type": "pie"
           }
          ],
          "scatter": [
           {
            "fillpattern": {
             "fillmode": "overlay",
             "size": 10,
             "solidity": 0.2
            },
            "type": "scatter"
           }
          ],
          "scatter3d": [
           {
            "line": {
             "colorbar": {
              "outlinewidth": 0,
              "ticks": ""
             }
            },
            "marker": {
             "colorbar": {
              "outlinewidth": 0,
              "ticks": ""
             }
            },
            "type": "scatter3d"
           }
          ],
          "scattercarpet": [
           {
            "marker": {
             "colorbar": {
              "outlinewidth": 0,
              "ticks": ""
             }
            },
            "type": "scattercarpet"
           }
          ],
          "scattergeo": [
           {
            "marker": {
             "colorbar": {
              "outlinewidth": 0,
              "ticks": ""
             }
            },
            "type": "scattergeo"
           }
          ],
          "scattergl": [
           {
            "marker": {
             "colorbar": {
              "outlinewidth": 0,
              "ticks": ""
             }
            },
            "type": "scattergl"
           }
          ],
          "scattermap": [
           {
            "marker": {
             "colorbar": {
              "outlinewidth": 0,
              "ticks": ""
             }
            },
            "type": "scattermap"
           }
          ],
          "scattermapbox": [
           {
            "marker": {
             "colorbar": {
              "outlinewidth": 0,
              "ticks": ""
             }
            },
            "type": "scattermapbox"
           }
          ],
          "scatterpolar": [
           {
            "marker": {
             "colorbar": {
              "outlinewidth": 0,
              "ticks": ""
             }
            },
            "type": "scatterpolar"
           }
          ],
          "scatterpolargl": [
           {
            "marker": {
             "colorbar": {
              "outlinewidth": 0,
              "ticks": ""
             }
            },
            "type": "scatterpolargl"
           }
          ],
          "scatterternary": [
           {
            "marker": {
             "colorbar": {
              "outlinewidth": 0,
              "ticks": ""
             }
            },
            "type": "scatterternary"
           }
          ],
          "surface": [
           {
            "colorbar": {
             "outlinewidth": 0,
             "ticks": ""
            },
            "colorscale": [
             [
              0,
              "#0d0887"
             ],
             [
              0.1111111111111111,
              "#46039f"
             ],
             [
              0.2222222222222222,
              "#7201a8"
             ],
             [
              0.3333333333333333,
              "#9c179e"
             ],
             [
              0.4444444444444444,
              "#bd3786"
             ],
             [
              0.5555555555555556,
              "#d8576b"
             ],
             [
              0.6666666666666666,
              "#ed7953"
             ],
             [
              0.7777777777777778,
              "#fb9f3a"
             ],
             [
              0.8888888888888888,
              "#fdca26"
             ],
             [
              1,
              "#f0f921"
             ]
            ],
            "type": "surface"
           }
          ],
          "table": [
           {
            "cells": {
             "fill": {
              "color": "#EBF0F8"
             },
             "line": {
              "color": "white"
             }
            },
            "header": {
             "fill": {
              "color": "#C8D4E3"
             },
             "line": {
              "color": "white"
             }
            },
            "type": "table"
           }
          ]
         },
         "layout": {
          "annotationdefaults": {
           "arrowcolor": "#2a3f5f",
           "arrowhead": 0,
           "arrowwidth": 1
          },
          "autotypenumbers": "strict",
          "coloraxis": {
           "colorbar": {
            "outlinewidth": 0,
            "ticks": ""
           }
          },
          "colorscale": {
           "diverging": [
            [
             0,
             "#8e0152"
            ],
            [
             0.1,
             "#c51b7d"
            ],
            [
             0.2,
             "#de77ae"
            ],
            [
             0.3,
             "#f1b6da"
            ],
            [
             0.4,
             "#fde0ef"
            ],
            [
             0.5,
             "#f7f7f7"
            ],
            [
             0.6,
             "#e6f5d0"
            ],
            [
             0.7,
             "#b8e186"
            ],
            [
             0.8,
             "#7fbc41"
            ],
            [
             0.9,
             "#4d9221"
            ],
            [
             1,
             "#276419"
            ]
           ],
           "sequential": [
            [
             0,
             "#0d0887"
            ],
            [
             0.1111111111111111,
             "#46039f"
            ],
            [
             0.2222222222222222,
             "#7201a8"
            ],
            [
             0.3333333333333333,
             "#9c179e"
            ],
            [
             0.4444444444444444,
             "#bd3786"
            ],
            [
             0.5555555555555556,
             "#d8576b"
            ],
            [
             0.6666666666666666,
             "#ed7953"
            ],
            [
             0.7777777777777778,
             "#fb9f3a"
            ],
            [
             0.8888888888888888,
             "#fdca26"
            ],
            [
             1,
             "#f0f921"
            ]
           ],
           "sequentialminus": [
            [
             0,
             "#0d0887"
            ],
            [
             0.1111111111111111,
             "#46039f"
            ],
            [
             0.2222222222222222,
             "#7201a8"
            ],
            [
             0.3333333333333333,
             "#9c179e"
            ],
            [
             0.4444444444444444,
             "#bd3786"
            ],
            [
             0.5555555555555556,
             "#d8576b"
            ],
            [
             0.6666666666666666,
             "#ed7953"
            ],
            [
             0.7777777777777778,
             "#fb9f3a"
            ],
            [
             0.8888888888888888,
             "#fdca26"
            ],
            [
             1,
             "#f0f921"
            ]
           ]
          },
          "colorway": [
           "#636efa",
           "#EF553B",
           "#00cc96",
           "#ab63fa",
           "#FFA15A",
           "#19d3f3",
           "#FF6692",
           "#B6E880",
           "#FF97FF",
           "#FECB52"
          ],
          "font": {
           "color": "#2a3f5f"
          },
          "geo": {
           "bgcolor": "white",
           "lakecolor": "white",
           "landcolor": "white",
           "showlakes": true,
           "showland": true,
           "subunitcolor": "#C8D4E3"
          },
          "hoverlabel": {
           "align": "left"
          },
          "hovermode": "closest",
          "mapbox": {
           "style": "light"
          },
          "paper_bgcolor": "white",
          "plot_bgcolor": "white",
          "polar": {
           "angularaxis": {
            "gridcolor": "#EBF0F8",
            "linecolor": "#EBF0F8",
            "ticks": ""
           },
           "bgcolor": "white",
           "radialaxis": {
            "gridcolor": "#EBF0F8",
            "linecolor": "#EBF0F8",
            "ticks": ""
           }
          },
          "scene": {
           "xaxis": {
            "backgroundcolor": "white",
            "gridcolor": "#DFE8F3",
            "gridwidth": 2,
            "linecolor": "#EBF0F8",
            "showbackground": true,
            "ticks": "",
            "zerolinecolor": "#EBF0F8"
           },
           "yaxis": {
            "backgroundcolor": "white",
            "gridcolor": "#DFE8F3",
            "gridwidth": 2,
            "linecolor": "#EBF0F8",
            "showbackground": true,
            "ticks": "",
            "zerolinecolor": "#EBF0F8"
           },
           "zaxis": {
            "backgroundcolor": "white",
            "gridcolor": "#DFE8F3",
            "gridwidth": 2,
            "linecolor": "#EBF0F8",
            "showbackground": true,
            "ticks": "",
            "zerolinecolor": "#EBF0F8"
           }
          },
          "shapedefaults": {
           "line": {
            "color": "#2a3f5f"
           }
          },
          "ternary": {
           "aaxis": {
            "gridcolor": "#DFE8F3",
            "linecolor": "#A2B1C6",
            "ticks": ""
           },
           "baxis": {
            "gridcolor": "#DFE8F3",
            "linecolor": "#A2B1C6",
            "ticks": ""
           },
           "bgcolor": "white",
           "caxis": {
            "gridcolor": "#DFE8F3",
            "linecolor": "#A2B1C6",
            "ticks": ""
           }
          },
          "title": {
           "x": 0.05
          },
          "xaxis": {
           "automargin": true,
           "gridcolor": "#EBF0F8",
           "linecolor": "#EBF0F8",
           "ticks": "",
           "title": {
            "standoff": 15
           },
           "zerolinecolor": "#EBF0F8",
           "zerolinewidth": 2
          },
          "yaxis": {
           "automargin": true,
           "gridcolor": "#EBF0F8",
           "linecolor": "#EBF0F8",
           "ticks": "",
           "title": {
            "standoff": 15
           },
           "zerolinecolor": "#EBF0F8",
           "zerolinewidth": 2
          }
         }
        },
        "title": {
         "text": "cpiaucsl_gas_adjusted_mon3_bom_cur - Month-over-Month"
        },
        "xaxis": {
         "tickangle": 45,
         "tickformat": "%Y-%m",
         "title": {
          "text": "Time"
         }
        },
        "yaxis": {
         "title": {
          "text": "Percentage Change"
         }
        }
       }
      }
     },
     "metadata": {},
     "output_type": "display_data"
    }
   ],
   "source": [
    "plot_forecasts(df,plot_type='mom')"
   ]
  },
  {
   "cell_type": "markdown",
   "metadata": {},
   "source": [
    "### Example: Query Retail Sales Forecast"
   ]
  },
  {
   "cell_type": "code",
   "execution_count": null,
   "metadata": {},
   "outputs": [
    {
     "data": {
      "text/html": [
       "<div>\n",
       "<style scoped>\n",
       "    .dataframe tbody tr th:only-of-type {\n",
       "        vertical-align: middle;\n",
       "    }\n",
       "\n",
       "    .dataframe tbody tr th {\n",
       "        vertical-align: top;\n",
       "    }\n",
       "\n",
       "    .dataframe thead th {\n",
       "        text-align: right;\n",
       "    }\n",
       "</style>\n",
       "<table border=\"1\" class=\"dataframe\">\n",
       "  <thead>\n",
       "    <tr style=\"text-align: right;\">\n",
       "      <th></th>\n",
       "      <th>date</th>\n",
       "      <th>asof_date</th>\n",
       "      <th>timestamp</th>\n",
       "      <th>identifier</th>\n",
       "      <th>frequency</th>\n",
       "      <th>mom_actual</th>\n",
       "      <th>mom_predicted</th>\n",
       "      <th>mom_difference</th>\n",
       "      <th>mom_ci_lb_95</th>\n",
       "      <th>mom_ci_ub_95</th>\n",
       "      <th>...</th>\n",
       "      <th>yoy_sign_accuracy_ttm</th>\n",
       "      <th>yoy_theil_u1_ttm</th>\n",
       "      <th>yoy_theil_u1_bias_ttm</th>\n",
       "      <th>yoy_theil_u1_variance_ttm</th>\n",
       "      <th>yoy_theil_u1_covariance_ttm</th>\n",
       "      <th>yoy_theil_u2_ttm</th>\n",
       "      <th>yoy_hit_rate_1bp_ttm</th>\n",
       "      <th>yoy_hit_rate_5bp_ttm</th>\n",
       "      <th>yoy_hit_rate_10bp_ttm</th>\n",
       "      <th>yoy_forecast_bias_ttm</th>\n",
       "    </tr>\n",
       "  </thead>\n",
       "  <tbody>\n",
       "    <tr>\n",
       "      <th>0</th>\n",
       "      <td>2025-07-21</td>\n",
       "      <td>2025-07-21 20:50:06.776</td>\n",
       "      <td>2017-01-01 00:00:00.000</td>\n",
       "      <td>usrettotb_all_adjusted_d15_bom_cur</td>\n",
       "      <td>m</td>\n",
       "      <td>0.011119</td>\n",
       "      <td>0.030727</td>\n",
       "      <td>-0.019608</td>\n",
       "      <td>NaN</td>\n",
       "      <td>NaN</td>\n",
       "      <td>...</td>\n",
       "      <td>NaN</td>\n",
       "      <td>NaN</td>\n",
       "      <td>NaN</td>\n",
       "      <td>NaN</td>\n",
       "      <td>NaN</td>\n",
       "      <td>NaN</td>\n",
       "      <td>NaN</td>\n",
       "      <td>NaN</td>\n",
       "      <td>NaN</td>\n",
       "      <td>NaN</td>\n",
       "    </tr>\n",
       "    <tr>\n",
       "      <th>1</th>\n",
       "      <td>2025-07-21</td>\n",
       "      <td>2025-07-21 20:50:06.776</td>\n",
       "      <td>2017-02-01 00:00:00.000</td>\n",
       "      <td>usrettotb_all_adjusted_d15_bom_cur</td>\n",
       "      <td>m</td>\n",
       "      <td>-0.000276</td>\n",
       "      <td>-0.020723</td>\n",
       "      <td>0.020447</td>\n",
       "      <td>-0.076235</td>\n",
       "      <td>0.034790</td>\n",
       "      <td>...</td>\n",
       "      <td>NaN</td>\n",
       "      <td>NaN</td>\n",
       "      <td>NaN</td>\n",
       "      <td>NaN</td>\n",
       "      <td>NaN</td>\n",
       "      <td>NaN</td>\n",
       "      <td>NaN</td>\n",
       "      <td>NaN</td>\n",
       "      <td>NaN</td>\n",
       "      <td>NaN</td>\n",
       "    </tr>\n",
       "    <tr>\n",
       "      <th>2</th>\n",
       "      <td>2025-07-21</td>\n",
       "      <td>2025-07-21 20:50:06.776</td>\n",
       "      <td>2017-03-01 00:00:00.000</td>\n",
       "      <td>usrettotb_all_adjusted_d15_bom_cur</td>\n",
       "      <td>m</td>\n",
       "      <td>-0.001314</td>\n",
       "      <td>0.009693</td>\n",
       "      <td>-0.011007</td>\n",
       "      <td>-0.031635</td>\n",
       "      <td>0.051021</td>\n",
       "      <td>...</td>\n",
       "      <td>NaN</td>\n",
       "      <td>NaN</td>\n",
       "      <td>NaN</td>\n",
       "      <td>NaN</td>\n",
       "      <td>NaN</td>\n",
       "      <td>NaN</td>\n",
       "      <td>NaN</td>\n",
       "      <td>NaN</td>\n",
       "      <td>NaN</td>\n",
       "      <td>NaN</td>\n",
       "    </tr>\n",
       "    <tr>\n",
       "      <th>3</th>\n",
       "      <td>2025-07-21</td>\n",
       "      <td>2025-07-21 20:50:06.776</td>\n",
       "      <td>2017-04-01 00:00:00.000</td>\n",
       "      <td>usrettotb_all_adjusted_d15_bom_cur</td>\n",
       "      <td>m</td>\n",
       "      <td>0.003455</td>\n",
       "      <td>0.025914</td>\n",
       "      <td>-0.022459</td>\n",
       "      <td>-0.012659</td>\n",
       "      <td>0.064488</td>\n",
       "      <td>...</td>\n",
       "      <td>NaN</td>\n",
       "      <td>NaN</td>\n",
       "      <td>NaN</td>\n",
       "      <td>NaN</td>\n",
       "      <td>NaN</td>\n",
       "      <td>NaN</td>\n",
       "      <td>NaN</td>\n",
       "      <td>NaN</td>\n",
       "      <td>NaN</td>\n",
       "      <td>NaN</td>\n",
       "    </tr>\n",
       "    <tr>\n",
       "      <th>4</th>\n",
       "      <td>2025-07-21</td>\n",
       "      <td>2025-07-21 20:50:06.776</td>\n",
       "      <td>2017-05-01 00:00:00.000</td>\n",
       "      <td>usrettotb_all_adjusted_d15_bom_cur</td>\n",
       "      <td>m</td>\n",
       "      <td>-0.005420</td>\n",
       "      <td>0.001874</td>\n",
       "      <td>-0.007294</td>\n",
       "      <td>-0.031540</td>\n",
       "      <td>0.035288</td>\n",
       "      <td>...</td>\n",
       "      <td>NaN</td>\n",
       "      <td>NaN</td>\n",
       "      <td>NaN</td>\n",
       "      <td>NaN</td>\n",
       "      <td>NaN</td>\n",
       "      <td>NaN</td>\n",
       "      <td>NaN</td>\n",
       "      <td>NaN</td>\n",
       "      <td>NaN</td>\n",
       "      <td>NaN</td>\n",
       "    </tr>\n",
       "    <tr>\n",
       "      <th>...</th>\n",
       "      <td>...</td>\n",
       "      <td>...</td>\n",
       "      <td>...</td>\n",
       "      <td>...</td>\n",
       "      <td>...</td>\n",
       "      <td>...</td>\n",
       "      <td>...</td>\n",
       "      <td>...</td>\n",
       "      <td>...</td>\n",
       "      <td>...</td>\n",
       "      <td>...</td>\n",
       "      <td>...</td>\n",
       "      <td>...</td>\n",
       "      <td>...</td>\n",
       "      <td>...</td>\n",
       "      <td>...</td>\n",
       "      <td>...</td>\n",
       "      <td>...</td>\n",
       "      <td>...</td>\n",
       "      <td>...</td>\n",
       "      <td>...</td>\n",
       "    </tr>\n",
       "    <tr>\n",
       "      <th>98</th>\n",
       "      <td>2025-07-21</td>\n",
       "      <td>2025-07-21 20:50:06.776</td>\n",
       "      <td>2025-03-01 00:00:00.000</td>\n",
       "      <td>usrettotb_all_adjusted_d15_bom_cur</td>\n",
       "      <td>m</td>\n",
       "      <td>0.015195</td>\n",
       "      <td>0.013912</td>\n",
       "      <td>0.001283</td>\n",
       "      <td>-0.061586</td>\n",
       "      <td>0.089410</td>\n",
       "      <td>...</td>\n",
       "      <td>1.0</td>\n",
       "      <td>0.202943</td>\n",
       "      <td>0.074475</td>\n",
       "      <td>0.233857</td>\n",
       "      <td>0.691668</td>\n",
       "      <td>1.971635</td>\n",
       "      <td>0.000000</td>\n",
       "      <td>0.000000</td>\n",
       "      <td>0.000000</td>\n",
       "      <td>0.004205</td>\n",
       "    </tr>\n",
       "    <tr>\n",
       "      <th>99</th>\n",
       "      <td>2025-07-21</td>\n",
       "      <td>2025-07-21 20:50:06.776</td>\n",
       "      <td>2025-04-01 00:00:00.000</td>\n",
       "      <td>usrettotb_all_adjusted_d15_bom_cur</td>\n",
       "      <td>m</td>\n",
       "      <td>-0.001084</td>\n",
       "      <td>-0.001152</td>\n",
       "      <td>0.000068</td>\n",
       "      <td>-0.076268</td>\n",
       "      <td>0.073964</td>\n",
       "      <td>...</td>\n",
       "      <td>1.0</td>\n",
       "      <td>0.184812</td>\n",
       "      <td>0.035087</td>\n",
       "      <td>0.235063</td>\n",
       "      <td>0.729851</td>\n",
       "      <td>1.910092</td>\n",
       "      <td>0.083333</td>\n",
       "      <td>0.083333</td>\n",
       "      <td>0.083333</td>\n",
       "      <td>0.002723</td>\n",
       "    </tr>\n",
       "    <tr>\n",
       "      <th>100</th>\n",
       "      <td>2025-07-21</td>\n",
       "      <td>2025-07-21 20:50:06.776</td>\n",
       "      <td>2025-05-01 00:00:00.000</td>\n",
       "      <td>usrettotb_all_adjusted_d15_bom_cur</td>\n",
       "      <td>m</td>\n",
       "      <td>-0.008656</td>\n",
       "      <td>-0.009018</td>\n",
       "      <td>0.000362</td>\n",
       "      <td>-0.083758</td>\n",
       "      <td>0.065722</td>\n",
       "      <td>...</td>\n",
       "      <td>1.0</td>\n",
       "      <td>0.175771</td>\n",
       "      <td>0.073035</td>\n",
       "      <td>0.180755</td>\n",
       "      <td>0.746209</td>\n",
       "      <td>1.539031</td>\n",
       "      <td>0.083333</td>\n",
       "      <td>0.166667</td>\n",
       "      <td>0.166667</td>\n",
       "      <td>0.003791</td>\n",
       "    </tr>\n",
       "    <tr>\n",
       "      <th>101</th>\n",
       "      <td>2025-07-21</td>\n",
       "      <td>2025-07-21 20:50:06.776</td>\n",
       "      <td>2025-06-01 00:00:00.000</td>\n",
       "      <td>usrettotb_all_adjusted_d15_bom_cur</td>\n",
       "      <td>m</td>\n",
       "      <td>0.006380</td>\n",
       "      <td>0.033388</td>\n",
       "      <td>-0.027008</td>\n",
       "      <td>-0.041148</td>\n",
       "      <td>0.107923</td>\n",
       "      <td>...</td>\n",
       "      <td>1.0</td>\n",
       "      <td>0.186500</td>\n",
       "      <td>0.098911</td>\n",
       "      <td>0.277968</td>\n",
       "      <td>0.623121</td>\n",
       "      <td>1.762473</td>\n",
       "      <td>0.083333</td>\n",
       "      <td>0.166667</td>\n",
       "      <td>0.166667</td>\n",
       "      <td>0.004916</td>\n",
       "    </tr>\n",
       "    <tr>\n",
       "      <th>102</th>\n",
       "      <td>2025-07-21</td>\n",
       "      <td>2025-07-21 20:50:06.776</td>\n",
       "      <td>2025-07-01 00:00:00.000</td>\n",
       "      <td>usrettotb_all_adjusted_d15_bom_cur</td>\n",
       "      <td>m</td>\n",
       "      <td>NaN</td>\n",
       "      <td>-0.011884</td>\n",
       "      <td>NaN</td>\n",
       "      <td>-0.086419</td>\n",
       "      <td>0.062651</td>\n",
       "      <td>...</td>\n",
       "      <td>1.0</td>\n",
       "      <td>0.188061</td>\n",
       "      <td>0.072534</td>\n",
       "      <td>0.304791</td>\n",
       "      <td>0.622675</td>\n",
       "      <td>1.904716</td>\n",
       "      <td>0.090909</td>\n",
       "      <td>0.181818</td>\n",
       "      <td>0.181818</td>\n",
       "      <td>0.004292</td>\n",
       "    </tr>\n",
       "  </tbody>\n",
       "</table>\n",
       "<p>103 rows × 122 columns</p>\n",
       "</div>"
      ],
      "text/plain": [
       "           date                asof_date                timestamp  \\\n",
       "0    2025-07-21  2025-07-21 20:50:06.776  2017-01-01 00:00:00.000   \n",
       "1    2025-07-21  2025-07-21 20:50:06.776  2017-02-01 00:00:00.000   \n",
       "2    2025-07-21  2025-07-21 20:50:06.776  2017-03-01 00:00:00.000   \n",
       "3    2025-07-21  2025-07-21 20:50:06.776  2017-04-01 00:00:00.000   \n",
       "4    2025-07-21  2025-07-21 20:50:06.776  2017-05-01 00:00:00.000   \n",
       "..          ...                      ...                      ...   \n",
       "98   2025-07-21  2025-07-21 20:50:06.776  2025-03-01 00:00:00.000   \n",
       "99   2025-07-21  2025-07-21 20:50:06.776  2025-04-01 00:00:00.000   \n",
       "100  2025-07-21  2025-07-21 20:50:06.776  2025-05-01 00:00:00.000   \n",
       "101  2025-07-21  2025-07-21 20:50:06.776  2025-06-01 00:00:00.000   \n",
       "102  2025-07-21  2025-07-21 20:50:06.776  2025-07-01 00:00:00.000   \n",
       "\n",
       "                             identifier frequency  mom_actual  mom_predicted  \\\n",
       "0    usrettotb_all_adjusted_d15_bom_cur         m    0.011119       0.030727   \n",
       "1    usrettotb_all_adjusted_d15_bom_cur         m   -0.000276      -0.020723   \n",
       "2    usrettotb_all_adjusted_d15_bom_cur         m   -0.001314       0.009693   \n",
       "3    usrettotb_all_adjusted_d15_bom_cur         m    0.003455       0.025914   \n",
       "4    usrettotb_all_adjusted_d15_bom_cur         m   -0.005420       0.001874   \n",
       "..                                  ...       ...         ...            ...   \n",
       "98   usrettotb_all_adjusted_d15_bom_cur         m    0.015195       0.013912   \n",
       "99   usrettotb_all_adjusted_d15_bom_cur         m   -0.001084      -0.001152   \n",
       "100  usrettotb_all_adjusted_d15_bom_cur         m   -0.008656      -0.009018   \n",
       "101  usrettotb_all_adjusted_d15_bom_cur         m    0.006380       0.033388   \n",
       "102  usrettotb_all_adjusted_d15_bom_cur         m         NaN      -0.011884   \n",
       "\n",
       "     mom_difference  mom_ci_lb_95  mom_ci_ub_95  ...  yoy_sign_accuracy_ttm  \\\n",
       "0         -0.019608           NaN           NaN  ...                    NaN   \n",
       "1          0.020447     -0.076235      0.034790  ...                    NaN   \n",
       "2         -0.011007     -0.031635      0.051021  ...                    NaN   \n",
       "3         -0.022459     -0.012659      0.064488  ...                    NaN   \n",
       "4         -0.007294     -0.031540      0.035288  ...                    NaN   \n",
       "..              ...           ...           ...  ...                    ...   \n",
       "98         0.001283     -0.061586      0.089410  ...                    1.0   \n",
       "99         0.000068     -0.076268      0.073964  ...                    1.0   \n",
       "100        0.000362     -0.083758      0.065722  ...                    1.0   \n",
       "101       -0.027008     -0.041148      0.107923  ...                    1.0   \n",
       "102             NaN     -0.086419      0.062651  ...                    1.0   \n",
       "\n",
       "     yoy_theil_u1_ttm  yoy_theil_u1_bias_ttm  yoy_theil_u1_variance_ttm  \\\n",
       "0                 NaN                    NaN                        NaN   \n",
       "1                 NaN                    NaN                        NaN   \n",
       "2                 NaN                    NaN                        NaN   \n",
       "3                 NaN                    NaN                        NaN   \n",
       "4                 NaN                    NaN                        NaN   \n",
       "..                ...                    ...                        ...   \n",
       "98           0.202943               0.074475                   0.233857   \n",
       "99           0.184812               0.035087                   0.235063   \n",
       "100          0.175771               0.073035                   0.180755   \n",
       "101          0.186500               0.098911                   0.277968   \n",
       "102          0.188061               0.072534                   0.304791   \n",
       "\n",
       "     yoy_theil_u1_covariance_ttm  yoy_theil_u2_ttm  yoy_hit_rate_1bp_ttm  \\\n",
       "0                            NaN               NaN                   NaN   \n",
       "1                            NaN               NaN                   NaN   \n",
       "2                            NaN               NaN                   NaN   \n",
       "3                            NaN               NaN                   NaN   \n",
       "4                            NaN               NaN                   NaN   \n",
       "..                           ...               ...                   ...   \n",
       "98                      0.691668          1.971635              0.000000   \n",
       "99                      0.729851          1.910092              0.083333   \n",
       "100                     0.746209          1.539031              0.083333   \n",
       "101                     0.623121          1.762473              0.083333   \n",
       "102                     0.622675          1.904716              0.090909   \n",
       "\n",
       "     yoy_hit_rate_5bp_ttm  yoy_hit_rate_10bp_ttm  yoy_forecast_bias_ttm  \n",
       "0                     NaN                    NaN                    NaN  \n",
       "1                     NaN                    NaN                    NaN  \n",
       "2                     NaN                    NaN                    NaN  \n",
       "3                     NaN                    NaN                    NaN  \n",
       "4                     NaN                    NaN                    NaN  \n",
       "..                    ...                    ...                    ...  \n",
       "98               0.000000               0.000000               0.004205  \n",
       "99               0.083333               0.083333               0.002723  \n",
       "100              0.166667               0.166667               0.003791  \n",
       "101              0.166667               0.166667               0.004916  \n",
       "102              0.181818               0.181818               0.004292  \n",
       "\n",
       "[103 rows x 122 columns]"
      ]
     },
     "execution_count": 22,
     "metadata": {},
     "output_type": "execute_result"
    }
   ],
   "source": [
    "df = unifier.get_dataframe(name='lseg_macro_us_core_predictions', key='usrettotb_all_adjusted_d15_bom_cur', asof_date=None,back_to=None,up_to=None, limit=None)\n",
    "df"
   ]
  },
  {
   "cell_type": "code",
   "execution_count": null,
   "metadata": {},
   "outputs": [
    {
     "data": {
      "application/vnd.plotly.v1+json": {
       "config": {
        "plotlyServerURL": "https://plot.ly"
       },
       "data": [
        {
         "line": {
          "color": "royalblue"
         },
         "marker": {
          "size": 6,
          "symbol": "circle"
         },
         "mode": "lines+markers",
         "name": "Actual",
         "type": "scatter",
         "x": [
          "2017-01-01 00:00:00.000",
          "2017-02-01 00:00:00.000",
          "2017-03-01 00:00:00.000",
          "2017-04-01 00:00:00.000",
          "2017-05-01 00:00:00.000",
          "2017-06-01 00:00:00.000",
          "2017-07-01 00:00:00.000",
          "2017-08-01 00:00:00.000",
          "2017-09-01 00:00:00.000",
          "2017-10-01 00:00:00.000",
          "2017-11-01 00:00:00.000",
          "2017-12-01 00:00:00.000",
          "2018-01-01 00:00:00.000",
          "2018-02-01 00:00:00.000",
          "2018-03-01 00:00:00.000",
          "2018-04-01 00:00:00.000",
          "2018-05-01 00:00:00.000",
          "2018-06-01 00:00:00.000",
          "2018-07-01 00:00:00.000",
          "2018-08-01 00:00:00.000",
          "2018-09-01 00:00:00.000",
          "2018-10-01 00:00:00.000",
          "2018-11-01 00:00:00.000",
          "2018-12-01 00:00:00.000",
          "2019-01-01 00:00:00.000",
          "2019-02-01 00:00:00.000",
          "2019-03-01 00:00:00.000",
          "2019-04-01 00:00:00.000",
          "2019-05-01 00:00:00.000",
          "2019-06-01 00:00:00.000",
          "2019-07-01 00:00:00.000",
          "2019-08-01 00:00:00.000",
          "2019-09-01 00:00:00.000",
          "2019-10-01 00:00:00.000",
          "2019-11-01 00:00:00.000",
          "2019-12-01 00:00:00.000",
          "2020-01-01 00:00:00.000",
          "2020-02-01 00:00:00.000",
          "2020-03-01 00:00:00.000",
          "2020-04-01 00:00:00.000",
          "2020-05-01 00:00:00.000",
          "2020-06-01 00:00:00.000",
          "2020-07-01 00:00:00.000",
          "2020-08-01 00:00:00.000",
          "2020-09-01 00:00:00.000",
          "2020-10-01 00:00:00.000",
          "2020-11-01 00:00:00.000",
          "2020-12-01 00:00:00.000",
          "2021-01-01 00:00:00.000",
          "2021-02-01 00:00:00.000",
          "2021-03-01 00:00:00.000",
          "2021-04-01 00:00:00.000",
          "2021-05-01 00:00:00.000",
          "2021-06-01 00:00:00.000",
          "2021-07-01 00:00:00.000",
          "2021-08-01 00:00:00.000",
          "2021-09-01 00:00:00.000",
          "2021-10-01 00:00:00.000",
          "2021-11-01 00:00:00.000",
          "2021-12-01 00:00:00.000",
          "2022-01-01 00:00:00.000",
          "2022-02-01 00:00:00.000",
          "2022-03-01 00:00:00.000",
          "2022-04-01 00:00:00.000",
          "2022-05-01 00:00:00.000",
          "2022-06-01 00:00:00.000",
          "2022-07-01 00:00:00.000",
          "2022-08-01 00:00:00.000",
          "2022-09-01 00:00:00.000",
          "2022-10-01 00:00:00.000",
          "2022-11-01 00:00:00.000",
          "2022-12-01 00:00:00.000",
          "2023-01-01 00:00:00.000",
          "2023-02-01 00:00:00.000",
          "2023-03-01 00:00:00.000",
          "2023-04-01 00:00:00.000",
          "2023-05-01 00:00:00.000",
          "2023-06-01 00:00:00.000",
          "2023-07-01 00:00:00.000",
          "2023-08-01 00:00:00.000",
          "2023-09-01 00:00:00.000",
          "2023-10-01 00:00:00.000",
          "2023-11-01 00:00:00.000",
          "2023-12-01 00:00:00.000",
          "2024-01-01 00:00:00.000",
          "2024-02-01 00:00:00.000",
          "2024-03-01 00:00:00.000",
          "2024-04-01 00:00:00.000",
          "2024-05-01 00:00:00.000",
          "2024-06-01 00:00:00.000",
          "2024-07-01 00:00:00.000",
          "2024-08-01 00:00:00.000",
          "2024-09-01 00:00:00.000",
          "2024-10-01 00:00:00.000",
          "2024-11-01 00:00:00.000",
          "2024-12-01 00:00:00.000",
          "2025-01-01 00:00:00.000",
          "2025-02-01 00:00:00.000",
          "2025-03-01 00:00:00.000",
          "2025-04-01 00:00:00.000",
          "2025-05-01 00:00:00.000",
          "2025-06-01 00:00:00.000",
          "2025-07-01 00:00:00.000"
         ],
         "y": {
          "bdata": "gOklU4vFhj8AeOZ1FxAyvwCYScawhlW/ABaKVLBNbD8AnL3pvTN2vwCF9c7jB3U/AECAy3gbF78AnA2xAmZgP0ALKFCpUpU/ADAzvpJhSj+AUyX8/9OEPwBiiGY/dXY/AClOIZ9lcr8ABu3QIUR2PwCg2k2CZCU/AMAEamvTFz+AqaUkioKQPwB7xd5B12y/APJgxOpYeD8AmGv7MCJEPwBRe2dFFnC/gMizuGd0hD8AfiAnxR10P4BiCl7S/pO/ABq/xbo5Zj8AVr/t6uVlP4A0IG30Z48/AACIf8/GGj+AmRAaqSOGPwCwO1wBjlA/AACSjl4hfz8ACFPqKut7P4CfCL8KNHq/AGzKL//4ZT8AD2Kyjpx8PwC018VdTWo/AEhXWJC5V78A8PEdL9g6PwjdgWzjWbe/aDwdTZxkwr+IvXEAErbIP9AtcIi9LrU/QAI0Ft1WkD8AmirxBj6BP8DhudhRY5Q/AOBbiXSOcL9A2fMuvaaDvwBBHwm2q4E/AHOZpZepoz+AYeRoiEGav6DvQHvbkrs/gIJ6cDlBgj+ALeIb6L54vwDg09S9j4Y/gHmz97j0kL8ACqLSkkp5PwCywbGZ/Xs/gPQOskvnjT+A0AOFlNyEP4DO1apzLYC/QNvXfdsckz+A2JpUxmCFP8AFIwA/vpQ/AKzC52jWjD8AMDIFFDlBv4C8bnC2coM/gJUtrqQthL8AGg6Dx/B4PwCz9rmmImW/gPwGFxcYhT8ANuwVrjeMvwAn7dO+5Ye/QLftUXJhpj+AbIavpGOIv8Ai84lHk4W/gLxblg2zgD8AzKf6uNF0PwCZjEt3inM/AHDhFQagXz+Ax/BlnRyDPwAjawiOzXs/ADErrNNWc78AwjmjhJRTvwDox4kDsFY/gEAJeQJfgb8AjDSNvAl9PwDUSSBVOWw/AMDclD68Db8AWAj4K89+PwAg9xVdACw/AKZ48PdAgj8Ap+sMrndivwDArEfiUIA/ADTggwhqej8AXuD7vTt6PwDcVEJWu38/AErACSSygb8AcAXtFEQ7P4DMdIpyHo8/ADJl0RHBUb9A4TXOYLqBvwC8D1ixIXo/AAAAAAAA+H8=",
          "dtype": "f8"
         }
        },
        {
         "line": {
          "color": "firebrick"
         },
         "marker": {
          "size": 6,
          "symbol": "x"
         },
         "mode": "lines+markers",
         "name": "Predicted",
         "type": "scatter",
         "x": [
          "2017-01-01 00:00:00.000",
          "2017-02-01 00:00:00.000",
          "2017-03-01 00:00:00.000",
          "2017-04-01 00:00:00.000",
          "2017-05-01 00:00:00.000",
          "2017-06-01 00:00:00.000",
          "2017-07-01 00:00:00.000",
          "2017-08-01 00:00:00.000",
          "2017-09-01 00:00:00.000",
          "2017-10-01 00:00:00.000",
          "2017-11-01 00:00:00.000",
          "2017-12-01 00:00:00.000",
          "2018-01-01 00:00:00.000",
          "2018-02-01 00:00:00.000",
          "2018-03-01 00:00:00.000",
          "2018-04-01 00:00:00.000",
          "2018-05-01 00:00:00.000",
          "2018-06-01 00:00:00.000",
          "2018-07-01 00:00:00.000",
          "2018-08-01 00:00:00.000",
          "2018-09-01 00:00:00.000",
          "2018-10-01 00:00:00.000",
          "2018-11-01 00:00:00.000",
          "2018-12-01 00:00:00.000",
          "2019-01-01 00:00:00.000",
          "2019-02-01 00:00:00.000",
          "2019-03-01 00:00:00.000",
          "2019-04-01 00:00:00.000",
          "2019-05-01 00:00:00.000",
          "2019-06-01 00:00:00.000",
          "2019-07-01 00:00:00.000",
          "2019-08-01 00:00:00.000",
          "2019-09-01 00:00:00.000",
          "2019-10-01 00:00:00.000",
          "2019-11-01 00:00:00.000",
          "2019-12-01 00:00:00.000",
          "2020-01-01 00:00:00.000",
          "2020-02-01 00:00:00.000",
          "2020-03-01 00:00:00.000",
          "2020-04-01 00:00:00.000",
          "2020-05-01 00:00:00.000",
          "2020-06-01 00:00:00.000",
          "2020-07-01 00:00:00.000",
          "2020-08-01 00:00:00.000",
          "2020-09-01 00:00:00.000",
          "2020-10-01 00:00:00.000",
          "2020-11-01 00:00:00.000",
          "2020-12-01 00:00:00.000",
          "2021-01-01 00:00:00.000",
          "2021-02-01 00:00:00.000",
          "2021-03-01 00:00:00.000",
          "2021-04-01 00:00:00.000",
          "2021-05-01 00:00:00.000",
          "2021-06-01 00:00:00.000",
          "2021-07-01 00:00:00.000",
          "2021-08-01 00:00:00.000",
          "2021-09-01 00:00:00.000",
          "2021-10-01 00:00:00.000",
          "2021-11-01 00:00:00.000",
          "2021-12-01 00:00:00.000",
          "2022-01-01 00:00:00.000",
          "2022-02-01 00:00:00.000",
          "2022-03-01 00:00:00.000",
          "2022-04-01 00:00:00.000",
          "2022-05-01 00:00:00.000",
          "2022-06-01 00:00:00.000",
          "2022-07-01 00:00:00.000",
          "2022-08-01 00:00:00.000",
          "2022-09-01 00:00:00.000",
          "2022-10-01 00:00:00.000",
          "2022-11-01 00:00:00.000",
          "2022-12-01 00:00:00.000",
          "2023-01-01 00:00:00.000",
          "2023-02-01 00:00:00.000",
          "2023-03-01 00:00:00.000",
          "2023-04-01 00:00:00.000",
          "2023-05-01 00:00:00.000",
          "2023-06-01 00:00:00.000",
          "2023-07-01 00:00:00.000",
          "2023-08-01 00:00:00.000",
          "2023-09-01 00:00:00.000",
          "2023-10-01 00:00:00.000",
          "2023-11-01 00:00:00.000",
          "2023-12-01 00:00:00.000",
          "2024-01-01 00:00:00.000",
          "2024-02-01 00:00:00.000",
          "2024-03-01 00:00:00.000",
          "2024-04-01 00:00:00.000",
          "2024-05-01 00:00:00.000",
          "2024-06-01 00:00:00.000",
          "2024-07-01 00:00:00.000",
          "2024-08-01 00:00:00.000",
          "2024-09-01 00:00:00.000",
          "2024-10-01 00:00:00.000",
          "2024-11-01 00:00:00.000",
          "2024-12-01 00:00:00.000",
          "2025-01-01 00:00:00.000",
          "2025-02-01 00:00:00.000",
          "2025-03-01 00:00:00.000",
          "2025-04-01 00:00:00.000",
          "2025-05-01 00:00:00.000",
          "2025-06-01 00:00:00.000",
          "2025-07-01 00:00:00.000"
         ],
         "y": {
          "bdata": "ssQjmPt2nz952kqWSziVv0S+kSva2YM/QfrVsTqJmj8+J7YZ+LJeP2b2DY4DRXi/8TY40yNGjD86/kbWoHmMvxyi3bKscnG/nrd7a0wCjj8CtoUglO+Iv+dZARcHgI8/jFZeINZykT8ldh1CwTqJP/gv0Q1mvpW/BmhSJ0oDmz8S99hqhCObvzKt1evtW4c/Cs3V2hGAij9836mwtjWRvzJMxYjYC48/yDEH3cZkUb8y2vld8utbv7KhdLbi94A/3GpyXp+tWz9Ak2twIP2QP8ciaXe5fpW/VAa17Maypz9og7gyTQiZv4mlm1mggZA/Vl37nJElgz+aPWU1d/yFv2xMIvWlJqQ/7gsIDEKnk78Dxu1xG2RcP4pmY5ChuKA/czCkLi4Ba79Y+3vBxZuaP7aJb27l5p2/0g5xXrhQqz+8bcTBcl+Vv9g4x11+ILM/l1a98c+Se7/CZiXA7up4P97fpvZkJaE/Xk5NAmU4ob9EmEDDH7lwPxtjxRGP/n0/bWjVbuuhjD/+TWu4n25+P19g4beFjbE/kNxolJLDq7/p0lONvT+YP9q6IAgQoIg/gAgOz5x+gT+OtdI4yb2jPyqP7Zg4I34/ZoVaHeuNob8CMfw8cVF3PwEgGwYmVJE/ENh73KlMnj8bGbSAmnmIP4fhShicfLm/g03UchAQkD862h8csGSFP+oOi7SS+Ys/zgX7tYU/hr9A7KZrzPKPPwFvJotsAXQ/xhoVv3EehL98K6u90rNlv6+wS8oGfI4/j1WwCkn6pD+PPH2VzA2Kv115GhKCzHq/ZFulKAIhlT825eI3TjmUP7YJ9VYAqn8/8sZc60Wvmz98hMIG3juCv4nNXIiKS2k/QBZLzKsJCz/A+k4ckGSAv6Id3Z45kao/SBI0K9rvlT8ExaIdvWp7P3J9kea5gpW/eqk8mhqikT+jgqOwbCt2vyNj/hDkPI0//rapozvxlD8tDCsW7FlvPz+shir/M5A/IGtY4NGKID+AB0DQoS0Jv8ggoMAiA6U/wINKya7KGr/kp5+rpbmWv4TUH9DRfYw/78ctHhneUr/HC7aBK3iCvyz9wHEzGKE/85L63KpWiL8=",
          "dtype": "f8"
         }
        }
       ],
       "layout": {
        "height": 500,
        "hovermode": "x unified",
        "legend": {
         "bgcolor": "rgba(255,255,255,0.5)",
         "bordercolor": "gray",
         "x": 0.01,
         "y": 0.99
        },
        "margin": {
         "b": 40,
         "l": 40,
         "r": 20,
         "t": 60
        },
        "template": {
         "data": {
          "bar": [
           {
            "error_x": {
             "color": "#2a3f5f"
            },
            "error_y": {
             "color": "#2a3f5f"
            },
            "marker": {
             "line": {
              "color": "white",
              "width": 0.5
             },
             "pattern": {
              "fillmode": "overlay",
              "size": 10,
              "solidity": 0.2
             }
            },
            "type": "bar"
           }
          ],
          "barpolar": [
           {
            "marker": {
             "line": {
              "color": "white",
              "width": 0.5
             },
             "pattern": {
              "fillmode": "overlay",
              "size": 10,
              "solidity": 0.2
             }
            },
            "type": "barpolar"
           }
          ],
          "carpet": [
           {
            "aaxis": {
             "endlinecolor": "#2a3f5f",
             "gridcolor": "#C8D4E3",
             "linecolor": "#C8D4E3",
             "minorgridcolor": "#C8D4E3",
             "startlinecolor": "#2a3f5f"
            },
            "baxis": {
             "endlinecolor": "#2a3f5f",
             "gridcolor": "#C8D4E3",
             "linecolor": "#C8D4E3",
             "minorgridcolor": "#C8D4E3",
             "startlinecolor": "#2a3f5f"
            },
            "type": "carpet"
           }
          ],
          "choropleth": [
           {
            "colorbar": {
             "outlinewidth": 0,
             "ticks": ""
            },
            "type": "choropleth"
           }
          ],
          "contour": [
           {
            "colorbar": {
             "outlinewidth": 0,
             "ticks": ""
            },
            "colorscale": [
             [
              0,
              "#0d0887"
             ],
             [
              0.1111111111111111,
              "#46039f"
             ],
             [
              0.2222222222222222,
              "#7201a8"
             ],
             [
              0.3333333333333333,
              "#9c179e"
             ],
             [
              0.4444444444444444,
              "#bd3786"
             ],
             [
              0.5555555555555556,
              "#d8576b"
             ],
             [
              0.6666666666666666,
              "#ed7953"
             ],
             [
              0.7777777777777778,
              "#fb9f3a"
             ],
             [
              0.8888888888888888,
              "#fdca26"
             ],
             [
              1,
              "#f0f921"
             ]
            ],
            "type": "contour"
           }
          ],
          "contourcarpet": [
           {
            "colorbar": {
             "outlinewidth": 0,
             "ticks": ""
            },
            "type": "contourcarpet"
           }
          ],
          "heatmap": [
           {
            "colorbar": {
             "outlinewidth": 0,
             "ticks": ""
            },
            "colorscale": [
             [
              0,
              "#0d0887"
             ],
             [
              0.1111111111111111,
              "#46039f"
             ],
             [
              0.2222222222222222,
              "#7201a8"
             ],
             [
              0.3333333333333333,
              "#9c179e"
             ],
             [
              0.4444444444444444,
              "#bd3786"
             ],
             [
              0.5555555555555556,
              "#d8576b"
             ],
             [
              0.6666666666666666,
              "#ed7953"
             ],
             [
              0.7777777777777778,
              "#fb9f3a"
             ],
             [
              0.8888888888888888,
              "#fdca26"
             ],
             [
              1,
              "#f0f921"
             ]
            ],
            "type": "heatmap"
           }
          ],
          "histogram": [
           {
            "marker": {
             "pattern": {
              "fillmode": "overlay",
              "size": 10,
              "solidity": 0.2
             }
            },
            "type": "histogram"
           }
          ],
          "histogram2d": [
           {
            "colorbar": {
             "outlinewidth": 0,
             "ticks": ""
            },
            "colorscale": [
             [
              0,
              "#0d0887"
             ],
             [
              0.1111111111111111,
              "#46039f"
             ],
             [
              0.2222222222222222,
              "#7201a8"
             ],
             [
              0.3333333333333333,
              "#9c179e"
             ],
             [
              0.4444444444444444,
              "#bd3786"
             ],
             [
              0.5555555555555556,
              "#d8576b"
             ],
             [
              0.6666666666666666,
              "#ed7953"
             ],
             [
              0.7777777777777778,
              "#fb9f3a"
             ],
             [
              0.8888888888888888,
              "#fdca26"
             ],
             [
              1,
              "#f0f921"
             ]
            ],
            "type": "histogram2d"
           }
          ],
          "histogram2dcontour": [
           {
            "colorbar": {
             "outlinewidth": 0,
             "ticks": ""
            },
            "colorscale": [
             [
              0,
              "#0d0887"
             ],
             [
              0.1111111111111111,
              "#46039f"
             ],
             [
              0.2222222222222222,
              "#7201a8"
             ],
             [
              0.3333333333333333,
              "#9c179e"
             ],
             [
              0.4444444444444444,
              "#bd3786"
             ],
             [
              0.5555555555555556,
              "#d8576b"
             ],
             [
              0.6666666666666666,
              "#ed7953"
             ],
             [
              0.7777777777777778,
              "#fb9f3a"
             ],
             [
              0.8888888888888888,
              "#fdca26"
             ],
             [
              1,
              "#f0f921"
             ]
            ],
            "type": "histogram2dcontour"
           }
          ],
          "mesh3d": [
           {
            "colorbar": {
             "outlinewidth": 0,
             "ticks": ""
            },
            "type": "mesh3d"
           }
          ],
          "parcoords": [
           {
            "line": {
             "colorbar": {
              "outlinewidth": 0,
              "ticks": ""
             }
            },
            "type": "parcoords"
           }
          ],
          "pie": [
           {
            "automargin": true,
            "type": "pie"
           }
          ],
          "scatter": [
           {
            "fillpattern": {
             "fillmode": "overlay",
             "size": 10,
             "solidity": 0.2
            },
            "type": "scatter"
           }
          ],
          "scatter3d": [
           {
            "line": {
             "colorbar": {
              "outlinewidth": 0,
              "ticks": ""
             }
            },
            "marker": {
             "colorbar": {
              "outlinewidth": 0,
              "ticks": ""
             }
            },
            "type": "scatter3d"
           }
          ],
          "scattercarpet": [
           {
            "marker": {
             "colorbar": {
              "outlinewidth": 0,
              "ticks": ""
             }
            },
            "type": "scattercarpet"
           }
          ],
          "scattergeo": [
           {
            "marker": {
             "colorbar": {
              "outlinewidth": 0,
              "ticks": ""
             }
            },
            "type": "scattergeo"
           }
          ],
          "scattergl": [
           {
            "marker": {
             "colorbar": {
              "outlinewidth": 0,
              "ticks": ""
             }
            },
            "type": "scattergl"
           }
          ],
          "scattermap": [
           {
            "marker": {
             "colorbar": {
              "outlinewidth": 0,
              "ticks": ""
             }
            },
            "type": "scattermap"
           }
          ],
          "scattermapbox": [
           {
            "marker": {
             "colorbar": {
              "outlinewidth": 0,
              "ticks": ""
             }
            },
            "type": "scattermapbox"
           }
          ],
          "scatterpolar": [
           {
            "marker": {
             "colorbar": {
              "outlinewidth": 0,
              "ticks": ""
             }
            },
            "type": "scatterpolar"
           }
          ],
          "scatterpolargl": [
           {
            "marker": {
             "colorbar": {
              "outlinewidth": 0,
              "ticks": ""
             }
            },
            "type": "scatterpolargl"
           }
          ],
          "scatterternary": [
           {
            "marker": {
             "colorbar": {
              "outlinewidth": 0,
              "ticks": ""
             }
            },
            "type": "scatterternary"
           }
          ],
          "surface": [
           {
            "colorbar": {
             "outlinewidth": 0,
             "ticks": ""
            },
            "colorscale": [
             [
              0,
              "#0d0887"
             ],
             [
              0.1111111111111111,
              "#46039f"
             ],
             [
              0.2222222222222222,
              "#7201a8"
             ],
             [
              0.3333333333333333,
              "#9c179e"
             ],
             [
              0.4444444444444444,
              "#bd3786"
             ],
             [
              0.5555555555555556,
              "#d8576b"
             ],
             [
              0.6666666666666666,
              "#ed7953"
             ],
             [
              0.7777777777777778,
              "#fb9f3a"
             ],
             [
              0.8888888888888888,
              "#fdca26"
             ],
             [
              1,
              "#f0f921"
             ]
            ],
            "type": "surface"
           }
          ],
          "table": [
           {
            "cells": {
             "fill": {
              "color": "#EBF0F8"
             },
             "line": {
              "color": "white"
             }
            },
            "header": {
             "fill": {
              "color": "#C8D4E3"
             },
             "line": {
              "color": "white"
             }
            },
            "type": "table"
           }
          ]
         },
         "layout": {
          "annotationdefaults": {
           "arrowcolor": "#2a3f5f",
           "arrowhead": 0,
           "arrowwidth": 1
          },
          "autotypenumbers": "strict",
          "coloraxis": {
           "colorbar": {
            "outlinewidth": 0,
            "ticks": ""
           }
          },
          "colorscale": {
           "diverging": [
            [
             0,
             "#8e0152"
            ],
            [
             0.1,
             "#c51b7d"
            ],
            [
             0.2,
             "#de77ae"
            ],
            [
             0.3,
             "#f1b6da"
            ],
            [
             0.4,
             "#fde0ef"
            ],
            [
             0.5,
             "#f7f7f7"
            ],
            [
             0.6,
             "#e6f5d0"
            ],
            [
             0.7,
             "#b8e186"
            ],
            [
             0.8,
             "#7fbc41"
            ],
            [
             0.9,
             "#4d9221"
            ],
            [
             1,
             "#276419"
            ]
           ],
           "sequential": [
            [
             0,
             "#0d0887"
            ],
            [
             0.1111111111111111,
             "#46039f"
            ],
            [
             0.2222222222222222,
             "#7201a8"
            ],
            [
             0.3333333333333333,
             "#9c179e"
            ],
            [
             0.4444444444444444,
             "#bd3786"
            ],
            [
             0.5555555555555556,
             "#d8576b"
            ],
            [
             0.6666666666666666,
             "#ed7953"
            ],
            [
             0.7777777777777778,
             "#fb9f3a"
            ],
            [
             0.8888888888888888,
             "#fdca26"
            ],
            [
             1,
             "#f0f921"
            ]
           ],
           "sequentialminus": [
            [
             0,
             "#0d0887"
            ],
            [
             0.1111111111111111,
             "#46039f"
            ],
            [
             0.2222222222222222,
             "#7201a8"
            ],
            [
             0.3333333333333333,
             "#9c179e"
            ],
            [
             0.4444444444444444,
             "#bd3786"
            ],
            [
             0.5555555555555556,
             "#d8576b"
            ],
            [
             0.6666666666666666,
             "#ed7953"
            ],
            [
             0.7777777777777778,
             "#fb9f3a"
            ],
            [
             0.8888888888888888,
             "#fdca26"
            ],
            [
             1,
             "#f0f921"
            ]
           ]
          },
          "colorway": [
           "#636efa",
           "#EF553B",
           "#00cc96",
           "#ab63fa",
           "#FFA15A",
           "#19d3f3",
           "#FF6692",
           "#B6E880",
           "#FF97FF",
           "#FECB52"
          ],
          "font": {
           "color": "#2a3f5f"
          },
          "geo": {
           "bgcolor": "white",
           "lakecolor": "white",
           "landcolor": "white",
           "showlakes": true,
           "showland": true,
           "subunitcolor": "#C8D4E3"
          },
          "hoverlabel": {
           "align": "left"
          },
          "hovermode": "closest",
          "mapbox": {
           "style": "light"
          },
          "paper_bgcolor": "white",
          "plot_bgcolor": "white",
          "polar": {
           "angularaxis": {
            "gridcolor": "#EBF0F8",
            "linecolor": "#EBF0F8",
            "ticks": ""
           },
           "bgcolor": "white",
           "radialaxis": {
            "gridcolor": "#EBF0F8",
            "linecolor": "#EBF0F8",
            "ticks": ""
           }
          },
          "scene": {
           "xaxis": {
            "backgroundcolor": "white",
            "gridcolor": "#DFE8F3",
            "gridwidth": 2,
            "linecolor": "#EBF0F8",
            "showbackground": true,
            "ticks": "",
            "zerolinecolor": "#EBF0F8"
           },
           "yaxis": {
            "backgroundcolor": "white",
            "gridcolor": "#DFE8F3",
            "gridwidth": 2,
            "linecolor": "#EBF0F8",
            "showbackground": true,
            "ticks": "",
            "zerolinecolor": "#EBF0F8"
           },
           "zaxis": {
            "backgroundcolor": "white",
            "gridcolor": "#DFE8F3",
            "gridwidth": 2,
            "linecolor": "#EBF0F8",
            "showbackground": true,
            "ticks": "",
            "zerolinecolor": "#EBF0F8"
           }
          },
          "shapedefaults": {
           "line": {
            "color": "#2a3f5f"
           }
          },
          "ternary": {
           "aaxis": {
            "gridcolor": "#DFE8F3",
            "linecolor": "#A2B1C6",
            "ticks": ""
           },
           "baxis": {
            "gridcolor": "#DFE8F3",
            "linecolor": "#A2B1C6",
            "ticks": ""
           },
           "bgcolor": "white",
           "caxis": {
            "gridcolor": "#DFE8F3",
            "linecolor": "#A2B1C6",
            "ticks": ""
           }
          },
          "title": {
           "x": 0.05
          },
          "xaxis": {
           "automargin": true,
           "gridcolor": "#EBF0F8",
           "linecolor": "#EBF0F8",
           "ticks": "",
           "title": {
            "standoff": 15
           },
           "zerolinecolor": "#EBF0F8",
           "zerolinewidth": 2
          },
          "yaxis": {
           "automargin": true,
           "gridcolor": "#EBF0F8",
           "linecolor": "#EBF0F8",
           "ticks": "",
           "title": {
            "standoff": 15
           },
           "zerolinecolor": "#EBF0F8",
           "zerolinewidth": 2
          }
         }
        },
        "title": {
         "text": "usrettotb_all_adjusted_d15_bom_cur - Month-over-Month"
        },
        "xaxis": {
         "tickangle": 45,
         "tickformat": "%Y-%m",
         "title": {
          "text": "Time"
         }
        },
        "yaxis": {
         "title": {
          "text": "Percentage Change"
         }
        }
       }
      }
     },
     "metadata": {},
     "output_type": "display_data"
    }
   ],
   "source": [
    "plot_forecasts(df,plot_type='mom')"
   ]
  },
  {
   "cell_type": "markdown",
   "metadata": {},
   "source": [
    "### Example: Query Consumer Confidence Index"
   ]
  },
  {
   "cell_type": "code",
   "execution_count": null,
   "metadata": {},
   "outputs": [
    {
     "data": {
      "text/html": [
       "<div>\n",
       "<style scoped>\n",
       "    .dataframe tbody tr th:only-of-type {\n",
       "        vertical-align: middle;\n",
       "    }\n",
       "\n",
       "    .dataframe tbody tr th {\n",
       "        vertical-align: top;\n",
       "    }\n",
       "\n",
       "    .dataframe thead th {\n",
       "        text-align: right;\n",
       "    }\n",
       "</style>\n",
       "<table border=\"1\" class=\"dataframe\">\n",
       "  <thead>\n",
       "    <tr style=\"text-align: right;\">\n",
       "      <th></th>\n",
       "      <th>date</th>\n",
       "      <th>asof_date</th>\n",
       "      <th>timestamp</th>\n",
       "      <th>identifier</th>\n",
       "      <th>frequency</th>\n",
       "      <th>mom_actual</th>\n",
       "      <th>mom_predicted</th>\n",
       "      <th>mom_difference</th>\n",
       "      <th>mom_ci_lb_95</th>\n",
       "      <th>mom_ci_ub_95</th>\n",
       "      <th>...</th>\n",
       "      <th>yoy_sign_accuracy_ttm</th>\n",
       "      <th>yoy_theil_u1_ttm</th>\n",
       "      <th>yoy_theil_u1_bias_ttm</th>\n",
       "      <th>yoy_theil_u1_variance_ttm</th>\n",
       "      <th>yoy_theil_u1_covariance_ttm</th>\n",
       "      <th>yoy_theil_u2_ttm</th>\n",
       "      <th>yoy_hit_rate_1bp_ttm</th>\n",
       "      <th>yoy_hit_rate_5bp_ttm</th>\n",
       "      <th>yoy_hit_rate_10bp_ttm</th>\n",
       "      <th>yoy_forecast_bias_ttm</th>\n",
       "    </tr>\n",
       "  </thead>\n",
       "  <tbody>\n",
       "    <tr>\n",
       "      <th>0</th>\n",
       "      <td>2025-07-24</td>\n",
       "      <td>2025-07-24 19:06:20.916</td>\n",
       "      <td>2019-11-01 00:00:00.000</td>\n",
       "      <td>uscnfconq_all_adjusted_d15_bom_cur</td>\n",
       "      <td>m</td>\n",
       "      <td>0.005551</td>\n",
       "      <td>0.038084</td>\n",
       "      <td>-0.032533</td>\n",
       "      <td>NaN</td>\n",
       "      <td>NaN</td>\n",
       "      <td>...</td>\n",
       "      <td>NaN</td>\n",
       "      <td>NaN</td>\n",
       "      <td>NaN</td>\n",
       "      <td>NaN</td>\n",
       "      <td>NaN</td>\n",
       "      <td>NaN</td>\n",
       "      <td>NaN</td>\n",
       "      <td>NaN</td>\n",
       "      <td>NaN</td>\n",
       "      <td>NaN</td>\n",
       "    </tr>\n",
       "    <tr>\n",
       "      <th>1</th>\n",
       "      <td>2025-07-24</td>\n",
       "      <td>2025-07-24 19:06:20.916</td>\n",
       "      <td>2019-12-01 00:00:00.000</td>\n",
       "      <td>uscnfconq_all_adjusted_d15_bom_cur</td>\n",
       "      <td>m</td>\n",
       "      <td>0.011041</td>\n",
       "      <td>0.025131</td>\n",
       "      <td>-0.014090</td>\n",
       "      <td>-0.000429</td>\n",
       "      <td>0.050691</td>\n",
       "      <td>...</td>\n",
       "      <td>NaN</td>\n",
       "      <td>NaN</td>\n",
       "      <td>NaN</td>\n",
       "      <td>NaN</td>\n",
       "      <td>NaN</td>\n",
       "      <td>NaN</td>\n",
       "      <td>NaN</td>\n",
       "      <td>NaN</td>\n",
       "      <td>NaN</td>\n",
       "      <td>NaN</td>\n",
       "    </tr>\n",
       "    <tr>\n",
       "      <th>2</th>\n",
       "      <td>2025-07-24</td>\n",
       "      <td>2025-07-24 19:06:20.916</td>\n",
       "      <td>2020-01-01 00:00:00.000</td>\n",
       "      <td>uscnfconq_all_adjusted_d15_bom_cur</td>\n",
       "      <td>m</td>\n",
       "      <td>0.017161</td>\n",
       "      <td>0.041533</td>\n",
       "      <td>-0.024372</td>\n",
       "      <td>0.023419</td>\n",
       "      <td>0.059646</td>\n",
       "      <td>...</td>\n",
       "      <td>NaN</td>\n",
       "      <td>NaN</td>\n",
       "      <td>NaN</td>\n",
       "      <td>NaN</td>\n",
       "      <td>NaN</td>\n",
       "      <td>NaN</td>\n",
       "      <td>NaN</td>\n",
       "      <td>NaN</td>\n",
       "      <td>NaN</td>\n",
       "      <td>NaN</td>\n",
       "    </tr>\n",
       "    <tr>\n",
       "      <th>3</th>\n",
       "      <td>2025-07-24</td>\n",
       "      <td>2025-07-24 19:06:20.916</td>\n",
       "      <td>2020-02-01 00:00:00.000</td>\n",
       "      <td>uscnfconq_all_adjusted_d15_bom_cur</td>\n",
       "      <td>m</td>\n",
       "      <td>0.016871</td>\n",
       "      <td>-0.006176</td>\n",
       "      <td>0.023047</td>\n",
       "      <td>-0.054283</td>\n",
       "      <td>0.041931</td>\n",
       "      <td>...</td>\n",
       "      <td>NaN</td>\n",
       "      <td>NaN</td>\n",
       "      <td>NaN</td>\n",
       "      <td>NaN</td>\n",
       "      <td>NaN</td>\n",
       "      <td>NaN</td>\n",
       "      <td>NaN</td>\n",
       "      <td>NaN</td>\n",
       "      <td>NaN</td>\n",
       "      <td>NaN</td>\n",
       "    </tr>\n",
       "    <tr>\n",
       "      <th>4</th>\n",
       "      <td>2025-07-24</td>\n",
       "      <td>2025-07-24 19:06:20.916</td>\n",
       "      <td>2020-03-01 00:00:00.000</td>\n",
       "      <td>uscnfconq_all_adjusted_d15_bom_cur</td>\n",
       "      <td>m</td>\n",
       "      <td>-0.104072</td>\n",
       "      <td>-0.010745</td>\n",
       "      <td>-0.093327</td>\n",
       "      <td>-0.093322</td>\n",
       "      <td>0.071831</td>\n",
       "      <td>...</td>\n",
       "      <td>NaN</td>\n",
       "      <td>NaN</td>\n",
       "      <td>NaN</td>\n",
       "      <td>NaN</td>\n",
       "      <td>NaN</td>\n",
       "      <td>NaN</td>\n",
       "      <td>NaN</td>\n",
       "      <td>NaN</td>\n",
       "      <td>NaN</td>\n",
       "      <td>NaN</td>\n",
       "    </tr>\n",
       "    <tr>\n",
       "      <th>...</th>\n",
       "      <td>...</td>\n",
       "      <td>...</td>\n",
       "      <td>...</td>\n",
       "      <td>...</td>\n",
       "      <td>...</td>\n",
       "      <td>...</td>\n",
       "      <td>...</td>\n",
       "      <td>...</td>\n",
       "      <td>...</td>\n",
       "      <td>...</td>\n",
       "      <td>...</td>\n",
       "      <td>...</td>\n",
       "      <td>...</td>\n",
       "      <td>...</td>\n",
       "      <td>...</td>\n",
       "      <td>...</td>\n",
       "      <td>...</td>\n",
       "      <td>...</td>\n",
       "      <td>...</td>\n",
       "      <td>...</td>\n",
       "      <td>...</td>\n",
       "    </tr>\n",
       "    <tr>\n",
       "      <th>63</th>\n",
       "      <td>2025-07-24</td>\n",
       "      <td>2025-07-24 19:06:20.916</td>\n",
       "      <td>2025-02-01 00:00:00.000</td>\n",
       "      <td>uscnfconq_all_adjusted_d15_bom_cur</td>\n",
       "      <td>m</td>\n",
       "      <td>-0.049383</td>\n",
       "      <td>-0.090227</td>\n",
       "      <td>0.040845</td>\n",
       "      <td>-0.187408</td>\n",
       "      <td>0.006953</td>\n",
       "      <td>...</td>\n",
       "      <td>0.916667</td>\n",
       "      <td>0.309991</td>\n",
       "      <td>0.002637</td>\n",
       "      <td>0.011767</td>\n",
       "      <td>0.985596</td>\n",
       "      <td>0.612537</td>\n",
       "      <td>0.0</td>\n",
       "      <td>0.0</td>\n",
       "      <td>0.0</td>\n",
       "      <td>0.002325</td>\n",
       "    </tr>\n",
       "    <tr>\n",
       "      <th>64</th>\n",
       "      <td>2025-07-24</td>\n",
       "      <td>2025-07-24 19:06:20.916</td>\n",
       "      <td>2025-03-01 00:00:00.000</td>\n",
       "      <td>uscnfconq_all_adjusted_d15_bom_cur</td>\n",
       "      <td>m</td>\n",
       "      <td>-0.061938</td>\n",
       "      <td>-0.081705</td>\n",
       "      <td>0.019767</td>\n",
       "      <td>-0.178327</td>\n",
       "      <td>0.014916</td>\n",
       "      <td>...</td>\n",
       "      <td>1.000000</td>\n",
       "      <td>0.280323</td>\n",
       "      <td>0.004625</td>\n",
       "      <td>0.010655</td>\n",
       "      <td>0.984719</td>\n",
       "      <td>0.600226</td>\n",
       "      <td>0.0</td>\n",
       "      <td>0.0</td>\n",
       "      <td>0.0</td>\n",
       "      <td>-0.002976</td>\n",
       "    </tr>\n",
       "    <tr>\n",
       "      <th>65</th>\n",
       "      <td>2025-07-24</td>\n",
       "      <td>2025-07-24 19:06:20.916</td>\n",
       "      <td>2025-04-01 00:00:00.000</td>\n",
       "      <td>uscnfconq_all_adjusted_d15_bom_cur</td>\n",
       "      <td>m</td>\n",
       "      <td>-0.087327</td>\n",
       "      <td>-0.014758</td>\n",
       "      <td>-0.072569</td>\n",
       "      <td>-0.111986</td>\n",
       "      <td>0.082470</td>\n",
       "      <td>...</td>\n",
       "      <td>1.000000</td>\n",
       "      <td>0.287366</td>\n",
       "      <td>0.000066</td>\n",
       "      <td>0.000069</td>\n",
       "      <td>0.999865</td>\n",
       "      <td>0.611419</td>\n",
       "      <td>0.0</td>\n",
       "      <td>0.0</td>\n",
       "      <td>0.0</td>\n",
       "      <td>-0.000380</td>\n",
       "    </tr>\n",
       "    <tr>\n",
       "      <th>66</th>\n",
       "      <td>2025-07-24</td>\n",
       "      <td>2025-07-24 19:06:20.916</td>\n",
       "      <td>2025-05-01 00:00:00.000</td>\n",
       "      <td>uscnfconq_all_adjusted_d15_bom_cur</td>\n",
       "      <td>m</td>\n",
       "      <td>0.143524</td>\n",
       "      <td>0.039483</td>\n",
       "      <td>0.104041</td>\n",
       "      <td>-0.060576</td>\n",
       "      <td>0.139541</td>\n",
       "      <td>...</td>\n",
       "      <td>1.000000</td>\n",
       "      <td>0.295924</td>\n",
       "      <td>0.001767</td>\n",
       "      <td>0.005267</td>\n",
       "      <td>0.992966</td>\n",
       "      <td>0.714087</td>\n",
       "      <td>0.0</td>\n",
       "      <td>0.0</td>\n",
       "      <td>0.0</td>\n",
       "      <td>-0.002086</td>\n",
       "    </tr>\n",
       "    <tr>\n",
       "      <th>67</th>\n",
       "      <td>2025-07-24</td>\n",
       "      <td>2025-07-24 19:06:20.916</td>\n",
       "      <td>2025-07-01 00:00:00.000</td>\n",
       "      <td>uscnfconq_all_adjusted_d15_bom_cur</td>\n",
       "      <td>m</td>\n",
       "      <td>NaN</td>\n",
       "      <td>0.060594</td>\n",
       "      <td>NaN</td>\n",
       "      <td>-0.039465</td>\n",
       "      <td>0.160653</td>\n",
       "      <td>...</td>\n",
       "      <td>1.000000</td>\n",
       "      <td>0.339889</td>\n",
       "      <td>0.003723</td>\n",
       "      <td>0.008792</td>\n",
       "      <td>0.987485</td>\n",
       "      <td>0.739253</td>\n",
       "      <td>0.0</td>\n",
       "      <td>0.0</td>\n",
       "      <td>0.0</td>\n",
       "      <td>-0.003235</td>\n",
       "    </tr>\n",
       "  </tbody>\n",
       "</table>\n",
       "<p>68 rows × 122 columns</p>\n",
       "</div>"
      ],
      "text/plain": [
       "          date                asof_date                timestamp  \\\n",
       "0   2025-07-24  2025-07-24 19:06:20.916  2019-11-01 00:00:00.000   \n",
       "1   2025-07-24  2025-07-24 19:06:20.916  2019-12-01 00:00:00.000   \n",
       "2   2025-07-24  2025-07-24 19:06:20.916  2020-01-01 00:00:00.000   \n",
       "3   2025-07-24  2025-07-24 19:06:20.916  2020-02-01 00:00:00.000   \n",
       "4   2025-07-24  2025-07-24 19:06:20.916  2020-03-01 00:00:00.000   \n",
       "..         ...                      ...                      ...   \n",
       "63  2025-07-24  2025-07-24 19:06:20.916  2025-02-01 00:00:00.000   \n",
       "64  2025-07-24  2025-07-24 19:06:20.916  2025-03-01 00:00:00.000   \n",
       "65  2025-07-24  2025-07-24 19:06:20.916  2025-04-01 00:00:00.000   \n",
       "66  2025-07-24  2025-07-24 19:06:20.916  2025-05-01 00:00:00.000   \n",
       "67  2025-07-24  2025-07-24 19:06:20.916  2025-07-01 00:00:00.000   \n",
       "\n",
       "                            identifier frequency  mom_actual  mom_predicted  \\\n",
       "0   uscnfconq_all_adjusted_d15_bom_cur         m    0.005551       0.038084   \n",
       "1   uscnfconq_all_adjusted_d15_bom_cur         m    0.011041       0.025131   \n",
       "2   uscnfconq_all_adjusted_d15_bom_cur         m    0.017161       0.041533   \n",
       "3   uscnfconq_all_adjusted_d15_bom_cur         m    0.016871      -0.006176   \n",
       "4   uscnfconq_all_adjusted_d15_bom_cur         m   -0.104072      -0.010745   \n",
       "..                                 ...       ...         ...            ...   \n",
       "63  uscnfconq_all_adjusted_d15_bom_cur         m   -0.049383      -0.090227   \n",
       "64  uscnfconq_all_adjusted_d15_bom_cur         m   -0.061938      -0.081705   \n",
       "65  uscnfconq_all_adjusted_d15_bom_cur         m   -0.087327      -0.014758   \n",
       "66  uscnfconq_all_adjusted_d15_bom_cur         m    0.143524       0.039483   \n",
       "67  uscnfconq_all_adjusted_d15_bom_cur         m         NaN       0.060594   \n",
       "\n",
       "    mom_difference  mom_ci_lb_95  mom_ci_ub_95  ...  yoy_sign_accuracy_ttm  \\\n",
       "0        -0.032533           NaN           NaN  ...                    NaN   \n",
       "1        -0.014090     -0.000429      0.050691  ...                    NaN   \n",
       "2        -0.024372      0.023419      0.059646  ...                    NaN   \n",
       "3         0.023047     -0.054283      0.041931  ...                    NaN   \n",
       "4        -0.093327     -0.093322      0.071831  ...                    NaN   \n",
       "..             ...           ...           ...  ...                    ...   \n",
       "63        0.040845     -0.187408      0.006953  ...               0.916667   \n",
       "64        0.019767     -0.178327      0.014916  ...               1.000000   \n",
       "65       -0.072569     -0.111986      0.082470  ...               1.000000   \n",
       "66        0.104041     -0.060576      0.139541  ...               1.000000   \n",
       "67             NaN     -0.039465      0.160653  ...               1.000000   \n",
       "\n",
       "    yoy_theil_u1_ttm  yoy_theil_u1_bias_ttm  yoy_theil_u1_variance_ttm  \\\n",
       "0                NaN                    NaN                        NaN   \n",
       "1                NaN                    NaN                        NaN   \n",
       "2                NaN                    NaN                        NaN   \n",
       "3                NaN                    NaN                        NaN   \n",
       "4                NaN                    NaN                        NaN   \n",
       "..               ...                    ...                        ...   \n",
       "63          0.309991               0.002637                   0.011767   \n",
       "64          0.280323               0.004625                   0.010655   \n",
       "65          0.287366               0.000066                   0.000069   \n",
       "66          0.295924               0.001767                   0.005267   \n",
       "67          0.339889               0.003723                   0.008792   \n",
       "\n",
       "    yoy_theil_u1_covariance_ttm  yoy_theil_u2_ttm  yoy_hit_rate_1bp_ttm  \\\n",
       "0                           NaN               NaN                   NaN   \n",
       "1                           NaN               NaN                   NaN   \n",
       "2                           NaN               NaN                   NaN   \n",
       "3                           NaN               NaN                   NaN   \n",
       "4                           NaN               NaN                   NaN   \n",
       "..                          ...               ...                   ...   \n",
       "63                     0.985596          0.612537                   0.0   \n",
       "64                     0.984719          0.600226                   0.0   \n",
       "65                     0.999865          0.611419                   0.0   \n",
       "66                     0.992966          0.714087                   0.0   \n",
       "67                     0.987485          0.739253                   0.0   \n",
       "\n",
       "    yoy_hit_rate_5bp_ttm  yoy_hit_rate_10bp_ttm  yoy_forecast_bias_ttm  \n",
       "0                    NaN                    NaN                    NaN  \n",
       "1                    NaN                    NaN                    NaN  \n",
       "2                    NaN                    NaN                    NaN  \n",
       "3                    NaN                    NaN                    NaN  \n",
       "4                    NaN                    NaN                    NaN  \n",
       "..                   ...                    ...                    ...  \n",
       "63                   0.0                    0.0               0.002325  \n",
       "64                   0.0                    0.0              -0.002976  \n",
       "65                   0.0                    0.0              -0.000380  \n",
       "66                   0.0                    0.0              -0.002086  \n",
       "67                   0.0                    0.0              -0.003235  \n",
       "\n",
       "[68 rows x 122 columns]"
      ]
     },
     "execution_count": 24,
     "metadata": {},
     "output_type": "execute_result"
    }
   ],
   "source": [
    "df = unifier.get_dataframe(name='xtech_macro_us_core_predictions', key='uscnfconq_all_adjusted_d15_bom_cur', asof_date=None ,back_to=None,up_to=None, limit=None)\n",
    "df"
   ]
  },
  {
   "cell_type": "code",
   "execution_count": null,
   "metadata": {},
   "outputs": [
    {
     "data": {
      "application/vnd.plotly.v1+json": {
       "config": {
        "plotlyServerURL": "https://plot.ly"
       },
       "data": [
        {
         "line": {
          "color": "royalblue"
         },
         "marker": {
          "size": 6,
          "symbol": "circle"
         },
         "mode": "lines+markers",
         "name": "Actual",
         "type": "scatter",
         "x": [
          "2019-11-01 00:00:00.000",
          "2019-12-01 00:00:00.000",
          "2020-01-01 00:00:00.000",
          "2020-02-01 00:00:00.000",
          "2020-03-01 00:00:00.000",
          "2020-04-01 00:00:00.000",
          "2020-05-01 00:00:00.000",
          "2020-06-01 00:00:00.000",
          "2020-07-01 00:00:00.000",
          "2020-08-01 00:00:00.000",
          "2020-09-01 00:00:00.000",
          "2020-10-01 00:00:00.000",
          "2020-11-01 00:00:00.000",
          "2020-12-01 00:00:00.000",
          "2021-01-01 00:00:00.000",
          "2021-02-01 00:00:00.000",
          "2021-03-01 00:00:00.000",
          "2021-04-01 00:00:00.000",
          "2021-05-01 00:00:00.000",
          "2021-06-01 00:00:00.000",
          "2021-07-01 00:00:00.000",
          "2021-08-01 00:00:00.000",
          "2021-09-01 00:00:00.000",
          "2021-10-01 00:00:00.000",
          "2021-11-01 00:00:00.000",
          "2021-12-01 00:00:00.000",
          "2022-01-01 00:00:00.000",
          "2022-02-01 00:00:00.000",
          "2022-03-01 00:00:00.000",
          "2022-04-01 00:00:00.000",
          "2022-05-01 00:00:00.000",
          "2022-06-01 00:00:00.000",
          "2022-07-01 00:00:00.000",
          "2022-08-01 00:00:00.000",
          "2022-09-01 00:00:00.000",
          "2022-10-01 00:00:00.000",
          "2022-11-01 00:00:00.000",
          "2022-12-01 00:00:00.000",
          "2023-01-01 00:00:00.000",
          "2023-02-01 00:00:00.000",
          "2023-03-01 00:00:00.000",
          "2023-04-01 00:00:00.000",
          "2023-05-01 00:00:00.000",
          "2023-06-01 00:00:00.000",
          "2023-07-01 00:00:00.000",
          "2023-08-01 00:00:00.000",
          "2023-09-01 00:00:00.000",
          "2023-10-01 00:00:00.000",
          "2023-11-01 00:00:00.000",
          "2023-12-01 00:00:00.000",
          "2024-01-01 00:00:00.000",
          "2024-02-01 00:00:00.000",
          "2024-03-01 00:00:00.000",
          "2024-04-01 00:00:00.000",
          "2024-05-01 00:00:00.000",
          "2024-06-01 00:00:00.000",
          "2024-07-01 00:00:00.000",
          "2024-08-01 00:00:00.000",
          "2024-09-01 00:00:00.000",
          "2024-10-01 00:00:00.000",
          "2024-11-01 00:00:00.000",
          "2024-12-01 00:00:00.000",
          "2025-01-01 00:00:00.000",
          "2025-02-01 00:00:00.000",
          "2025-03-01 00:00:00.000",
          "2025-04-01 00:00:00.000",
          "2025-05-01 00:00:00.000",
          "2025-07-01 00:00:00.000"
         ],
         "y": {
          "bdata": "MzMzMzOzX0BmZmZmZgZgQM3MzMzMTGBAMzMzMzOTYEAzMzMzM7NdQM3MzMzMbFVAmpmZmZl5VUAzMzMzM5NYQM3MzMzM7FZAMzMzMzOTVUAzMzMzM1NZQJqZmZmZWVlAmpmZmZk5V0BmZmZmZsZVQGZmZmZmxlVAzczMzMzMV0CamZmZmblcQAAAAAAAYF1AAAAAAAAAXkDNzMzMzBxgQGZmZmZmRl9AzczMzMzMXEAzMzMzM3NbQGZmZmZm5ltAmpmZmZn5W0DNzMzMzMxcQGZmZmZmxltAzczMzMxsWkBmZmZmZuZaQGZmZmZmJltAzczMzMzMWUCamZmZmZlYQDMzMzMz01dAZmZmZmbmWUAzMzMzM/NaQM3MzMzMjFlAmpmZmZlZWUAAAAAAAEBbQAAAAAAAgFpAmpmZmZnZWUAAAAAAAABaQM3MzMzM7FlAAAAAAACgWUBmZmZmZoZbQAAAAAAAgFxAzczMzMwsW0AzMzMzMxNaQGZmZmZmxlhAAAAAAABAWUAAAAAAAABbQJqZmZmZuVtAMzMzMzMzWkBmZmZmZsZZQAAAAAAAYFhAMzMzMzNTWUAzMzMzM3NYQJqZmZmZeVlAZmZmZmZmWkDNzMzMzMxYQGZmZmZmZltAMzMzMzMzXEAAAAAAAGBbQDMzMzMzU1pAZmZmZmYGWUCamZmZmXlXQM3MzMzMbFVAAAAAAACAWEAAAAAAAAD4fw==",
          "dtype": "f8"
         }
        },
        {
         "line": {
          "color": "firebrick"
         },
         "marker": {
          "size": 6,
          "symbol": "x"
         },
         "mode": "lines+markers",
         "name": "Predicted",
         "type": "scatter",
         "x": [
          "2019-11-01 00:00:00.000",
          "2019-12-01 00:00:00.000",
          "2020-01-01 00:00:00.000",
          "2020-02-01 00:00:00.000",
          "2020-03-01 00:00:00.000",
          "2020-04-01 00:00:00.000",
          "2020-05-01 00:00:00.000",
          "2020-06-01 00:00:00.000",
          "2020-07-01 00:00:00.000",
          "2020-08-01 00:00:00.000",
          "2020-09-01 00:00:00.000",
          "2020-10-01 00:00:00.000",
          "2020-11-01 00:00:00.000",
          "2020-12-01 00:00:00.000",
          "2021-01-01 00:00:00.000",
          "2021-02-01 00:00:00.000",
          "2021-03-01 00:00:00.000",
          "2021-04-01 00:00:00.000",
          "2021-05-01 00:00:00.000",
          "2021-06-01 00:00:00.000",
          "2021-07-01 00:00:00.000",
          "2021-08-01 00:00:00.000",
          "2021-09-01 00:00:00.000",
          "2021-10-01 00:00:00.000",
          "2021-11-01 00:00:00.000",
          "2021-12-01 00:00:00.000",
          "2022-01-01 00:00:00.000",
          "2022-02-01 00:00:00.000",
          "2022-03-01 00:00:00.000",
          "2022-04-01 00:00:00.000",
          "2022-05-01 00:00:00.000",
          "2022-06-01 00:00:00.000",
          "2022-07-01 00:00:00.000",
          "2022-08-01 00:00:00.000",
          "2022-09-01 00:00:00.000",
          "2022-10-01 00:00:00.000",
          "2022-11-01 00:00:00.000",
          "2022-12-01 00:00:00.000",
          "2023-01-01 00:00:00.000",
          "2023-02-01 00:00:00.000",
          "2023-03-01 00:00:00.000",
          "2023-04-01 00:00:00.000",
          "2023-05-01 00:00:00.000",
          "2023-06-01 00:00:00.000",
          "2023-07-01 00:00:00.000",
          "2023-08-01 00:00:00.000",
          "2023-09-01 00:00:00.000",
          "2023-10-01 00:00:00.000",
          "2023-11-01 00:00:00.000",
          "2023-12-01 00:00:00.000",
          "2024-01-01 00:00:00.000",
          "2024-02-01 00:00:00.000",
          "2024-03-01 00:00:00.000",
          "2024-04-01 00:00:00.000",
          "2024-05-01 00:00:00.000",
          "2024-06-01 00:00:00.000",
          "2024-07-01 00:00:00.000",
          "2024-08-01 00:00:00.000",
          "2024-09-01 00:00:00.000",
          "2024-10-01 00:00:00.000",
          "2024-11-01 00:00:00.000",
          "2024-12-01 00:00:00.000",
          "2025-01-01 00:00:00.000",
          "2025-02-01 00:00:00.000",
          "2025-03-01 00:00:00.000",
          "2025-04-01 00:00:00.000",
          "2025-05-01 00:00:00.000",
          "2025-07-01 00:00:00.000"
         ],
         "y": {
          "bdata": "mZkkIuBcYEAAADD6kT9gQGZmdprIsGBAzcwHdgczYEDNTOMam2VgQAAAwAzQ/lVAZ2Zqt4A4VkDNzPhq4DRXQAAAXMqhWVdAZ2ZsnC4eV0BmZn7j/NdWQM3sFIoLYllAZ2bGAbStWkA0U3GOhjJXQMzsNZ3d21VAZqaAmFPtVUAzM/PTB+5ZQGdmtOmiFV5AAADVpREKXkAAAEDF5qleQJrprSj1DGBAZmYkjD2ZXUAAAACc6TpbQGZm5l5MdVlAZmbT72DIW0AAALessMtcQAAAgMNK+FtAAIBCysLrW0AAgB8H4TBaQMzMjDJXyFxAAAAm9C9WWkAzM7MPCRpYQJqZOVrSuVZAmZl5v0toWUAAALCh4bdbQAAAcPG3BVlAZ2auLvo3WEA0M+9UDJBaQAAAlhgtzFpAAAB4ovgkW0BnZr4HyoJbQAAAAAo0iFhAMzPS0BeKWkAAANAgzmVcQDMzy3FSYF1AAABYncH4XECamekmkK5aQAAAIArQWFhAzMwC6k/1WUAAAAC9K41aQAAA4Kpir11AZ+bpCS/BW0CZmZGmDO5aQGZmfugSYVlAAADcshuYV0CZGXWnBUlZQDMzlK+K0VhAmlnDzgGrWUAAAABC49hZQDMzk2jmYFlAzMxsEL4MXUDNzD7QA11cQABAGrRhjFtAMzNj7SPzV0DMzGRM9vpWQACASLDoIFdAmpnH4VpFVkAAAAAAAAD4fw==",
          "dtype": "f8"
         }
        }
       ],
       "layout": {
        "height": 500,
        "hovermode": "x unified",
        "legend": {
         "bgcolor": "rgba(255,255,255,0.5)",
         "bordercolor": "gray",
         "x": 0.01,
         "y": 0.99
        },
        "margin": {
         "b": 40,
         "l": 40,
         "r": 20,
         "t": 60
        },
        "template": {
         "data": {
          "bar": [
           {
            "error_x": {
             "color": "#2a3f5f"
            },
            "error_y": {
             "color": "#2a3f5f"
            },
            "marker": {
             "line": {
              "color": "white",
              "width": 0.5
             },
             "pattern": {
              "fillmode": "overlay",
              "size": 10,
              "solidity": 0.2
             }
            },
            "type": "bar"
           }
          ],
          "barpolar": [
           {
            "marker": {
             "line": {
              "color": "white",
              "width": 0.5
             },
             "pattern": {
              "fillmode": "overlay",
              "size": 10,
              "solidity": 0.2
             }
            },
            "type": "barpolar"
           }
          ],
          "carpet": [
           {
            "aaxis": {
             "endlinecolor": "#2a3f5f",
             "gridcolor": "#C8D4E3",
             "linecolor": "#C8D4E3",
             "minorgridcolor": "#C8D4E3",
             "startlinecolor": "#2a3f5f"
            },
            "baxis": {
             "endlinecolor": "#2a3f5f",
             "gridcolor": "#C8D4E3",
             "linecolor": "#C8D4E3",
             "minorgridcolor": "#C8D4E3",
             "startlinecolor": "#2a3f5f"
            },
            "type": "carpet"
           }
          ],
          "choropleth": [
           {
            "colorbar": {
             "outlinewidth": 0,
             "ticks": ""
            },
            "type": "choropleth"
           }
          ],
          "contour": [
           {
            "colorbar": {
             "outlinewidth": 0,
             "ticks": ""
            },
            "colorscale": [
             [
              0,
              "#0d0887"
             ],
             [
              0.1111111111111111,
              "#46039f"
             ],
             [
              0.2222222222222222,
              "#7201a8"
             ],
             [
              0.3333333333333333,
              "#9c179e"
             ],
             [
              0.4444444444444444,
              "#bd3786"
             ],
             [
              0.5555555555555556,
              "#d8576b"
             ],
             [
              0.6666666666666666,
              "#ed7953"
             ],
             [
              0.7777777777777778,
              "#fb9f3a"
             ],
             [
              0.8888888888888888,
              "#fdca26"
             ],
             [
              1,
              "#f0f921"
             ]
            ],
            "type": "contour"
           }
          ],
          "contourcarpet": [
           {
            "colorbar": {
             "outlinewidth": 0,
             "ticks": ""
            },
            "type": "contourcarpet"
           }
          ],
          "heatmap": [
           {
            "colorbar": {
             "outlinewidth": 0,
             "ticks": ""
            },
            "colorscale": [
             [
              0,
              "#0d0887"
             ],
             [
              0.1111111111111111,
              "#46039f"
             ],
             [
              0.2222222222222222,
              "#7201a8"
             ],
             [
              0.3333333333333333,
              "#9c179e"
             ],
             [
              0.4444444444444444,
              "#bd3786"
             ],
             [
              0.5555555555555556,
              "#d8576b"
             ],
             [
              0.6666666666666666,
              "#ed7953"
             ],
             [
              0.7777777777777778,
              "#fb9f3a"
             ],
             [
              0.8888888888888888,
              "#fdca26"
             ],
             [
              1,
              "#f0f921"
             ]
            ],
            "type": "heatmap"
           }
          ],
          "histogram": [
           {
            "marker": {
             "pattern": {
              "fillmode": "overlay",
              "size": 10,
              "solidity": 0.2
             }
            },
            "type": "histogram"
           }
          ],
          "histogram2d": [
           {
            "colorbar": {
             "outlinewidth": 0,
             "ticks": ""
            },
            "colorscale": [
             [
              0,
              "#0d0887"
             ],
             [
              0.1111111111111111,
              "#46039f"
             ],
             [
              0.2222222222222222,
              "#7201a8"
             ],
             [
              0.3333333333333333,
              "#9c179e"
             ],
             [
              0.4444444444444444,
              "#bd3786"
             ],
             [
              0.5555555555555556,
              "#d8576b"
             ],
             [
              0.6666666666666666,
              "#ed7953"
             ],
             [
              0.7777777777777778,
              "#fb9f3a"
             ],
             [
              0.8888888888888888,
              "#fdca26"
             ],
             [
              1,
              "#f0f921"
             ]
            ],
            "type": "histogram2d"
           }
          ],
          "histogram2dcontour": [
           {
            "colorbar": {
             "outlinewidth": 0,
             "ticks": ""
            },
            "colorscale": [
             [
              0,
              "#0d0887"
             ],
             [
              0.1111111111111111,
              "#46039f"
             ],
             [
              0.2222222222222222,
              "#7201a8"
             ],
             [
              0.3333333333333333,
              "#9c179e"
             ],
             [
              0.4444444444444444,
              "#bd3786"
             ],
             [
              0.5555555555555556,
              "#d8576b"
             ],
             [
              0.6666666666666666,
              "#ed7953"
             ],
             [
              0.7777777777777778,
              "#fb9f3a"
             ],
             [
              0.8888888888888888,
              "#fdca26"
             ],
             [
              1,
              "#f0f921"
             ]
            ],
            "type": "histogram2dcontour"
           }
          ],
          "mesh3d": [
           {
            "colorbar": {
             "outlinewidth": 0,
             "ticks": ""
            },
            "type": "mesh3d"
           }
          ],
          "parcoords": [
           {
            "line": {
             "colorbar": {
              "outlinewidth": 0,
              "ticks": ""
             }
            },
            "type": "parcoords"
           }
          ],
          "pie": [
           {
            "automargin": true,
            "type": "pie"
           }
          ],
          "scatter": [
           {
            "fillpattern": {
             "fillmode": "overlay",
             "size": 10,
             "solidity": 0.2
            },
            "type": "scatter"
           }
          ],
          "scatter3d": [
           {
            "line": {
             "colorbar": {
              "outlinewidth": 0,
              "ticks": ""
             }
            },
            "marker": {
             "colorbar": {
              "outlinewidth": 0,
              "ticks": ""
             }
            },
            "type": "scatter3d"
           }
          ],
          "scattercarpet": [
           {
            "marker": {
             "colorbar": {
              "outlinewidth": 0,
              "ticks": ""
             }
            },
            "type": "scattercarpet"
           }
          ],
          "scattergeo": [
           {
            "marker": {
             "colorbar": {
              "outlinewidth": 0,
              "ticks": ""
             }
            },
            "type": "scattergeo"
           }
          ],
          "scattergl": [
           {
            "marker": {
             "colorbar": {
              "outlinewidth": 0,
              "ticks": ""
             }
            },
            "type": "scattergl"
           }
          ],
          "scattermap": [
           {
            "marker": {
             "colorbar": {
              "outlinewidth": 0,
              "ticks": ""
             }
            },
            "type": "scattermap"
           }
          ],
          "scattermapbox": [
           {
            "marker": {
             "colorbar": {
              "outlinewidth": 0,
              "ticks": ""
             }
            },
            "type": "scattermapbox"
           }
          ],
          "scatterpolar": [
           {
            "marker": {
             "colorbar": {
              "outlinewidth": 0,
              "ticks": ""
             }
            },
            "type": "scatterpolar"
           }
          ],
          "scatterpolargl": [
           {
            "marker": {
             "colorbar": {
              "outlinewidth": 0,
              "ticks": ""
             }
            },
            "type": "scatterpolargl"
           }
          ],
          "scatterternary": [
           {
            "marker": {
             "colorbar": {
              "outlinewidth": 0,
              "ticks": ""
             }
            },
            "type": "scatterternary"
           }
          ],
          "surface": [
           {
            "colorbar": {
             "outlinewidth": 0,
             "ticks": ""
            },
            "colorscale": [
             [
              0,
              "#0d0887"
             ],
             [
              0.1111111111111111,
              "#46039f"
             ],
             [
              0.2222222222222222,
              "#7201a8"
             ],
             [
              0.3333333333333333,
              "#9c179e"
             ],
             [
              0.4444444444444444,
              "#bd3786"
             ],
             [
              0.5555555555555556,
              "#d8576b"
             ],
             [
              0.6666666666666666,
              "#ed7953"
             ],
             [
              0.7777777777777778,
              "#fb9f3a"
             ],
             [
              0.8888888888888888,
              "#fdca26"
             ],
             [
              1,
              "#f0f921"
             ]
            ],
            "type": "surface"
           }
          ],
          "table": [
           {
            "cells": {
             "fill": {
              "color": "#EBF0F8"
             },
             "line": {
              "color": "white"
             }
            },
            "header": {
             "fill": {
              "color": "#C8D4E3"
             },
             "line": {
              "color": "white"
             }
            },
            "type": "table"
           }
          ]
         },
         "layout": {
          "annotationdefaults": {
           "arrowcolor": "#2a3f5f",
           "arrowhead": 0,
           "arrowwidth": 1
          },
          "autotypenumbers": "strict",
          "coloraxis": {
           "colorbar": {
            "outlinewidth": 0,
            "ticks": ""
           }
          },
          "colorscale": {
           "diverging": [
            [
             0,
             "#8e0152"
            ],
            [
             0.1,
             "#c51b7d"
            ],
            [
             0.2,
             "#de77ae"
            ],
            [
             0.3,
             "#f1b6da"
            ],
            [
             0.4,
             "#fde0ef"
            ],
            [
             0.5,
             "#f7f7f7"
            ],
            [
             0.6,
             "#e6f5d0"
            ],
            [
             0.7,
             "#b8e186"
            ],
            [
             0.8,
             "#7fbc41"
            ],
            [
             0.9,
             "#4d9221"
            ],
            [
             1,
             "#276419"
            ]
           ],
           "sequential": [
            [
             0,
             "#0d0887"
            ],
            [
             0.1111111111111111,
             "#46039f"
            ],
            [
             0.2222222222222222,
             "#7201a8"
            ],
            [
             0.3333333333333333,
             "#9c179e"
            ],
            [
             0.4444444444444444,
             "#bd3786"
            ],
            [
             0.5555555555555556,
             "#d8576b"
            ],
            [
             0.6666666666666666,
             "#ed7953"
            ],
            [
             0.7777777777777778,
             "#fb9f3a"
            ],
            [
             0.8888888888888888,
             "#fdca26"
            ],
            [
             1,
             "#f0f921"
            ]
           ],
           "sequentialminus": [
            [
             0,
             "#0d0887"
            ],
            [
             0.1111111111111111,
             "#46039f"
            ],
            [
             0.2222222222222222,
             "#7201a8"
            ],
            [
             0.3333333333333333,
             "#9c179e"
            ],
            [
             0.4444444444444444,
             "#bd3786"
            ],
            [
             0.5555555555555556,
             "#d8576b"
            ],
            [
             0.6666666666666666,
             "#ed7953"
            ],
            [
             0.7777777777777778,
             "#fb9f3a"
            ],
            [
             0.8888888888888888,
             "#fdca26"
            ],
            [
             1,
             "#f0f921"
            ]
           ]
          },
          "colorway": [
           "#636efa",
           "#EF553B",
           "#00cc96",
           "#ab63fa",
           "#FFA15A",
           "#19d3f3",
           "#FF6692",
           "#B6E880",
           "#FF97FF",
           "#FECB52"
          ],
          "font": {
           "color": "#2a3f5f"
          },
          "geo": {
           "bgcolor": "white",
           "lakecolor": "white",
           "landcolor": "white",
           "showlakes": true,
           "showland": true,
           "subunitcolor": "#C8D4E3"
          },
          "hoverlabel": {
           "align": "left"
          },
          "hovermode": "closest",
          "mapbox": {
           "style": "light"
          },
          "paper_bgcolor": "white",
          "plot_bgcolor": "white",
          "polar": {
           "angularaxis": {
            "gridcolor": "#EBF0F8",
            "linecolor": "#EBF0F8",
            "ticks": ""
           },
           "bgcolor": "white",
           "radialaxis": {
            "gridcolor": "#EBF0F8",
            "linecolor": "#EBF0F8",
            "ticks": ""
           }
          },
          "scene": {
           "xaxis": {
            "backgroundcolor": "white",
            "gridcolor": "#DFE8F3",
            "gridwidth": 2,
            "linecolor": "#EBF0F8",
            "showbackground": true,
            "ticks": "",
            "zerolinecolor": "#EBF0F8"
           },
           "yaxis": {
            "backgroundcolor": "white",
            "gridcolor": "#DFE8F3",
            "gridwidth": 2,
            "linecolor": "#EBF0F8",
            "showbackground": true,
            "ticks": "",
            "zerolinecolor": "#EBF0F8"
           },
           "zaxis": {
            "backgroundcolor": "white",
            "gridcolor": "#DFE8F3",
            "gridwidth": 2,
            "linecolor": "#EBF0F8",
            "showbackground": true,
            "ticks": "",
            "zerolinecolor": "#EBF0F8"
           }
          },
          "shapedefaults": {
           "line": {
            "color": "#2a3f5f"
           }
          },
          "ternary": {
           "aaxis": {
            "gridcolor": "#DFE8F3",
            "linecolor": "#A2B1C6",
            "ticks": ""
           },
           "baxis": {
            "gridcolor": "#DFE8F3",
            "linecolor": "#A2B1C6",
            "ticks": ""
           },
           "bgcolor": "white",
           "caxis": {
            "gridcolor": "#DFE8F3",
            "linecolor": "#A2B1C6",
            "ticks": ""
           }
          },
          "title": {
           "x": 0.05
          },
          "xaxis": {
           "automargin": true,
           "gridcolor": "#EBF0F8",
           "linecolor": "#EBF0F8",
           "ticks": "",
           "title": {
            "standoff": 15
           },
           "zerolinecolor": "#EBF0F8",
           "zerolinewidth": 2
          },
          "yaxis": {
           "automargin": true,
           "gridcolor": "#EBF0F8",
           "linecolor": "#EBF0F8",
           "ticks": "",
           "title": {
            "standoff": 15
           },
           "zerolinecolor": "#EBF0F8",
           "zerolinewidth": 2
          }
         }
        },
        "title": {
         "text": "uscnfconq_all_adjusted_d15_bom_cur - Index Level"
        },
        "xaxis": {
         "tickangle": 45,
         "tickformat": "%Y-%m",
         "title": {
          "text": "Time"
         }
        },
        "yaxis": {
         "title": {
          "text": "Change"
         }
        }
       }
      }
     },
     "metadata": {},
     "output_type": "display_data"
    }
   ],
   "source": [
    "plot_forecasts(df.sort_values('timestamp'),plot_type='index')"
   ]
  },
  {
   "cell_type": "markdown",
   "metadata": {},
   "source": [
    "### Example: Query Michigan Sentiment"
   ]
  },
  {
   "cell_type": "code",
   "execution_count": null,
   "metadata": {},
   "outputs": [
    {
     "data": {
      "text/html": [
       "<div>\n",
       "<style scoped>\n",
       "    .dataframe tbody tr th:only-of-type {\n",
       "        vertical-align: middle;\n",
       "    }\n",
       "\n",
       "    .dataframe tbody tr th {\n",
       "        vertical-align: top;\n",
       "    }\n",
       "\n",
       "    .dataframe thead th {\n",
       "        text-align: right;\n",
       "    }\n",
       "</style>\n",
       "<table border=\"1\" class=\"dataframe\">\n",
       "  <thead>\n",
       "    <tr style=\"text-align: right;\">\n",
       "      <th></th>\n",
       "      <th>date</th>\n",
       "      <th>asof_date</th>\n",
       "      <th>timestamp</th>\n",
       "      <th>identifier</th>\n",
       "      <th>frequency</th>\n",
       "      <th>mom_actual</th>\n",
       "      <th>mom_predicted</th>\n",
       "      <th>mom_difference</th>\n",
       "      <th>mom_ci_lb_95</th>\n",
       "      <th>mom_ci_ub_95</th>\n",
       "      <th>...</th>\n",
       "      <th>yoy_sign_accuracy_ttm</th>\n",
       "      <th>yoy_theil_u1_ttm</th>\n",
       "      <th>yoy_theil_u1_bias_ttm</th>\n",
       "      <th>yoy_theil_u1_variance_ttm</th>\n",
       "      <th>yoy_theil_u1_covariance_ttm</th>\n",
       "      <th>yoy_theil_u2_ttm</th>\n",
       "      <th>yoy_hit_rate_1bp_ttm</th>\n",
       "      <th>yoy_hit_rate_5bp_ttm</th>\n",
       "      <th>yoy_hit_rate_10bp_ttm</th>\n",
       "      <th>yoy_forecast_bias_ttm</th>\n",
       "    </tr>\n",
       "  </thead>\n",
       "  <tbody>\n",
       "    <tr>\n",
       "      <th>0</th>\n",
       "      <td>2025-07-24</td>\n",
       "      <td>2025-07-24 19:07:06.410</td>\n",
       "      <td>2018-11-01 00:00:00.000</td>\n",
       "      <td>usumconsh_all_unadjusted_d15_bom_cur</td>\n",
       "      <td>m</td>\n",
       "      <td>-0.011156</td>\n",
       "      <td>0.002674</td>\n",
       "      <td>-0.013830</td>\n",
       "      <td>NaN</td>\n",
       "      <td>NaN</td>\n",
       "      <td>...</td>\n",
       "      <td>NaN</td>\n",
       "      <td>NaN</td>\n",
       "      <td>NaN</td>\n",
       "      <td>NaN</td>\n",
       "      <td>NaN</td>\n",
       "      <td>NaN</td>\n",
       "      <td>NaN</td>\n",
       "      <td>NaN</td>\n",
       "      <td>NaN</td>\n",
       "      <td>NaN</td>\n",
       "    </tr>\n",
       "    <tr>\n",
       "      <th>1</th>\n",
       "      <td>2025-07-24</td>\n",
       "      <td>2025-07-24 19:07:06.410</td>\n",
       "      <td>2018-12-01 00:00:00.000</td>\n",
       "      <td>usumconsh_all_unadjusted_d15_bom_cur</td>\n",
       "      <td>m</td>\n",
       "      <td>0.008205</td>\n",
       "      <td>0.023589</td>\n",
       "      <td>-0.015384</td>\n",
       "      <td>0.021435</td>\n",
       "      <td>0.025742</td>\n",
       "      <td>...</td>\n",
       "      <td>NaN</td>\n",
       "      <td>NaN</td>\n",
       "      <td>NaN</td>\n",
       "      <td>NaN</td>\n",
       "      <td>NaN</td>\n",
       "      <td>NaN</td>\n",
       "      <td>NaN</td>\n",
       "      <td>NaN</td>\n",
       "      <td>NaN</td>\n",
       "      <td>NaN</td>\n",
       "    </tr>\n",
       "    <tr>\n",
       "      <th>2</th>\n",
       "      <td>2025-07-24</td>\n",
       "      <td>2025-07-24 19:07:06.410</td>\n",
       "      <td>2019-01-01 00:00:00.000</td>\n",
       "      <td>usumconsh_all_unadjusted_d15_bom_cur</td>\n",
       "      <td>m</td>\n",
       "      <td>-0.072228</td>\n",
       "      <td>-0.055519</td>\n",
       "      <td>-0.016709</td>\n",
       "      <td>-0.058343</td>\n",
       "      <td>-0.052694</td>\n",
       "      <td>...</td>\n",
       "      <td>NaN</td>\n",
       "      <td>NaN</td>\n",
       "      <td>NaN</td>\n",
       "      <td>NaN</td>\n",
       "      <td>NaN</td>\n",
       "      <td>NaN</td>\n",
       "      <td>NaN</td>\n",
       "      <td>NaN</td>\n",
       "      <td>NaN</td>\n",
       "      <td>NaN</td>\n",
       "    </tr>\n",
       "    <tr>\n",
       "      <th>3</th>\n",
       "      <td>2025-07-24</td>\n",
       "      <td>2025-07-24 19:07:06.410</td>\n",
       "      <td>2019-02-01 00:00:00.000</td>\n",
       "      <td>usumconsh_all_unadjusted_d15_bom_cur</td>\n",
       "      <td>m</td>\n",
       "      <td>0.028509</td>\n",
       "      <td>-0.006894</td>\n",
       "      <td>0.035403</td>\n",
       "      <td>-0.056643</td>\n",
       "      <td>0.042855</td>\n",
       "      <td>...</td>\n",
       "      <td>NaN</td>\n",
       "      <td>NaN</td>\n",
       "      <td>NaN</td>\n",
       "      <td>NaN</td>\n",
       "      <td>NaN</td>\n",
       "      <td>NaN</td>\n",
       "      <td>NaN</td>\n",
       "      <td>NaN</td>\n",
       "      <td>NaN</td>\n",
       "      <td>NaN</td>\n",
       "    </tr>\n",
       "    <tr>\n",
       "      <th>4</th>\n",
       "      <td>2025-07-24</td>\n",
       "      <td>2025-07-24 19:07:06.410</td>\n",
       "      <td>2019-03-01 00:00:00.000</td>\n",
       "      <td>usumconsh_all_unadjusted_d15_bom_cur</td>\n",
       "      <td>m</td>\n",
       "      <td>0.049041</td>\n",
       "      <td>0.015316</td>\n",
       "      <td>0.033725</td>\n",
       "      <td>-0.038271</td>\n",
       "      <td>0.068903</td>\n",
       "      <td>...</td>\n",
       "      <td>NaN</td>\n",
       "      <td>NaN</td>\n",
       "      <td>NaN</td>\n",
       "      <td>NaN</td>\n",
       "      <td>NaN</td>\n",
       "      <td>NaN</td>\n",
       "      <td>NaN</td>\n",
       "      <td>NaN</td>\n",
       "      <td>NaN</td>\n",
       "      <td>NaN</td>\n",
       "    </tr>\n",
       "    <tr>\n",
       "      <th>...</th>\n",
       "      <td>...</td>\n",
       "      <td>...</td>\n",
       "      <td>...</td>\n",
       "      <td>...</td>\n",
       "      <td>...</td>\n",
       "      <td>...</td>\n",
       "      <td>...</td>\n",
       "      <td>...</td>\n",
       "      <td>...</td>\n",
       "      <td>...</td>\n",
       "      <td>...</td>\n",
       "      <td>...</td>\n",
       "      <td>...</td>\n",
       "      <td>...</td>\n",
       "      <td>...</td>\n",
       "      <td>...</td>\n",
       "      <td>...</td>\n",
       "      <td>...</td>\n",
       "      <td>...</td>\n",
       "      <td>...</td>\n",
       "      <td>...</td>\n",
       "    </tr>\n",
       "    <tr>\n",
       "      <th>76</th>\n",
       "      <td>2025-07-24</td>\n",
       "      <td>2025-07-24 19:07:06.410</td>\n",
       "      <td>2025-03-01 00:00:00.000</td>\n",
       "      <td>usumconsh_all_unadjusted_d15_bom_cur</td>\n",
       "      <td>m</td>\n",
       "      <td>-0.119011</td>\n",
       "      <td>-0.041174</td>\n",
       "      <td>-0.077837</td>\n",
       "      <td>-0.154703</td>\n",
       "      <td>0.072354</td>\n",
       "      <td>...</td>\n",
       "      <td>1.0</td>\n",
       "      <td>0.157343</td>\n",
       "      <td>0.427284</td>\n",
       "      <td>0.008298</td>\n",
       "      <td>0.564418</td>\n",
       "      <td>0.456522</td>\n",
       "      <td>0.0</td>\n",
       "      <td>0.0</td>\n",
       "      <td>0.0</td>\n",
       "      <td>0.030308</td>\n",
       "    </tr>\n",
       "    <tr>\n",
       "      <th>77</th>\n",
       "      <td>2025-07-24</td>\n",
       "      <td>2025-07-24 19:07:06.410</td>\n",
       "      <td>2025-04-01 00:00:00.000</td>\n",
       "      <td>usumconsh_all_unadjusted_d15_bom_cur</td>\n",
       "      <td>m</td>\n",
       "      <td>-0.084211</td>\n",
       "      <td>-0.075971</td>\n",
       "      <td>-0.008239</td>\n",
       "      <td>-0.188762</td>\n",
       "      <td>0.036820</td>\n",
       "      <td>...</td>\n",
       "      <td>1.0</td>\n",
       "      <td>0.132575</td>\n",
       "      <td>0.357824</td>\n",
       "      <td>0.003708</td>\n",
       "      <td>0.638467</td>\n",
       "      <td>0.301938</td>\n",
       "      <td>0.0</td>\n",
       "      <td>0.0</td>\n",
       "      <td>0.0</td>\n",
       "      <td>0.025170</td>\n",
       "    </tr>\n",
       "    <tr>\n",
       "      <th>78</th>\n",
       "      <td>2025-07-24</td>\n",
       "      <td>2025-07-24 19:07:06.410</td>\n",
       "      <td>2025-05-01 00:00:00.000</td>\n",
       "      <td>usumconsh_all_unadjusted_d15_bom_cur</td>\n",
       "      <td>m</td>\n",
       "      <td>0.000000</td>\n",
       "      <td>0.024859</td>\n",
       "      <td>-0.024859</td>\n",
       "      <td>-0.087290</td>\n",
       "      <td>0.137007</td>\n",
       "      <td>...</td>\n",
       "      <td>1.0</td>\n",
       "      <td>0.089189</td>\n",
       "      <td>0.386614</td>\n",
       "      <td>0.120766</td>\n",
       "      <td>0.492620</td>\n",
       "      <td>0.316051</td>\n",
       "      <td>0.0</td>\n",
       "      <td>0.0</td>\n",
       "      <td>0.0</td>\n",
       "      <td>0.017621</td>\n",
       "    </tr>\n",
       "    <tr>\n",
       "      <th>79</th>\n",
       "      <td>2025-07-24</td>\n",
       "      <td>2025-07-24 19:07:06.410</td>\n",
       "      <td>2025-06-01 00:00:00.000</td>\n",
       "      <td>usumconsh_all_unadjusted_d15_bom_cur</td>\n",
       "      <td>m</td>\n",
       "      <td>0.162835</td>\n",
       "      <td>0.010022</td>\n",
       "      <td>0.152813</td>\n",
       "      <td>-0.106693</td>\n",
       "      <td>0.126736</td>\n",
       "      <td>...</td>\n",
       "      <td>1.0</td>\n",
       "      <td>0.132621</td>\n",
       "      <td>0.028913</td>\n",
       "      <td>0.001549</td>\n",
       "      <td>0.969538</td>\n",
       "      <td>0.479890</td>\n",
       "      <td>0.0</td>\n",
       "      <td>0.0</td>\n",
       "      <td>0.0</td>\n",
       "      <td>0.007492</td>\n",
       "    </tr>\n",
       "    <tr>\n",
       "      <th>80</th>\n",
       "      <td>2025-07-24</td>\n",
       "      <td>2025-07-24 19:07:06.410</td>\n",
       "      <td>2025-07-01 00:00:00.000</td>\n",
       "      <td>usumconsh_all_unadjusted_d15_bom_cur</td>\n",
       "      <td>m</td>\n",
       "      <td>NaN</td>\n",
       "      <td>0.006931</td>\n",
       "      <td>NaN</td>\n",
       "      <td>-0.109783</td>\n",
       "      <td>0.123646</td>\n",
       "      <td>...</td>\n",
       "      <td>1.0</td>\n",
       "      <td>0.130196</td>\n",
       "      <td>0.013406</td>\n",
       "      <td>0.002220</td>\n",
       "      <td>0.984373</td>\n",
       "      <td>0.485431</td>\n",
       "      <td>0.0</td>\n",
       "      <td>0.0</td>\n",
       "      <td>0.0</td>\n",
       "      <td>0.005205</td>\n",
       "    </tr>\n",
       "  </tbody>\n",
       "</table>\n",
       "<p>81 rows × 122 columns</p>\n",
       "</div>"
      ],
      "text/plain": [
       "          date                asof_date                timestamp  \\\n",
       "0   2025-07-24  2025-07-24 19:07:06.410  2018-11-01 00:00:00.000   \n",
       "1   2025-07-24  2025-07-24 19:07:06.410  2018-12-01 00:00:00.000   \n",
       "2   2025-07-24  2025-07-24 19:07:06.410  2019-01-01 00:00:00.000   \n",
       "3   2025-07-24  2025-07-24 19:07:06.410  2019-02-01 00:00:00.000   \n",
       "4   2025-07-24  2025-07-24 19:07:06.410  2019-03-01 00:00:00.000   \n",
       "..         ...                      ...                      ...   \n",
       "76  2025-07-24  2025-07-24 19:07:06.410  2025-03-01 00:00:00.000   \n",
       "77  2025-07-24  2025-07-24 19:07:06.410  2025-04-01 00:00:00.000   \n",
       "78  2025-07-24  2025-07-24 19:07:06.410  2025-05-01 00:00:00.000   \n",
       "79  2025-07-24  2025-07-24 19:07:06.410  2025-06-01 00:00:00.000   \n",
       "80  2025-07-24  2025-07-24 19:07:06.410  2025-07-01 00:00:00.000   \n",
       "\n",
       "                              identifier frequency  mom_actual  mom_predicted  \\\n",
       "0   usumconsh_all_unadjusted_d15_bom_cur         m   -0.011156       0.002674   \n",
       "1   usumconsh_all_unadjusted_d15_bom_cur         m    0.008205       0.023589   \n",
       "2   usumconsh_all_unadjusted_d15_bom_cur         m   -0.072228      -0.055519   \n",
       "3   usumconsh_all_unadjusted_d15_bom_cur         m    0.028509      -0.006894   \n",
       "4   usumconsh_all_unadjusted_d15_bom_cur         m    0.049041       0.015316   \n",
       "..                                   ...       ...         ...            ...   \n",
       "76  usumconsh_all_unadjusted_d15_bom_cur         m   -0.119011      -0.041174   \n",
       "77  usumconsh_all_unadjusted_d15_bom_cur         m   -0.084211      -0.075971   \n",
       "78  usumconsh_all_unadjusted_d15_bom_cur         m    0.000000       0.024859   \n",
       "79  usumconsh_all_unadjusted_d15_bom_cur         m    0.162835       0.010022   \n",
       "80  usumconsh_all_unadjusted_d15_bom_cur         m         NaN       0.006931   \n",
       "\n",
       "    mom_difference  mom_ci_lb_95  mom_ci_ub_95  ...  yoy_sign_accuracy_ttm  \\\n",
       "0        -0.013830           NaN           NaN  ...                    NaN   \n",
       "1        -0.015384      0.021435      0.025742  ...                    NaN   \n",
       "2        -0.016709     -0.058343     -0.052694  ...                    NaN   \n",
       "3         0.035403     -0.056643      0.042855  ...                    NaN   \n",
       "4         0.033725     -0.038271      0.068903  ...                    NaN   \n",
       "..             ...           ...           ...  ...                    ...   \n",
       "76       -0.077837     -0.154703      0.072354  ...                    1.0   \n",
       "77       -0.008239     -0.188762      0.036820  ...                    1.0   \n",
       "78       -0.024859     -0.087290      0.137007  ...                    1.0   \n",
       "79        0.152813     -0.106693      0.126736  ...                    1.0   \n",
       "80             NaN     -0.109783      0.123646  ...                    1.0   \n",
       "\n",
       "    yoy_theil_u1_ttm  yoy_theil_u1_bias_ttm  yoy_theil_u1_variance_ttm  \\\n",
       "0                NaN                    NaN                        NaN   \n",
       "1                NaN                    NaN                        NaN   \n",
       "2                NaN                    NaN                        NaN   \n",
       "3                NaN                    NaN                        NaN   \n",
       "4                NaN                    NaN                        NaN   \n",
       "..               ...                    ...                        ...   \n",
       "76          0.157343               0.427284                   0.008298   \n",
       "77          0.132575               0.357824                   0.003708   \n",
       "78          0.089189               0.386614                   0.120766   \n",
       "79          0.132621               0.028913                   0.001549   \n",
       "80          0.130196               0.013406                   0.002220   \n",
       "\n",
       "    yoy_theil_u1_covariance_ttm  yoy_theil_u2_ttm  yoy_hit_rate_1bp_ttm  \\\n",
       "0                           NaN               NaN                   NaN   \n",
       "1                           NaN               NaN                   NaN   \n",
       "2                           NaN               NaN                   NaN   \n",
       "3                           NaN               NaN                   NaN   \n",
       "4                           NaN               NaN                   NaN   \n",
       "..                          ...               ...                   ...   \n",
       "76                     0.564418          0.456522                   0.0   \n",
       "77                     0.638467          0.301938                   0.0   \n",
       "78                     0.492620          0.316051                   0.0   \n",
       "79                     0.969538          0.479890                   0.0   \n",
       "80                     0.984373          0.485431                   0.0   \n",
       "\n",
       "    yoy_hit_rate_5bp_ttm  yoy_hit_rate_10bp_ttm  yoy_forecast_bias_ttm  \n",
       "0                    NaN                    NaN                    NaN  \n",
       "1                    NaN                    NaN                    NaN  \n",
       "2                    NaN                    NaN                    NaN  \n",
       "3                    NaN                    NaN                    NaN  \n",
       "4                    NaN                    NaN                    NaN  \n",
       "..                   ...                    ...                    ...  \n",
       "76                   0.0                    0.0               0.030308  \n",
       "77                   0.0                    0.0               0.025170  \n",
       "78                   0.0                    0.0               0.017621  \n",
       "79                   0.0                    0.0               0.007492  \n",
       "80                   0.0                    0.0               0.005205  \n",
       "\n",
       "[81 rows x 122 columns]"
      ]
     },
     "execution_count": 26,
     "metadata": {},
     "output_type": "execute_result"
    }
   ],
   "source": [
    "df = unifier.get_dataframe(name='lseg_macro_us_core_predictions', key='usumconsh_all_unadjusted_d15_bom_cur', asof_date=None ,back_to=None,up_to=None, limit=None)\n",
    "df"
   ]
  },
  {
   "cell_type": "code",
   "execution_count": null,
   "metadata": {},
   "outputs": [
    {
     "data": {
      "application/vnd.plotly.v1+json": {
       "config": {
        "plotlyServerURL": "https://plot.ly"
       },
       "data": [
        {
         "line": {
          "color": "royalblue"
         },
         "marker": {
          "size": 6,
          "symbol": "circle"
         },
         "mode": "lines+markers",
         "name": "Actual",
         "type": "scatter",
         "x": [
          "2018-11-01 00:00:00.000",
          "2018-12-01 00:00:00.000",
          "2019-01-01 00:00:00.000",
          "2019-02-01 00:00:00.000",
          "2019-03-01 00:00:00.000",
          "2019-04-01 00:00:00.000",
          "2019-05-01 00:00:00.000",
          "2019-06-01 00:00:00.000",
          "2019-07-01 00:00:00.000",
          "2019-08-01 00:00:00.000",
          "2019-09-01 00:00:00.000",
          "2019-10-01 00:00:00.000",
          "2019-11-01 00:00:00.000",
          "2019-12-01 00:00:00.000",
          "2020-01-01 00:00:00.000",
          "2020-02-01 00:00:00.000",
          "2020-03-01 00:00:00.000",
          "2020-04-01 00:00:00.000",
          "2020-05-01 00:00:00.000",
          "2020-06-01 00:00:00.000",
          "2020-07-01 00:00:00.000",
          "2020-08-01 00:00:00.000",
          "2020-09-01 00:00:00.000",
          "2020-10-01 00:00:00.000",
          "2020-11-01 00:00:00.000",
          "2020-12-01 00:00:00.000",
          "2021-01-01 00:00:00.000",
          "2021-02-01 00:00:00.000",
          "2021-03-01 00:00:00.000",
          "2021-04-01 00:00:00.000",
          "2021-05-01 00:00:00.000",
          "2021-06-01 00:00:00.000",
          "2021-07-01 00:00:00.000",
          "2021-08-01 00:00:00.000",
          "2021-09-01 00:00:00.000",
          "2021-10-01 00:00:00.000",
          "2021-11-01 00:00:00.000",
          "2021-12-01 00:00:00.000",
          "2022-01-01 00:00:00.000",
          "2022-02-01 00:00:00.000",
          "2022-03-01 00:00:00.000",
          "2022-04-01 00:00:00.000",
          "2022-05-01 00:00:00.000",
          "2022-06-01 00:00:00.000",
          "2022-07-01 00:00:00.000",
          "2022-08-01 00:00:00.000",
          "2022-09-01 00:00:00.000",
          "2022-10-01 00:00:00.000",
          "2022-11-01 00:00:00.000",
          "2022-12-01 00:00:00.000",
          "2023-01-01 00:00:00.000",
          "2023-02-01 00:00:00.000",
          "2023-03-01 00:00:00.000",
          "2023-04-01 00:00:00.000",
          "2023-05-01 00:00:00.000",
          "2023-06-01 00:00:00.000",
          "2023-07-01 00:00:00.000",
          "2023-08-01 00:00:00.000",
          "2023-09-01 00:00:00.000",
          "2023-10-01 00:00:00.000",
          "2023-11-01 00:00:00.000",
          "2023-12-01 00:00:00.000",
          "2024-01-01 00:00:00.000",
          "2024-02-01 00:00:00.000",
          "2024-03-01 00:00:00.000",
          "2024-04-01 00:00:00.000",
          "2024-05-01 00:00:00.000",
          "2024-06-01 00:00:00.000",
          "2024-07-01 00:00:00.000",
          "2024-08-01 00:00:00.000",
          "2024-09-01 00:00:00.000",
          "2024-10-01 00:00:00.000",
          "2024-11-01 00:00:00.000",
          "2024-12-01 00:00:00.000",
          "2025-01-01 00:00:00.000",
          "2025-02-01 00:00:00.000",
          "2025-03-01 00:00:00.000",
          "2025-04-01 00:00:00.000",
          "2025-05-01 00:00:00.000",
          "2025-06-01 00:00:00.000",
          "2025-07-01 00:00:00.000"
         ],
         "y": {
          "bdata": "AAAAAABgWEAzMzMzM5NYQM3MzMzMzFZAMzMzMzNzV0CamZmZmZlYQM3MzMzMTFhAAAAAAAAAWUDNzMzMzIxYQJqZmZmZmVhAMzMzMzNzVkDNzMzMzExXQAAAAAAA4FdAMzMzMzMzWEAzMzMzM9NYQDMzMzMz81hAAAAAAABAWUBmZmZmZkZWQDMzMzMz81FAMzMzMzMTUkBmZmZmZoZTQAAAAAAAIFJAZmZmZmaGUkCamZmZmRlUQDMzMzMzc1RAmpmZmZk5U0DNzMzMzCxUQAAAAAAAwFNAMzMzMzMzU0CamZmZmTlVQDMzMzMzE1ZAmpmZmZm5VEAAAAAAAGBVQM3MzMzMTFRAMzMzMzOTUUAzMzMzMzNSQM3MzMzM7FFAmpmZmZnZUEBmZmZmZqZRQM3MzMzMzFBAZmZmZmZmT0AzMzMzM7NNQM3MzMzMTFBAMzMzMzMzTUAAAAAAAABJQAAAAAAAwElAmpmZmZkZTUDNzMzMzExNQDMzMzMz801AmpmZmZlZTEBmZmZmZuZNQJqZmZmZOVBAmpmZmZm5UEAAAAAAAABPQJqZmZmZ2U9AAAAAAACATUDNzMzMzAxQQAAAAAAA4FFAmpmZmZlZUUAzMzMzM/NQQGZmZmZm5k9AZmZmZmamTkDNzMzMzGxRQAAAAAAAwFNAmpmZmZk5U0CamZmZmdlTQM3MzMzMTFNAZmZmZmZGUUDNzMzMzAxRQJqZmZmZmVBAmpmZmZn5UEBmZmZmZoZRQAAAAAAAoFFAMzMzMzPzUUAAAAAAAIBSQM3MzMzM7FFAzczMzMwsUEAAAAAAAIBMQJqZmZmZGUpAmpmZmZkZSkCamZmZmVlOQAAAAAAAAPh/",
          "dtype": "f8"
         }
        },
        {
         "line": {
          "color": "firebrick"
         },
         "marker": {
          "size": 6,
          "symbol": "x"
         },
         "mode": "lines+markers",
         "name": "Predicted",
         "type": "scatter",
         "x": [
          "2018-11-01 00:00:00.000",
          "2018-12-01 00:00:00.000",
          "2019-01-01 00:00:00.000",
          "2019-02-01 00:00:00.000",
          "2019-03-01 00:00:00.000",
          "2019-04-01 00:00:00.000",
          "2019-05-01 00:00:00.000",
          "2019-06-01 00:00:00.000",
          "2019-07-01 00:00:00.000",
          "2019-08-01 00:00:00.000",
          "2019-09-01 00:00:00.000",
          "2019-10-01 00:00:00.000",
          "2019-11-01 00:00:00.000",
          "2019-12-01 00:00:00.000",
          "2020-01-01 00:00:00.000",
          "2020-02-01 00:00:00.000",
          "2020-03-01 00:00:00.000",
          "2020-04-01 00:00:00.000",
          "2020-05-01 00:00:00.000",
          "2020-06-01 00:00:00.000",
          "2020-07-01 00:00:00.000",
          "2020-08-01 00:00:00.000",
          "2020-09-01 00:00:00.000",
          "2020-10-01 00:00:00.000",
          "2020-11-01 00:00:00.000",
          "2020-12-01 00:00:00.000",
          "2021-01-01 00:00:00.000",
          "2021-02-01 00:00:00.000",
          "2021-03-01 00:00:00.000",
          "2021-04-01 00:00:00.000",
          "2021-05-01 00:00:00.000",
          "2021-06-01 00:00:00.000",
          "2021-07-01 00:00:00.000",
          "2021-08-01 00:00:00.000",
          "2021-09-01 00:00:00.000",
          "2021-10-01 00:00:00.000",
          "2021-11-01 00:00:00.000",
          "2021-12-01 00:00:00.000",
          "2022-01-01 00:00:00.000",
          "2022-02-01 00:00:00.000",
          "2022-03-01 00:00:00.000",
          "2022-04-01 00:00:00.000",
          "2022-05-01 00:00:00.000",
          "2022-06-01 00:00:00.000",
          "2022-07-01 00:00:00.000",
          "2022-08-01 00:00:00.000",
          "2022-09-01 00:00:00.000",
          "2022-10-01 00:00:00.000",
          "2022-11-01 00:00:00.000",
          "2022-12-01 00:00:00.000",
          "2023-01-01 00:00:00.000",
          "2023-02-01 00:00:00.000",
          "2023-03-01 00:00:00.000",
          "2023-04-01 00:00:00.000",
          "2023-05-01 00:00:00.000",
          "2023-06-01 00:00:00.000",
          "2023-07-01 00:00:00.000",
          "2023-08-01 00:00:00.000",
          "2023-09-01 00:00:00.000",
          "2023-10-01 00:00:00.000",
          "2023-11-01 00:00:00.000",
          "2023-12-01 00:00:00.000",
          "2024-01-01 00:00:00.000",
          "2024-02-01 00:00:00.000",
          "2024-03-01 00:00:00.000",
          "2024-04-01 00:00:00.000",
          "2024-05-01 00:00:00.000",
          "2024-06-01 00:00:00.000",
          "2024-07-01 00:00:00.000",
          "2024-08-01 00:00:00.000",
          "2024-09-01 00:00:00.000",
          "2024-10-01 00:00:00.000",
          "2024-11-01 00:00:00.000",
          "2024-12-01 00:00:00.000",
          "2025-01-01 00:00:00.000",
          "2025-02-01 00:00:00.000",
          "2025-03-01 00:00:00.000",
          "2025-04-01 00:00:00.000",
          "2025-05-01 00:00:00.000",
          "2025-06-01 00:00:00.000",
          "2025-07-01 00:00:00.000"
         ],
         "y": {
          "bdata": "ZiYJnEW3WEAAAHp1MfNYQM3MnmrrNVdAZ2YSWo+kVkAAABQTJc9XQJqZMYdbYVhAmpk3jFwQWEAAAHBphrRYQDMz3uzva1hANDM7cAVeWUBmZq7Q6gxVQDMzHtAMeldAAACuN/AAWEBmZp7zSrxYQJkZPGbFt1hAzcy8Kj+tWEAA6Bw3q0JZQJmZmdazRFNAZmaqlIOQUkDNzJje0PpSQDMzY4mM11JAAACjxwa0UUBmZv5RnARUQAAAzGtLNVRAmZnvZUjvVEA0M2sIXFBTQGdmepfLgFNAAAACT0tGVECZmZnVlBhUQJpZ7/JtIFVAmZl1OB4QV0BnngmgwLxUQAAADNOM4lRAmpmhtnxeU0Bm5lcFdGVRQDMzsz2fTVFAzczVtolXUkBnZujaNmBRQJmZ1/cdW1FAAICr8CLLUEBmZtYvEgNOQM3MpRug001AAADQjjuLT0DNzMwvNnZLQAAAAB3DA0dAAAD1qnEQSkCamfEGMylOQAAAoFYJcktAzcwwT4OOTkBnZmpRID9NQMzMxsssyk1ANLOL2nJkUECaGRfVD9RQQAAA57KAFk9AzUw47PEjUEAAAJjFerJOQAAALKGrVVBAAIAADDsOUkCambsfvDBRQJmZmN37xVBAAABI27LLUEAzM9mIdJdPQGdmAFzQKlJAAAAv7wL0U0CamUe7FdlTQGdmUKP5YFRAzcw0Q1/jUkAzM7R6ox9RQDMzfE3+LlFAZ2aOa7YdUUCa2cga5A9RQAAAukSu2VFAAABxwn8cUkCZmf3TkZpSQAAA4yX2dVJAzcyUmPUVUUBnZvJanARPQAAAkL62VUpAZ2ZaXbK/SkA0M0vQj1xKQM3M5wN0j05A",
          "dtype": "f8"
         }
        }
       ],
       "layout": {
        "height": 500,
        "hovermode": "x unified",
        "legend": {
         "bgcolor": "rgba(255,255,255,0.5)",
         "bordercolor": "gray",
         "x": 0.01,
         "y": 0.99
        },
        "margin": {
         "b": 40,
         "l": 40,
         "r": 20,
         "t": 60
        },
        "template": {
         "data": {
          "bar": [
           {
            "error_x": {
             "color": "#2a3f5f"
            },
            "error_y": {
             "color": "#2a3f5f"
            },
            "marker": {
             "line": {
              "color": "white",
              "width": 0.5
             },
             "pattern": {
              "fillmode": "overlay",
              "size": 10,
              "solidity": 0.2
             }
            },
            "type": "bar"
           }
          ],
          "barpolar": [
           {
            "marker": {
             "line": {
              "color": "white",
              "width": 0.5
             },
             "pattern": {
              "fillmode": "overlay",
              "size": 10,
              "solidity": 0.2
             }
            },
            "type": "barpolar"
           }
          ],
          "carpet": [
           {
            "aaxis": {
             "endlinecolor": "#2a3f5f",
             "gridcolor": "#C8D4E3",
             "linecolor": "#C8D4E3",
             "minorgridcolor": "#C8D4E3",
             "startlinecolor": "#2a3f5f"
            },
            "baxis": {
             "endlinecolor": "#2a3f5f",
             "gridcolor": "#C8D4E3",
             "linecolor": "#C8D4E3",
             "minorgridcolor": "#C8D4E3",
             "startlinecolor": "#2a3f5f"
            },
            "type": "carpet"
           }
          ],
          "choropleth": [
           {
            "colorbar": {
             "outlinewidth": 0,
             "ticks": ""
            },
            "type": "choropleth"
           }
          ],
          "contour": [
           {
            "colorbar": {
             "outlinewidth": 0,
             "ticks": ""
            },
            "colorscale": [
             [
              0,
              "#0d0887"
             ],
             [
              0.1111111111111111,
              "#46039f"
             ],
             [
              0.2222222222222222,
              "#7201a8"
             ],
             [
              0.3333333333333333,
              "#9c179e"
             ],
             [
              0.4444444444444444,
              "#bd3786"
             ],
             [
              0.5555555555555556,
              "#d8576b"
             ],
             [
              0.6666666666666666,
              "#ed7953"
             ],
             [
              0.7777777777777778,
              "#fb9f3a"
             ],
             [
              0.8888888888888888,
              "#fdca26"
             ],
             [
              1,
              "#f0f921"
             ]
            ],
            "type": "contour"
           }
          ],
          "contourcarpet": [
           {
            "colorbar": {
             "outlinewidth": 0,
             "ticks": ""
            },
            "type": "contourcarpet"
           }
          ],
          "heatmap": [
           {
            "colorbar": {
             "outlinewidth": 0,
             "ticks": ""
            },
            "colorscale": [
             [
              0,
              "#0d0887"
             ],
             [
              0.1111111111111111,
              "#46039f"
             ],
             [
              0.2222222222222222,
              "#7201a8"
             ],
             [
              0.3333333333333333,
              "#9c179e"
             ],
             [
              0.4444444444444444,
              "#bd3786"
             ],
             [
              0.5555555555555556,
              "#d8576b"
             ],
             [
              0.6666666666666666,
              "#ed7953"
             ],
             [
              0.7777777777777778,
              "#fb9f3a"
             ],
             [
              0.8888888888888888,
              "#fdca26"
             ],
             [
              1,
              "#f0f921"
             ]
            ],
            "type": "heatmap"
           }
          ],
          "histogram": [
           {
            "marker": {
             "pattern": {
              "fillmode": "overlay",
              "size": 10,
              "solidity": 0.2
             }
            },
            "type": "histogram"
           }
          ],
          "histogram2d": [
           {
            "colorbar": {
             "outlinewidth": 0,
             "ticks": ""
            },
            "colorscale": [
             [
              0,
              "#0d0887"
             ],
             [
              0.1111111111111111,
              "#46039f"
             ],
             [
              0.2222222222222222,
              "#7201a8"
             ],
             [
              0.3333333333333333,
              "#9c179e"
             ],
             [
              0.4444444444444444,
              "#bd3786"
             ],
             [
              0.5555555555555556,
              "#d8576b"
             ],
             [
              0.6666666666666666,
              "#ed7953"
             ],
             [
              0.7777777777777778,
              "#fb9f3a"
             ],
             [
              0.8888888888888888,
              "#fdca26"
             ],
             [
              1,
              "#f0f921"
             ]
            ],
            "type": "histogram2d"
           }
          ],
          "histogram2dcontour": [
           {
            "colorbar": {
             "outlinewidth": 0,
             "ticks": ""
            },
            "colorscale": [
             [
              0,
              "#0d0887"
             ],
             [
              0.1111111111111111,
              "#46039f"
             ],
             [
              0.2222222222222222,
              "#7201a8"
             ],
             [
              0.3333333333333333,
              "#9c179e"
             ],
             [
              0.4444444444444444,
              "#bd3786"
             ],
             [
              0.5555555555555556,
              "#d8576b"
             ],
             [
              0.6666666666666666,
              "#ed7953"
             ],
             [
              0.7777777777777778,
              "#fb9f3a"
             ],
             [
              0.8888888888888888,
              "#fdca26"
             ],
             [
              1,
              "#f0f921"
             ]
            ],
            "type": "histogram2dcontour"
           }
          ],
          "mesh3d": [
           {
            "colorbar": {
             "outlinewidth": 0,
             "ticks": ""
            },
            "type": "mesh3d"
           }
          ],
          "parcoords": [
           {
            "line": {
             "colorbar": {
              "outlinewidth": 0,
              "ticks": ""
             }
            },
            "type": "parcoords"
           }
          ],
          "pie": [
           {
            "automargin": true,
            "type": "pie"
           }
          ],
          "scatter": [
           {
            "fillpattern": {
             "fillmode": "overlay",
             "size": 10,
             "solidity": 0.2
            },
            "type": "scatter"
           }
          ],
          "scatter3d": [
           {
            "line": {
             "colorbar": {
              "outlinewidth": 0,
              "ticks": ""
             }
            },
            "marker": {
             "colorbar": {
              "outlinewidth": 0,
              "ticks": ""
             }
            },
            "type": "scatter3d"
           }
          ],
          "scattercarpet": [
           {
            "marker": {
             "colorbar": {
              "outlinewidth": 0,
              "ticks": ""
             }
            },
            "type": "scattercarpet"
           }
          ],
          "scattergeo": [
           {
            "marker": {
             "colorbar": {
              "outlinewidth": 0,
              "ticks": ""
             }
            },
            "type": "scattergeo"
           }
          ],
          "scattergl": [
           {
            "marker": {
             "colorbar": {
              "outlinewidth": 0,
              "ticks": ""
             }
            },
            "type": "scattergl"
           }
          ],
          "scattermap": [
           {
            "marker": {
             "colorbar": {
              "outlinewidth": 0,
              "ticks": ""
             }
            },
            "type": "scattermap"
           }
          ],
          "scattermapbox": [
           {
            "marker": {
             "colorbar": {
              "outlinewidth": 0,
              "ticks": ""
             }
            },
            "type": "scattermapbox"
           }
          ],
          "scatterpolar": [
           {
            "marker": {
             "colorbar": {
              "outlinewidth": 0,
              "ticks": ""
             }
            },
            "type": "scatterpolar"
           }
          ],
          "scatterpolargl": [
           {
            "marker": {
             "colorbar": {
              "outlinewidth": 0,
              "ticks": ""
             }
            },
            "type": "scatterpolargl"
           }
          ],
          "scatterternary": [
           {
            "marker": {
             "colorbar": {
              "outlinewidth": 0,
              "ticks": ""
             }
            },
            "type": "scatterternary"
           }
          ],
          "surface": [
           {
            "colorbar": {
             "outlinewidth": 0,
             "ticks": ""
            },
            "colorscale": [
             [
              0,
              "#0d0887"
             ],
             [
              0.1111111111111111,
              "#46039f"
             ],
             [
              0.2222222222222222,
              "#7201a8"
             ],
             [
              0.3333333333333333,
              "#9c179e"
             ],
             [
              0.4444444444444444,
              "#bd3786"
             ],
             [
              0.5555555555555556,
              "#d8576b"
             ],
             [
              0.6666666666666666,
              "#ed7953"
             ],
             [
              0.7777777777777778,
              "#fb9f3a"
             ],
             [
              0.8888888888888888,
              "#fdca26"
             ],
             [
              1,
              "#f0f921"
             ]
            ],
            "type": "surface"
           }
          ],
          "table": [
           {
            "cells": {
             "fill": {
              "color": "#EBF0F8"
             },
             "line": {
              "color": "white"
             }
            },
            "header": {
             "fill": {
              "color": "#C8D4E3"
             },
             "line": {
              "color": "white"
             }
            },
            "type": "table"
           }
          ]
         },
         "layout": {
          "annotationdefaults": {
           "arrowcolor": "#2a3f5f",
           "arrowhead": 0,
           "arrowwidth": 1
          },
          "autotypenumbers": "strict",
          "coloraxis": {
           "colorbar": {
            "outlinewidth": 0,
            "ticks": ""
           }
          },
          "colorscale": {
           "diverging": [
            [
             0,
             "#8e0152"
            ],
            [
             0.1,
             "#c51b7d"
            ],
            [
             0.2,
             "#de77ae"
            ],
            [
             0.3,
             "#f1b6da"
            ],
            [
             0.4,
             "#fde0ef"
            ],
            [
             0.5,
             "#f7f7f7"
            ],
            [
             0.6,
             "#e6f5d0"
            ],
            [
             0.7,
             "#b8e186"
            ],
            [
             0.8,
             "#7fbc41"
            ],
            [
             0.9,
             "#4d9221"
            ],
            [
             1,
             "#276419"
            ]
           ],
           "sequential": [
            [
             0,
             "#0d0887"
            ],
            [
             0.1111111111111111,
             "#46039f"
            ],
            [
             0.2222222222222222,
             "#7201a8"
            ],
            [
             0.3333333333333333,
             "#9c179e"
            ],
            [
             0.4444444444444444,
             "#bd3786"
            ],
            [
             0.5555555555555556,
             "#d8576b"
            ],
            [
             0.6666666666666666,
             "#ed7953"
            ],
            [
             0.7777777777777778,
             "#fb9f3a"
            ],
            [
             0.8888888888888888,
             "#fdca26"
            ],
            [
             1,
             "#f0f921"
            ]
           ],
           "sequentialminus": [
            [
             0,
             "#0d0887"
            ],
            [
             0.1111111111111111,
             "#46039f"
            ],
            [
             0.2222222222222222,
             "#7201a8"
            ],
            [
             0.3333333333333333,
             "#9c179e"
            ],
            [
             0.4444444444444444,
             "#bd3786"
            ],
            [
             0.5555555555555556,
             "#d8576b"
            ],
            [
             0.6666666666666666,
             "#ed7953"
            ],
            [
             0.7777777777777778,
             "#fb9f3a"
            ],
            [
             0.8888888888888888,
             "#fdca26"
            ],
            [
             1,
             "#f0f921"
            ]
           ]
          },
          "colorway": [
           "#636efa",
           "#EF553B",
           "#00cc96",
           "#ab63fa",
           "#FFA15A",
           "#19d3f3",
           "#FF6692",
           "#B6E880",
           "#FF97FF",
           "#FECB52"
          ],
          "font": {
           "color": "#2a3f5f"
          },
          "geo": {
           "bgcolor": "white",
           "lakecolor": "white",
           "landcolor": "white",
           "showlakes": true,
           "showland": true,
           "subunitcolor": "#C8D4E3"
          },
          "hoverlabel": {
           "align": "left"
          },
          "hovermode": "closest",
          "mapbox": {
           "style": "light"
          },
          "paper_bgcolor": "white",
          "plot_bgcolor": "white",
          "polar": {
           "angularaxis": {
            "gridcolor": "#EBF0F8",
            "linecolor": "#EBF0F8",
            "ticks": ""
           },
           "bgcolor": "white",
           "radialaxis": {
            "gridcolor": "#EBF0F8",
            "linecolor": "#EBF0F8",
            "ticks": ""
           }
          },
          "scene": {
           "xaxis": {
            "backgroundcolor": "white",
            "gridcolor": "#DFE8F3",
            "gridwidth": 2,
            "linecolor": "#EBF0F8",
            "showbackground": true,
            "ticks": "",
            "zerolinecolor": "#EBF0F8"
           },
           "yaxis": {
            "backgroundcolor": "white",
            "gridcolor": "#DFE8F3",
            "gridwidth": 2,
            "linecolor": "#EBF0F8",
            "showbackground": true,
            "ticks": "",
            "zerolinecolor": "#EBF0F8"
           },
           "zaxis": {
            "backgroundcolor": "white",
            "gridcolor": "#DFE8F3",
            "gridwidth": 2,
            "linecolor": "#EBF0F8",
            "showbackground": true,
            "ticks": "",
            "zerolinecolor": "#EBF0F8"
           }
          },
          "shapedefaults": {
           "line": {
            "color": "#2a3f5f"
           }
          },
          "ternary": {
           "aaxis": {
            "gridcolor": "#DFE8F3",
            "linecolor": "#A2B1C6",
            "ticks": ""
           },
           "baxis": {
            "gridcolor": "#DFE8F3",
            "linecolor": "#A2B1C6",
            "ticks": ""
           },
           "bgcolor": "white",
           "caxis": {
            "gridcolor": "#DFE8F3",
            "linecolor": "#A2B1C6",
            "ticks": ""
           }
          },
          "title": {
           "x": 0.05
          },
          "xaxis": {
           "automargin": true,
           "gridcolor": "#EBF0F8",
           "linecolor": "#EBF0F8",
           "ticks": "",
           "title": {
            "standoff": 15
           },
           "zerolinecolor": "#EBF0F8",
           "zerolinewidth": 2
          },
          "yaxis": {
           "automargin": true,
           "gridcolor": "#EBF0F8",
           "linecolor": "#EBF0F8",
           "ticks": "",
           "title": {
            "standoff": 15
           },
           "zerolinecolor": "#EBF0F8",
           "zerolinewidth": 2
          }
         }
        },
        "title": {
         "text": "usumconsh_all_unadjusted_d15_bom_cur - Index Level"
        },
        "xaxis": {
         "tickangle": 45,
         "tickformat": "%Y-%m",
         "title": {
          "text": "Time"
         }
        },
        "yaxis": {
         "title": {
          "text": "Change"
         }
        }
       }
      }
     },
     "metadata": {},
     "output_type": "display_data"
    }
   ],
   "source": [
    "plot_forecasts(df.sort_values('timestamp'),plot_type='index')"
   ]
  }
 ],
 "metadata": {
  "kernelspec": {
   "display_name": "base",
   "language": "python",
   "name": "python3"
  },
  "language_info": {
   "codemirror_mode": {
    "name": "ipython",
    "version": 3
   },
   "file_extension": ".py",
   "mimetype": "text/x-python",
   "name": "python",
   "nbconvert_exporter": "python",
   "pygments_lexer": "ipython3",
   "version": "3.13.2"
  }
 },
 "nbformat": 4,
 "nbformat_minor": 2
}
